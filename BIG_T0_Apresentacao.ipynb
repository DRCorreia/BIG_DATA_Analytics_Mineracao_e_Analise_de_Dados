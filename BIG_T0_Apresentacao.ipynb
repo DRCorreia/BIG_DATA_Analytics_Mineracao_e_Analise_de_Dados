{
  "nbformat": 4,
  "nbformat_minor": 0,
  "metadata": {
    "kernelspec": {
      "display_name": "Python 3",
      "language": "python",
      "name": "python3"
    },
    "language_info": {
      "codemirror_mode": {
        "name": "ipython",
        "version": 3
      },
      "file_extension": ".py",
      "mimetype": "text/x-python",
      "name": "python",
      "nbconvert_exporter": "python",
      "pygments_lexer": "ipython3",
      "version": "3.7.6"
    },
    "latex_metadata": {
      "author": "Andreas C. M\\\"ller",
      "title": "Machine Learning with Python"
    },
    "colab": {
      "name": "BIG_T0_Apresentacao.ipynb",
      "provenance": [],
      "collapsed_sections": [],
      "include_colab_link": true
    }
  },
  "cells": [
    {
      "cell_type": "markdown",
      "metadata": {
        "id": "view-in-github",
        "colab_type": "text"
      },
      "source": [
        "<a href=\"https://colab.research.google.com/github/Rogerio-mack/BIG_DATA_Analytics_Mineracao_e_Analise_de_Dados/blob/main/BIG_T0_Apresentacao.ipynb\" target=\"_parent\"><img src=\"https://colab.research.google.com/assets/colab-badge.svg\" alt=\"Open In Colab\"/></a>"
      ]
    },
    {
      "cell_type": "markdown",
      "metadata": {
        "id": "J3LMBfpeHTwb"
      },
      "source": [
        "<head>\n",
        "  <meta name=\"author\" content=\"Rogério de Oliveira\">\n",
        "  <meta institution=\"author\" content=\"Universidade Presbiteriana Mackenzie\">\n",
        "</head>\n",
        "\n",
        "<img src=\"http://meusite.mackenzie.br/rogerio/mackenzie_logo/UPM.2_horizontal_vermelho.jpg\" width=300, align=\"right\">\n",
        "<!-- <h1 align=left><font size = 6, style=\"color:rgb(200,0,0)\"> optional title </font></h1> -->\n"
      ]
    },
    {
      "cell_type": "markdown",
      "metadata": {
        "id": "zQX8WQPeHTwc"
      },
      "source": [
        "# **BIG DATA Analytics: Mineração e Análise de Dados**\n",
        "---\n",
        "*Rogério de Oliveira*\n"
      ]
    },
    {
      "cell_type": "markdown",
      "metadata": {
        "id": "Lc3bFUWy-iRu"
      },
      "source": [
        "# Apresentação da Componente Curricular\n",
        "\n",
        "Nesta componente você vai entender os principais conceitos de Aprendizagem de Máquina. Você entenderá alguns os princípios do aprendizado de máquina, como sobreajuste, generalização e o papel da otimização nesse aprendizado. Irá conhecer e explorar modelos Supervisionados e não Supervisionados de Aprendizado e aplicá-los nas tarefas mais comuns de Regressão, Classificação e Clusterização de Dados. Verá também princípios de técnicas de Mineração de Regras de Associação, Sistemas de Recomendação e de Modelos Neurais. Para todos esses conceitos você irá implementar soluções práticas empregando os principais pacotes `Python` para o aprendizado de máquina, como o `scikit-learn`.\n",
        "\n",
        "## Como empregar este material\n",
        "\n",
        "Ao longo de texto apresentamos e exploramos os conceitos com várias  implementações em `Python` e seu pacotes. Mas **este não é um curso de programação**. Nosso foco é nos conceitos do Aprendizado de Máquina e o uso de implementações aqui é útil para explorarmos e aprofundarmos os conceitos aprendidos. Assim, você pode apreciar e compreender vários dos conceitos que serão apresentados com uma simples *leitura diagonal* dos códigos e os exercícios e atividades propostos irão requerer apenas o reuso de códigos e soluções prontas, com pequenas adaptações a cada problema, que propriamente a codificação e implementação de soluções completas.\n",
        "\n",
        "De qualquer modo, como outros textos que incluem programação, o código é parte integrante do texto e é importante que você acompanhe a leitura dos códigos fornecidos com execuções, experimentações e se tiver interesse, consultando a documentação das api's e pacotes empregados. O texto discute o que é essencial nos códigos mas não discute cada comando e detalhe da codificação. Isso pode ser lido diretamente no código dos programas, e opções menos importantes podem ser exploradas pelo leitor na documentação dos pacotes.\n",
        "\n",
        "Em cada trilha você ainda vai encontrar sugestões de consultas *Para Saber Mais* e referências, muitas delas eletrônicas para seu fácil acesso. Em todas as trilhas (exceto a trilha 1) você vai encontrar também casos práticos de implementação.\n",
        "\n",
        "## Programa \n",
        "\n",
        "Os conteúdos da disciplina estão divididos do seguinte modo, e consideramos útil adicionar também os casos e principais algoritmos empregados em cada uma das 8 trilhas de aprendizagem:\n",
        "\n"
      ]
    },
    {
      "cell_type": "markdown",
      "metadata": {
        "id": "UqZAg42J6idZ"
      },
      "source": [
        "0. [**Apresentação**](https://colab.research.google.com/github/Rogerio-mack/BIG_DATA_Analytics_Mineracao_e_Analise_de_Dados/blob/main/BIG_T0_Apresentacao.ipynb)\n",
        "1. [**Introdução: Mineração, Ciência de Dados e o Aprendizado de Máquina**](https://colab.research.google.com/github/Rogerio-mack/BIG_DATA_Analytics_Mineracao_e_Analise_de_Dados/blob/main/BIG_T1_Introducao_a_Ciencia_de_Dados_e_ML.ipynb)\n",
        "2. [**Regressão e Classificação: Regressão Linear e Logística**](https://colab.research.google.com/github/Rogerio-mack/BIG_DATA_Analytics_Mineracao_e_Analise_de_Dados/blob/main/BIG_T2_Regressao_e_Classificacao.ipynb)\n",
        "3. [**Classificação e Métricas**](https://colab.research.google.com/github/Rogerio-mack/BIG_DATA_Analytics_Mineracao_e_Analise_de_Dados/blob/main/BIG_T3_Classificacao_e_Metricas.ipynb)\n",
        "4. [**K-Vizinhos Mais Próximos, Validação Cruzada e GridSearch**](https://colab.research.google.com/github/Rogerio-mack/BIG_DATA_Analytics_Mineracao_e_Analise_de_Dados/blob/main/BIG_T4_Knn_CV_GridSearch.ipynb) \n",
        "5. [**Árvores de Decisão, Seleção de Atributos e outros Classificadores**](https://colab.research.google.com/github/Rogerio-mack/BIG_DATA_Analytics_Mineracao_e_Analise_de_Dados/blob/main/BIG_T5_DecisionTrees_MutualInfo_others.ipynb)\n",
        "6. [**Aprendizado não Supervisionado: Clustering**](https://colab.research.google.com/github/Rogerio-mack/BIG_DATA_Analytics_Mineracao_e_Analise_de_Dados/blob/main/BIG_T6_Clustering.ipynb) \n",
        "7. [**Aprendizado não Supervisionado: Regras de Associação e Filtros de Conteúdo**](https://colab.research.google.com/github/Rogerio-mack/BIG_DATA_Analytics_Mineracao_e_Analise_de_Dados/blob/main/BIG_T7_Regras_de_Associacao_e_Filtros.ipynb) \n",
        "8. [**Redes Neurais e Deep Learning**](https://colab.research.google.com/github/Rogerio-mack/BIG_DATA_Analytics_Mineracao_e_Analise_de_Dados/blob/main/BIG_T8_Modelos_Neurais.ipynb)\n",
        "\n",
        "<br>\n",
        "<br>\n",
        "\n",
        "| Trilha | Casos Práticos                                                          | Principais Algoritmos          |\n",
        "|--------|-------------------------------------------------------------------------|--------------------------------|\n",
        "| 1.     | -                                                                       | -                              |\n",
        "| 2.     | CASO: Estimando o Preço de   Veículos                                   | Regressão Linear               |\n",
        "|        | CASO:   Estimando o tipo de Transmissão dos Veículos                    | Regressão Logística            |\n",
        "| 3.     | CASO: 10 year risk of coronary heart disease CHD                        | Regressão Logística            |\n",
        "| 4.     | CASO: Breast Cancer biopsy                                              | K-Vizinhos mais Próximos       |\n",
        "| 5.     | CASO: Classifying Political Parties Based on Congressional Votes        | Decision Trees & Random Forest |\n",
        "| 6.     | CASO: Segmentando Estados para   Políticas e Campanhas de não Violência | K-Médias                       |\n",
        "|        | CASO:   Wholesale Customer Data                                         | Clustering Hierárquico         |\n",
        "| 7.     | CASO: UK Online Retail Data Set                                         | Apriori                        |\n",
        "|        | CASO:   Spotify Music Recommendation                                    | Knn não Supervisionado         |\n",
        "| 8.     | CASO: Kyphosis Diagnostic                                               | MLP e Deep Learning            |\n",
        "\n",
        "\n",
        "\n",
        "\n",
        "\n",
        "\n",
        "\n",
        "\n"
      ]
    },
    {
      "cell_type": "markdown",
      "metadata": {
        "id": "-_DAxNuCKjon"
      },
      "source": [
        "# Atividades de Aprofundamento\n",
        "\n",
        "Ao final dessas atividades você terá implementado e discutido ao menos um modelo de regressão, um de classificação e um de clusterização de dados.\n",
        "\n",
        "* [1. Regressão com `statsmodels`](https://colab.research.google.com/github/Rogerio-mack/BIG_DATA_Analytics_Mineracao_e_Analise_de_Dados/blob/main/BIG_A1_LinearRegressionStatsmodels.ipynb)\n",
        "* [2. Discussão: Multicolinearidade, Hotencode e R2-ajustado](https://colab.research.google.com/github/Rogerio-mack/BIG_DATA_Analytics_Mineracao_e_Analise_de_Dados/blob/main/BIG_A2_LinearRegressionDiscussao.ipynb)\n",
        "* [3. Classificação com `scikit-learn`](https://colab.research.google.com/github/Rogerio-mack/BIG_DATA_Analytics_Mineracao_e_Analise_de_Dados/blob/main/BIG_A3_Classificacao.ipynb)\n",
        "* [4. Discussão: Seleção de Modelos](https://colab.research.google.com/github/Rogerio-mack/BIG_DATA_Analytics_Mineracao_e_Analise_de_Dados/blob/main/BIG_A4_ClassificacaoDiscussao.ipynb)\n",
        "* [5. Clusterização com `scikit-learn`](https://colab.research.google.com/github/Rogerio-mack/BIG_DATA_Analytics_Mineracao_e_Analise_de_Dados/blob/main/BIG_A5_Clustering.ipynb)\n",
        "* [6. Discussão: Clusters, métricas e Classificação](https://colab.research.google.com/github/Rogerio-mack/BIG_DATA_Analytics_Mineracao_e_Analise_de_Dados/blob/main/BIG_A6_ClusteringDiscussao.ipynb)\n"
      ]
    },
    {
      "cell_type": "markdown",
      "metadata": {
        "id": "8ZK38TbJ6wwa"
      },
      "source": [
        "# Principais Referências\n",
        "\n",
        "Alpaydin, E. **Machine Learning** (The MIT Press Essential Knowledge). The MIT Press. 2019.\n",
        "\n",
        "Aston Zhang and Zachary C. Lipton and Mu Li and Alexander J. Smola. **Dive into Deep Learning** (2020). Disponível em: https://d2l.ai/index.html Acesso em: 21 de abril de 2021.\n",
        "\n",
        "Fridman, L. **MIT Deep Learning Basics: Introduction and Overview with TensorFlow**. Disponível em: https://blog.tensorflow.org/2019/02/mit-deep-learning-basics-introduction-tensorflow.html Acesso em: 21 de abril de 2021.\n",
        "\n",
        "Géron, A. **Hands-on machine learning with Scikit-Learn, Keras and TensorFlow: concepts, tools, and techniques to build intelligent systems**, 2nd ed. (2019) O'Reilly\n",
        "\n",
        "Ian Goodfellow and Yoshua Bengio and Aaron Courville, **Deep Learning**. MIT Press (2016). Also available online: http://www.deeplearningbook.org. \n",
        "\n",
        "Jake VanderPlas. **Python Data Science Handbook**  O'Reilly Media, Inc. (2016). ISBN: 9781491912058. Disponível em: https://jakevdp.github.io/PythonDataScienceHandbook/. Acesso: 06 de Novembro de 2021.\n",
        "\n",
        "Kelleher, J. D.; Tierney, Brendan. **Data Science** (The MIT Press Essential Knowledge). The MIT Press. 2018.\n",
        "\n",
        "Kelleher, J. D. **Deep Learning** (2018) The MIT Press.\n",
        "\n",
        "Koren, Y., Bell, R., & Volinsky, C. (2009). **Matrix Factorization Techniques for Recommender Systems**. Computer, 42(8), 30–37. doi:10.1109/mc.2009.263\n",
        "\n",
        "Kotu, Vijay; Deshpande, Balachandre **Data Science: concepts and practice**. 2nd ed. Cambridge, [England]: Morgan Kaufmann, c2019. E-book (570 p.) ISBN 9780128147627 (electronic bk.). Disponível em: http://pergamum.mackenzie.br:8080/pergamumweb/vinculos/00003c/00003cef.jpg.\n",
        "\n",
        "Larose, Chantal D.; Larose, Daniel T. **Data Science Using Python and R** Hoboken: Wiley, c2019. E-book (259 p.) (Wiley Series on Methods and Applications in Data Mining Ser.). ISBN 9781119526834 (electronic bk.). Disponível em: https://www3.mackenzie.br/biblioteca_virtual/index.php?tipoBiblio=ebookcentral&flashObg=n\n",
        "\n",
        "Manapat, Michael. **Introduction to Machine Learning with Python**. Em An Introduction to Machine Learning. EMag Edição 50 (Abr 2017)\n",
        "\n",
        "Molnar Christoph, **Interpretable Machine Learning: \n",
        "A Guide for Making Black Box Models Explainable** Disponível em: https://christophm.github.io/interpretable-ml-book/ Acesso em: 06 de Novembro de 2021.\n",
        "\n",
        "Oliveira, R. de. **Probabilidade e Estatística Aplicada com R** Disponível em: https://github.com/Rogerio-mack/Probabilidade-Estatistica-Aplicada-R Acesso em: 06 de Novembro de 2021.\n",
        "\n",
        "Oliveira, R. de. **Deep Learning I** Disponível em: https://github.com/Rogerio-mack/Deep-Learning-I  Acesso em: 16 de novembro de 2021.\n",
        "\n",
        "Peikari, M., Salama, S., Nofech-Mozes, S. et al. **A Cluster-then-label Semi-supervised Learning Approach for Pathology Image Classification**. Sci Rep 8, 7193 (2018). https://doi.org/10.1038/s41598-018-24876-0 \n",
        "\n",
        "Schrage, M. **Recommendation Engines** (The MIT Press Essential Knowledge). The MIT Press. 2020.\n",
        "\n",
        "Skansi, S. **Introduction Deep Learning** (2018) Springer.\n",
        "\n",
        "Tan, P.-N., Steinbach, M.,, Kumar, V. (2005). **Introduction to Data Mining. **Addison Wesley. ISBN: 0321321367 e também o Book Site, Disponível em: https://www-users.cse.umn.edu/~kumar001/dmbook/index.php Acesso em: 16 de novembro de 2021.\n",
        "\n",
        "___. **An introduction to machine learning with scikit-learn** Disponível em: https://scikit-learn.org/stable/tutorial/basic/tutorial.html Acesso em: 06 de Novembro de 2021.\n",
        "\n",
        "___. **scikit-learn: machine learning in Python** Disponível em: http://scipy-lectures.org/packages/scikit-learn/index.html Acesso em: 06 de Novembro de 2021.\n"
      ]
    }
  ]
}