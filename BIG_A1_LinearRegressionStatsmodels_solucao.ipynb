{
  "nbformat": 4,
  "nbformat_minor": 0,
  "metadata": {
    "colab": {
      "name": "BIG_A1_LinearRegressionStatsmodels_solucao.ipynb",
      "provenance": [],
      "collapsed_sections": [],
      "include_colab_link": true
    },
    "kernelspec": {
      "name": "python3",
      "display_name": "Python 3"
    }
  },
  "cells": [
    {
      "cell_type": "markdown",
      "metadata": {
        "id": "view-in-github",
        "colab_type": "text"
      },
      "source": [
        "<a href=\"https://colab.research.google.com/github/Rogerio-mack/BIG_DATA_Analytics_Mineracao_e_Analise_de_Dados/blob/main/BIG_A1_LinearRegressionStatsmodels_solucao.ipynb\" target=\"_parent\"><img src=\"https://colab.research.google.com/assets/colab-badge.svg\" alt=\"Open In Colab\"/></a>"
      ]
    },
    {
      "cell_type": "markdown",
      "metadata": {
        "id": "J3LMBfpeHTwb"
      },
      "source": [
        "<head>\n",
        "  <meta name=\"author\" content=\"Rogério de Oliveira\">\n",
        "  <meta institution=\"author\" content=\"Universidade Presbiteriana Mackenzie\">\n",
        "</head>\n",
        "\n",
        "<img src=\"http://meusite.mackenzie.br/rogerio/mackenzie_logo/UPM.2_horizontal_vermelho.jpg\" width=300, align=\"right\">\n",
        "<!-- <h1 align=left><font size = 6, style=\"color:rgb(200,0,0)\"> optional title </font></h1> -->\n"
      ]
    },
    {
      "cell_type": "markdown",
      "metadata": {
        "id": "zQX8WQPeHTwc"
      },
      "source": [
        "# **Tarefa de Aprofundamento 1** \n",
        "## CASO: Estimando o Preço de Imóveis em São Paulo\n",
        "---\n",
        "**Solução**\n",
        "\n",
        "\n",
        "\n"
      ]
    },
    {
      "cell_type": "markdown",
      "metadata": {
        "id": "Py6w383Wz2xs"
      },
      "source": [
        "A partir deste notebook crie um modelo de regressão múltipla com a biblioteca `statsmodels` para predição de preço de imóveis com base no histórico de preços e características de vários imóveis de São Paulo. \n",
        "\n",
        "Em seguida, com base nos seus resultados, responda o **questionário do Moodle**. "
      ]
    },
    {
      "cell_type": "markdown",
      "metadata": {
        "id": "nGZH-j05q8WZ"
      },
      "source": [
        "# Basic imports"
      ]
    },
    {
      "cell_type": "code",
      "metadata": {
        "id": "T6FFPMh10lvO"
      },
      "source": [
        "import numpy as np\n",
        "import pandas as pd\n",
        "import matplotlib.pyplot as plt\n",
        "%matplotlib inline\n",
        "import seaborn as sns"
      ],
      "execution_count": 91,
      "outputs": []
    },
    {
      "cell_type": "markdown",
      "metadata": {
        "id": "xir7T5-tsJJa"
      },
      "source": [
        "# Exploração dos Dados"
      ]
    },
    {
      "cell_type": "markdown",
      "metadata": {
        "id": "R4T821bBttsU"
      },
      "source": [
        "Entenda os dados disponíveis e em seguida faça as transformações necessárias nos dados. Quantidades dos dados, se existem valores nulos e valores máximos e mínimos dos atributos são algumas explorações comuns. "
      ]
    },
    {
      "cell_type": "markdown",
      "metadata": {
        "id": "bM4fPIXvstYK"
      },
      "source": [
        "(Moodle) **Q1**. Quantos bairros existem no histórico e qual o bairro mais presente nos dados?\n",
        "\n"
      ]
    },
    {
      "cell_type": "code",
      "metadata": {
        "colab": {
          "base_uri": "https://localhost:8080/",
          "height": 204
        },
        "id": "1rI9MHBaO9qR",
        "outputId": "e2d16202-46d4-4245-bc42-b688339c5ffa"
      },
      "source": [
        "df = pd.read_excel('http://meusite.mackenzie.br/rogerio/data_load/regressao_preco_imoveis.xlsx')\n",
        "df.head()"
      ],
      "execution_count": 92,
      "outputs": [
        {
          "output_type": "execute_result",
          "data": {
            "text/html": [
              "<div>\n",
              "<style scoped>\n",
              "    .dataframe tbody tr th:only-of-type {\n",
              "        vertical-align: middle;\n",
              "    }\n",
              "\n",
              "    .dataframe tbody tr th {\n",
              "        vertical-align: top;\n",
              "    }\n",
              "\n",
              "    .dataframe thead th {\n",
              "        text-align: right;\n",
              "    }\n",
              "</style>\n",
              "<table border=\"1\" class=\"dataframe\">\n",
              "  <thead>\n",
              "    <tr style=\"text-align: right;\">\n",
              "      <th></th>\n",
              "      <th>bairro</th>\n",
              "      <th>areaM2</th>\n",
              "      <th>suites</th>\n",
              "      <th>dormitorios</th>\n",
              "      <th>banheiros</th>\n",
              "      <th>vagas</th>\n",
              "      <th>preco</th>\n",
              "    </tr>\n",
              "  </thead>\n",
              "  <tbody>\n",
              "    <tr>\n",
              "      <th>0</th>\n",
              "      <td>vila-nova-conceicao</td>\n",
              "      <td>32</td>\n",
              "      <td>1</td>\n",
              "      <td>1</td>\n",
              "      <td>1</td>\n",
              "      <td>1</td>\n",
              "      <td>490000</td>\n",
              "    </tr>\n",
              "    <tr>\n",
              "      <th>1</th>\n",
              "      <td>vila-nova-conceicao</td>\n",
              "      <td>157</td>\n",
              "      <td>2</td>\n",
              "      <td>2</td>\n",
              "      <td>2</td>\n",
              "      <td>2</td>\n",
              "      <td>3180000</td>\n",
              "    </tr>\n",
              "    <tr>\n",
              "      <th>2</th>\n",
              "      <td>vila-nova-conceicao</td>\n",
              "      <td>205</td>\n",
              "      <td>2</td>\n",
              "      <td>3</td>\n",
              "      <td>3</td>\n",
              "      <td>3</td>\n",
              "      <td>1900000</td>\n",
              "    </tr>\n",
              "    <tr>\n",
              "      <th>3</th>\n",
              "      <td>vila-nova-conceicao</td>\n",
              "      <td>193</td>\n",
              "      <td>3</td>\n",
              "      <td>3</td>\n",
              "      <td>3</td>\n",
              "      <td>3</td>\n",
              "      <td>3565000</td>\n",
              "    </tr>\n",
              "    <tr>\n",
              "      <th>4</th>\n",
              "      <td>vila-nova-conceicao</td>\n",
              "      <td>116</td>\n",
              "      <td>1</td>\n",
              "      <td>3</td>\n",
              "      <td>2</td>\n",
              "      <td>2</td>\n",
              "      <td>1605000</td>\n",
              "    </tr>\n",
              "  </tbody>\n",
              "</table>\n",
              "</div>"
            ],
            "text/plain": [
              "                bairro  areaM2  suites  dormitorios  banheiros  vagas    preco\n",
              "0  vila-nova-conceicao      32       1            1          1      1   490000\n",
              "1  vila-nova-conceicao     157       2            2          2      2  3180000\n",
              "2  vila-nova-conceicao     205       2            3          3      3  1900000\n",
              "3  vila-nova-conceicao     193       3            3          3      3  3565000\n",
              "4  vila-nova-conceicao     116       1            3          2      2  1605000"
            ]
          },
          "metadata": {},
          "execution_count": 92
        }
      ]
    },
    {
      "cell_type": "code",
      "metadata": {
        "id": "zCGFg5vqwwJT"
      },
      "source": [
        "# seu código"
      ],
      "execution_count": 93,
      "outputs": []
    },
    {
      "cell_type": "code",
      "metadata": {
        "id": "gMywqsShsxay",
        "colab": {
          "base_uri": "https://localhost:8080/"
        },
        "outputId": "a8eb0478-ea0e-4712-8bf3-8c73b65d32ed"
      },
      "source": [
        "df.shape"
      ],
      "execution_count": 94,
      "outputs": [
        {
          "output_type": "execute_result",
          "data": {
            "text/plain": [
              "(3741, 7)"
            ]
          },
          "metadata": {},
          "execution_count": 94
        }
      ]
    },
    {
      "cell_type": "code",
      "metadata": {
        "id": "3CpXPuY2wUgs",
        "colab": {
          "base_uri": "https://localhost:8080/"
        },
        "outputId": "1ff6cb74-527c-41de-b3f5-8c4178526b5b"
      },
      "source": [
        "df.isnull().sum()"
      ],
      "execution_count": 95,
      "outputs": [
        {
          "output_type": "execute_result",
          "data": {
            "text/plain": [
              "bairro         0\n",
              "areaM2         0\n",
              "suites         0\n",
              "dormitorios    0\n",
              "banheiros      0\n",
              "vagas          0\n",
              "preco          0\n",
              "dtype: int64"
            ]
          },
          "metadata": {},
          "execution_count": 95
        }
      ]
    },
    {
      "cell_type": "code",
      "metadata": {
        "id": "VDG8taTntY-j",
        "colab": {
          "base_uri": "https://localhost:8080/"
        },
        "outputId": "0136ad17-588c-4235-fd0f-07832b7f973a"
      },
      "source": [
        "df.bairro.nunique()"
      ],
      "execution_count": 96,
      "outputs": [
        {
          "output_type": "execute_result",
          "data": {
            "text/plain": [
              "5"
            ]
          },
          "metadata": {},
          "execution_count": 96
        }
      ]
    },
    {
      "cell_type": "code",
      "metadata": {
        "id": "jTInTndQsz97",
        "colab": {
          "base_uri": "https://localhost:8080/"
        },
        "outputId": "cbb4a395-0dc0-4b88-94fc-9cbb032b9cc1"
      },
      "source": [
        "df.bairro.value_counts()"
      ],
      "execution_count": 97,
      "outputs": [
        {
          "output_type": "execute_result",
          "data": {
            "text/plain": [
              "vila-mariana           1714\n",
              "paraiso                 802\n",
              "vila-nova-conceicao     789\n",
              "vila-sonia              307\n",
              "morumbi                 129\n",
              "Name: bairro, dtype: int64"
            ]
          },
          "metadata": {},
          "execution_count": 97
        }
      ]
    },
    {
      "cell_type": "code",
      "metadata": {
        "id": "841oGFMms8ia",
        "colab": {
          "base_uri": "https://localhost:8080/",
          "height": 390
        },
        "outputId": "50e009bf-aac9-4db9-b718-9946963fcb06"
      },
      "source": [
        "df.describe(include='all')"
      ],
      "execution_count": 98,
      "outputs": [
        {
          "output_type": "execute_result",
          "data": {
            "text/html": [
              "<div>\n",
              "<style scoped>\n",
              "    .dataframe tbody tr th:only-of-type {\n",
              "        vertical-align: middle;\n",
              "    }\n",
              "\n",
              "    .dataframe tbody tr th {\n",
              "        vertical-align: top;\n",
              "    }\n",
              "\n",
              "    .dataframe thead th {\n",
              "        text-align: right;\n",
              "    }\n",
              "</style>\n",
              "<table border=\"1\" class=\"dataframe\">\n",
              "  <thead>\n",
              "    <tr style=\"text-align: right;\">\n",
              "      <th></th>\n",
              "      <th>bairro</th>\n",
              "      <th>areaM2</th>\n",
              "      <th>suites</th>\n",
              "      <th>dormitorios</th>\n",
              "      <th>banheiros</th>\n",
              "      <th>vagas</th>\n",
              "      <th>preco</th>\n",
              "    </tr>\n",
              "  </thead>\n",
              "  <tbody>\n",
              "    <tr>\n",
              "      <th>count</th>\n",
              "      <td>3741</td>\n",
              "      <td>3741.000000</td>\n",
              "      <td>3741.000000</td>\n",
              "      <td>3741.000000</td>\n",
              "      <td>3741.000000</td>\n",
              "      <td>3741.000000</td>\n",
              "      <td>3.741000e+03</td>\n",
              "    </tr>\n",
              "    <tr>\n",
              "      <th>unique</th>\n",
              "      <td>5</td>\n",
              "      <td>NaN</td>\n",
              "      <td>NaN</td>\n",
              "      <td>NaN</td>\n",
              "      <td>NaN</td>\n",
              "      <td>NaN</td>\n",
              "      <td>NaN</td>\n",
              "    </tr>\n",
              "    <tr>\n",
              "      <th>top</th>\n",
              "      <td>vila-mariana</td>\n",
              "      <td>NaN</td>\n",
              "      <td>NaN</td>\n",
              "      <td>NaN</td>\n",
              "      <td>NaN</td>\n",
              "      <td>NaN</td>\n",
              "      <td>NaN</td>\n",
              "    </tr>\n",
              "    <tr>\n",
              "      <th>freq</th>\n",
              "      <td>1714</td>\n",
              "      <td>NaN</td>\n",
              "      <td>NaN</td>\n",
              "      <td>NaN</td>\n",
              "      <td>NaN</td>\n",
              "      <td>NaN</td>\n",
              "      <td>NaN</td>\n",
              "    </tr>\n",
              "    <tr>\n",
              "      <th>mean</th>\n",
              "      <td>NaN</td>\n",
              "      <td>140.343758</td>\n",
              "      <td>1.700882</td>\n",
              "      <td>2.946271</td>\n",
              "      <td>3.095429</td>\n",
              "      <td>2.225341</td>\n",
              "      <td>1.553746e+06</td>\n",
              "    </tr>\n",
              "    <tr>\n",
              "      <th>std</th>\n",
              "      <td>NaN</td>\n",
              "      <td>60.051791</td>\n",
              "      <td>0.994945</td>\n",
              "      <td>0.759292</td>\n",
              "      <td>1.372859</td>\n",
              "      <td>1.000940</td>\n",
              "      <td>1.073607e+06</td>\n",
              "    </tr>\n",
              "    <tr>\n",
              "      <th>min</th>\n",
              "      <td>NaN</td>\n",
              "      <td>20.000000</td>\n",
              "      <td>1.000000</td>\n",
              "      <td>1.000000</td>\n",
              "      <td>1.000000</td>\n",
              "      <td>1.000000</td>\n",
              "      <td>2.800000e+05</td>\n",
              "    </tr>\n",
              "    <tr>\n",
              "      <th>25%</th>\n",
              "      <td>NaN</td>\n",
              "      <td>94.000000</td>\n",
              "      <td>1.000000</td>\n",
              "      <td>3.000000</td>\n",
              "      <td>2.000000</td>\n",
              "      <td>1.000000</td>\n",
              "      <td>8.500000e+05</td>\n",
              "    </tr>\n",
              "    <tr>\n",
              "      <th>50%</th>\n",
              "      <td>NaN</td>\n",
              "      <td>130.000000</td>\n",
              "      <td>1.000000</td>\n",
              "      <td>3.000000</td>\n",
              "      <td>3.000000</td>\n",
              "      <td>2.000000</td>\n",
              "      <td>1.200000e+06</td>\n",
              "    </tr>\n",
              "    <tr>\n",
              "      <th>75%</th>\n",
              "      <td>NaN</td>\n",
              "      <td>180.000000</td>\n",
              "      <td>2.000000</td>\n",
              "      <td>3.000000</td>\n",
              "      <td>4.000000</td>\n",
              "      <td>3.000000</td>\n",
              "      <td>1.880000e+06</td>\n",
              "    </tr>\n",
              "    <tr>\n",
              "      <th>max</th>\n",
              "      <td>NaN</td>\n",
              "      <td>299.000000</td>\n",
              "      <td>6.000000</td>\n",
              "      <td>6.000000</td>\n",
              "      <td>9.000000</td>\n",
              "      <td>5.000000</td>\n",
              "      <td>8.000000e+06</td>\n",
              "    </tr>\n",
              "  </tbody>\n",
              "</table>\n",
              "</div>"
            ],
            "text/plain": [
              "              bairro       areaM2  ...        vagas         preco\n",
              "count           3741  3741.000000  ...  3741.000000  3.741000e+03\n",
              "unique             5          NaN  ...          NaN           NaN\n",
              "top     vila-mariana          NaN  ...          NaN           NaN\n",
              "freq            1714          NaN  ...          NaN           NaN\n",
              "mean             NaN   140.343758  ...     2.225341  1.553746e+06\n",
              "std              NaN    60.051791  ...     1.000940  1.073607e+06\n",
              "min              NaN    20.000000  ...     1.000000  2.800000e+05\n",
              "25%              NaN    94.000000  ...     1.000000  8.500000e+05\n",
              "50%              NaN   130.000000  ...     2.000000  1.200000e+06\n",
              "75%              NaN   180.000000  ...     3.000000  1.880000e+06\n",
              "max              NaN   299.000000  ...     5.000000  8.000000e+06\n",
              "\n",
              "[11 rows x 7 columns]"
            ]
          },
          "metadata": {},
          "execution_count": 98
        }
      ]
    },
    {
      "cell_type": "markdown",
      "metadata": {
        "id": "zOOVEBpDtz4E"
      },
      "source": [
        "# Preparação dos Dados\n",
        "\n",
        "Use [statsmodels.formula.api](https://www.statsmodels.org/dev/generated/statsmodels.formula.api.ols.html)\n",
        "\n",
        "```\n",
        "from statsmodels.formula.api import ols   \n",
        "```\n",
        "\n",
        "Se você empregar esta forma do `statsmodels` ele fará de modo implítico o hot encode dos dados e não há necessidade de nenhuma transformação dos dados (não faremos a normalização aqui. Embora sempre recomendável na maior parte dos casos, aqui o resultado de predição será o mesmo com o sem a normalização).\n",
        "\n",
        "Atenção, se você empregar \n",
        "```\n",
        "from statsmodels.api import OLS \n",
        "```\n",
        "os resultados serão os mesmos, mas alguma preparação nos dados será necessária e a construção do modelo será um pouco diferente."
      ]
    },
    {
      "cell_type": "code",
      "metadata": {
        "id": "Sait1Ah_tgmQ"
      },
      "source": [
        "from statsmodels.formula.api import ols   \n",
        "\n",
        "# nada a fazer se estiver empregando a api acima"
      ],
      "execution_count": 99,
      "outputs": []
    },
    {
      "cell_type": "markdown",
      "metadata": {
        "id": "hEKtLebAmZrZ"
      },
      "source": [
        "# Estimando o modelo com o `statsmodels`\n",
        "\n",
        "Estime o modelo."
      ]
    },
    {
      "cell_type": "markdown",
      "metadata": {
        "id": "4KB5hJx6uCHS"
      },
      "source": [
        "(Moodle) **Q2**. Qual o coeficiente de determinação ajustado obtido?\n",
        "\n",
        "Dica: empregue `result.rsquared_adj` no lugar de `result.summary()` para obter resultados com maior precisão.\n",
        "\n",
        "(Moodle) **Q3**. Qual coeficiente estimado é menos significativo?"
      ]
    },
    {
      "cell_type": "code",
      "metadata": {
        "id": "6pdqSxWHsTrl",
        "colab": {
          "base_uri": "https://localhost:8080/"
        },
        "outputId": "6357140c-3fc6-4d6e-bd4b-b08cc48d8a53"
      },
      "source": [
        "import statsmodels.formula.api as sm \n",
        "\n",
        "model_1 = sm.ols(formula='preco ~ bairro + areaM2 + suites + dormitorios + banheiros + vagas',data=df)\n",
        "\n",
        "result_1 = model_1.fit()\n",
        "print()\n",
        "print(result_1.summary())"
      ],
      "execution_count": 100,
      "outputs": [
        {
          "output_type": "stream",
          "name": "stdout",
          "text": [
            "\n",
            "                            OLS Regression Results                            \n",
            "==============================================================================\n",
            "Dep. Variable:                  preco   R-squared:                       0.795\n",
            "Model:                            OLS   Adj. R-squared:                  0.795\n",
            "Method:                 Least Squares   F-statistic:                     1611.\n",
            "Date:                Sun, 21 Nov 2021   Prob (F-statistic):               0.00\n",
            "Time:                        18:35:23   Log-Likelihood:                -54290.\n",
            "No. Observations:                3741   AIC:                         1.086e+05\n",
            "Df Residuals:                    3731   BIC:                         1.087e+05\n",
            "Df Model:                           9                                         \n",
            "Covariance Type:            nonrobust                                         \n",
            "=================================================================================================\n",
            "                                    coef    std err          t      P>|t|      [0.025      0.975]\n",
            "-------------------------------------------------------------------------------------------------\n",
            "Intercept                      -3.16e+05   5.35e+04     -5.911      0.000   -4.21e+05   -2.11e+05\n",
            "bairro[T.paraiso]              8.331e+04   4.68e+04      1.781      0.075   -8410.743    1.75e+05\n",
            "bairro[T.vila-mariana]         -1.18e+05   4.44e+04     -2.657      0.008   -2.05e+05   -3.09e+04\n",
            "bairro[T.vila-nova-conceicao]  7.698e+05   4.66e+04     16.502      0.000    6.78e+05    8.61e+05\n",
            "bairro[T.vila-sonia]          -5.245e+05   5.13e+04    -10.234      0.000   -6.25e+05   -4.24e+05\n",
            "areaM2                         7580.2937    241.143     31.435      0.000    7107.508    8053.079\n",
            "suites                         1.532e+05   1.33e+04     11.524      0.000    1.27e+05    1.79e+05\n",
            "dormitorios                   -9.971e+04    1.5e+04     -6.655      0.000   -1.29e+05   -7.03e+04\n",
            "banheiros                      4755.9925   8373.499      0.568      0.570   -1.17e+04    2.12e+04\n",
            "vagas                          3.331e+05   1.36e+04     24.503      0.000    3.06e+05     3.6e+05\n",
            "==============================================================================\n",
            "Omnibus:                     1315.549   Durbin-Watson:                   1.972\n",
            "Prob(Omnibus):                  0.000   Jarque-Bera (JB):            12370.154\n",
            "Skew:                           1.401   Prob(JB):                         0.00\n",
            "Kurtosis:                      11.457   Cond. No.                     1.89e+03\n",
            "==============================================================================\n",
            "\n",
            "Warnings:\n",
            "[1] Standard Errors assume that the covariance matrix of the errors is correctly specified.\n",
            "[2] The condition number is large, 1.89e+03. This might indicate that there are\n",
            "strong multicollinearity or other numerical problems.\n"
          ]
        }
      ]
    },
    {
      "cell_type": "code",
      "metadata": {
        "colab": {
          "base_uri": "https://localhost:8080/"
        },
        "id": "gGa6Y1P6vlVp",
        "outputId": "28baae77-776a-415d-d346-1265d7425b6f"
      },
      "source": [
        "result_1.params"
      ],
      "execution_count": 101,
      "outputs": [
        {
          "output_type": "execute_result",
          "data": {
            "text/plain": [
              "Intercept                       -315973.785255\n",
              "bairro[T.paraiso]                 83308.335033\n",
              "bairro[T.vila-mariana]          -118019.048278\n",
              "bairro[T.vila-nova-conceicao]    769790.153648\n",
              "bairro[T.vila-sonia]            -524513.303275\n",
              "areaM2                             7580.293714\n",
              "suites                           153221.403413\n",
              "dormitorios                      -99708.352310\n",
              "banheiros                          4755.992489\n",
              "vagas                            333076.838368\n",
              "dtype: float64"
            ]
          },
          "metadata": {},
          "execution_count": 101
        }
      ]
    },
    {
      "cell_type": "code",
      "metadata": {
        "colab": {
          "base_uri": "https://localhost:8080/"
        },
        "id": "AaDqRKl7vlVp",
        "outputId": "51ffba4e-4c26-4702-c266-b05908a04573"
      },
      "source": [
        "result_1.rsquared_adj"
      ],
      "execution_count": 102,
      "outputs": [
        {
          "output_type": "execute_result",
          "data": {
            "text/plain": [
              "0.7948154407290992"
            ]
          },
          "metadata": {},
          "execution_count": 102
        }
      ]
    },
    {
      "cell_type": "markdown",
      "metadata": {
        "id": "dgS10RfFwvwo"
      },
      "source": [
        "# Re-estimando o modelo com o `statsmodels`\n",
        "\n",
        "Estime novamente o modelo excluindo o atributo menos significativo (um único atributo). "
      ]
    },
    {
      "cell_type": "markdown",
      "metadata": {
        "id": "D-O_AgTfwvwo"
      },
      "source": [
        "(Moodle) **Q4**. Qual o novo coeficiente de determinação ajustado obtido?\n"
      ]
    },
    {
      "cell_type": "code",
      "metadata": {
        "colab": {
          "base_uri": "https://localhost:8080/"
        },
        "id": "E_HLvYgGugge",
        "outputId": "8063a10f-52f6-4291-ef9e-9b2bfb047920"
      },
      "source": [
        "import statsmodels.formula.api as sm \n",
        "\n",
        "model_2 = sm.ols(formula='preco ~ bairro + areaM2 + suites + dormitorios + vagas',data=df)\n",
        "\n",
        "result_2 = model_2.fit()\n",
        "print()\n",
        "print(result_2.summary())"
      ],
      "execution_count": 103,
      "outputs": [
        {
          "output_type": "stream",
          "name": "stdout",
          "text": [
            "\n",
            "                            OLS Regression Results                            \n",
            "==============================================================================\n",
            "Dep. Variable:                  preco   R-squared:                       0.795\n",
            "Model:                            OLS   Adj. R-squared:                  0.795\n",
            "Method:                 Least Squares   F-statistic:                     1812.\n",
            "Date:                Sun, 21 Nov 2021   Prob (F-statistic):               0.00\n",
            "Time:                        18:35:23   Log-Likelihood:                -54290.\n",
            "No. Observations:                3741   AIC:                         1.086e+05\n",
            "Df Residuals:                    3732   BIC:                         1.087e+05\n",
            "Df Model:                           8                                         \n",
            "Covariance Type:            nonrobust                                         \n",
            "=================================================================================================\n",
            "                                    coef    std err          t      P>|t|      [0.025      0.975]\n",
            "-------------------------------------------------------------------------------------------------\n",
            "Intercept                      -3.14e+05   5.33e+04     -5.887      0.000   -4.19e+05   -2.09e+05\n",
            "bairro[T.paraiso]              8.287e+04   4.68e+04      1.772      0.076   -8824.930    1.75e+05\n",
            "bairro[T.vila-mariana]        -1.181e+05   4.44e+04     -2.659      0.008   -2.05e+05    -3.1e+04\n",
            "bairro[T.vila-nova-conceicao]  7.689e+05   4.66e+04     16.494      0.000    6.78e+05     8.6e+05\n",
            "bairro[T.vila-sonia]          -5.246e+05   5.12e+04    -10.237      0.000   -6.25e+05   -4.24e+05\n",
            "areaM2                         7591.9890    240.241     31.602      0.000    7120.973    8063.005\n",
            "suites                         1.561e+05   1.23e+04     12.700      0.000    1.32e+05     1.8e+05\n",
            "dormitorios                   -9.795e+04   1.47e+04     -6.683      0.000   -1.27e+05   -6.92e+04\n",
            "vagas                          3.337e+05   1.35e+04     24.631      0.000    3.07e+05     3.6e+05\n",
            "==============================================================================\n",
            "Omnibus:                     1314.663   Durbin-Watson:                   1.972\n",
            "Prob(Omnibus):                  0.000   Jarque-Bera (JB):            12354.953\n",
            "Skew:                           1.400   Prob(JB):                         0.00\n",
            "Kurtosis:                      11.451   Cond. No.                     1.89e+03\n",
            "==============================================================================\n",
            "\n",
            "Warnings:\n",
            "[1] Standard Errors assume that the covariance matrix of the errors is correctly specified.\n",
            "[2] The condition number is large, 1.89e+03. This might indicate that there are\n",
            "strong multicollinearity or other numerical problems.\n"
          ]
        }
      ]
    },
    {
      "cell_type": "code",
      "metadata": {
        "colab": {
          "base_uri": "https://localhost:8080/"
        },
        "id": "WD-OiExWuuui",
        "outputId": "a5ca72ab-f508-4f03-8c7c-2e8f948c96f9"
      },
      "source": [
        "result_2.params"
      ],
      "execution_count": 104,
      "outputs": [
        {
          "output_type": "execute_result",
          "data": {
            "text/plain": [
              "Intercept                       -314038.183776\n",
              "bairro[T.paraiso]                 82873.536152\n",
              "bairro[T.vila-mariana]          -118111.112795\n",
              "bairro[T.vila-nova-conceicao]    768940.360366\n",
              "bairro[T.vila-sonia]            -524625.180377\n",
              "areaM2                             7591.988953\n",
              "suites                           156099.586598\n",
              "dormitorios                      -97948.721025\n",
              "vagas                            333700.959430\n",
              "dtype: float64"
            ]
          },
          "metadata": {},
          "execution_count": 104
        }
      ]
    },
    {
      "cell_type": "code",
      "metadata": {
        "colab": {
          "base_uri": "https://localhost:8080/"
        },
        "id": "izMpUTaGvbO7",
        "outputId": "236dea8f-f94e-4e4c-b7ca-5efe22862b3b"
      },
      "source": [
        "result_2.rsquared_adj"
      ],
      "execution_count": 105,
      "outputs": [
        {
          "output_type": "execute_result",
          "data": {
            "text/plain": [
              "0.7948526838722687"
            ]
          },
          "metadata": {},
          "execution_count": 105
        }
      ]
    },
    {
      "cell_type": "code",
      "metadata": {
        "colab": {
          "base_uri": "https://localhost:8080/"
        },
        "id": "0ONhe3oVx6sD",
        "outputId": "391337b6-3bcd-4851-91fb-24bc5699e7b3"
      },
      "source": [
        "result_2.rsquared_adj >= result_1.rsquared_adj"
      ],
      "execution_count": 106,
      "outputs": [
        {
          "output_type": "execute_result",
          "data": {
            "text/plain": [
              "True"
            ]
          },
          "metadata": {},
          "execution_count": 106
        }
      ]
    },
    {
      "cell_type": "markdown",
      "metadata": {
        "id": "vR_Q4ifCttKD"
      },
      "source": [
        "# Predição\n",
        "\n",
        "Faça a predição do preço, com o melhor dos modelos obtidos acima, de um imóvel na Vila Mariana, com 134 m2, 1 suite, 4 dorm, 3 banheiros e 3 vagas.\n",
        "\n"
      ]
    },
    {
      "cell_type": "markdown",
      "metadata": {
        "id": "tMjCg31VzFWX"
      },
      "source": [
        "(Moodle) **Q5**. Qual o preço estimado, para o melhor dos modelos obtidos, de um imóvel na Vila Mariana, com 134 m2, 1 suite, 4 dorm, 3 banheiros e 3 vagas?\n",
        "\n"
      ]
    },
    {
      "cell_type": "code",
      "metadata": {
        "colab": {
          "base_uri": "https://localhost:8080/",
          "height": 131
        },
        "id": "4GZZsfngq007",
        "outputId": "981b1d22-24ac-4805-9d5a-4f307d63b6d2"
      },
      "source": [
        "df_case = pd.DataFrame(data=None, index=[0])\n",
        "\n",
        "df_case['bairro'] = 'vila-mariana'\n",
        "df_case['areaM2'] = 134\n",
        "df_case['suites'] = 1\n",
        "df_case['dormitorios'] = 4\n",
        "# df_case['banheiros'] = 3 \n",
        "df_case['vagas'] = 3 \n",
        "\n",
        "print()\n",
        "display(df_case)\n",
        "\n",
        "preco = result.predict(df_case)\n",
        "print()\n",
        "print(f'Preco estimado: {preco[0]:.2f}')"
      ],
      "execution_count": 107,
      "outputs": [
        {
          "output_type": "stream",
          "name": "stdout",
          "text": [
            "\n"
          ]
        },
        {
          "output_type": "display_data",
          "data": {
            "text/html": [
              "<div>\n",
              "<style scoped>\n",
              "    .dataframe tbody tr th:only-of-type {\n",
              "        vertical-align: middle;\n",
              "    }\n",
              "\n",
              "    .dataframe tbody tr th {\n",
              "        vertical-align: top;\n",
              "    }\n",
              "\n",
              "    .dataframe thead th {\n",
              "        text-align: right;\n",
              "    }\n",
              "</style>\n",
              "<table border=\"1\" class=\"dataframe\">\n",
              "  <thead>\n",
              "    <tr style=\"text-align: right;\">\n",
              "      <th></th>\n",
              "      <th>bairro</th>\n",
              "      <th>areaM2</th>\n",
              "      <th>suites</th>\n",
              "      <th>dormitorios</th>\n",
              "      <th>vagas</th>\n",
              "    </tr>\n",
              "  </thead>\n",
              "  <tbody>\n",
              "    <tr>\n",
              "      <th>0</th>\n",
              "      <td>vila-mariana</td>\n",
              "      <td>134</td>\n",
              "      <td>1</td>\n",
              "      <td>4</td>\n",
              "      <td>3</td>\n",
              "    </tr>\n",
              "  </tbody>\n",
              "</table>\n",
              "</div>"
            ],
            "text/plain": [
              "         bairro  areaM2  suites  dormitorios  vagas\n",
              "0  vila-mariana     134       1            4      3"
            ]
          },
          "metadata": {}
        },
        {
          "output_type": "stream",
          "name": "stdout",
          "text": [
            "\n",
            "Preco estimado: 1350584.80\n"
          ]
        }
      ]
    }
  ]
}