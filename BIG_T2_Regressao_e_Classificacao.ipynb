{
  "nbformat": 4,
  "nbformat_minor": 0,
  "metadata": {
    "kernelspec": {
      "display_name": "Python 3",
      "language": "python",
      "name": "python3"
    },
    "language_info": {
      "codemirror_mode": {
        "name": "ipython",
        "version": 3
      },
      "file_extension": ".py",
      "mimetype": "text/x-python",
      "name": "python",
      "nbconvert_exporter": "python",
      "pygments_lexer": "ipython3",
      "version": "3.7.4"
    },
    "colab": {
      "name": "BIG_T2_Regressao_e_Classificacao.ipynb",
      "provenance": [],
      "collapsed_sections": [],
      "include_colab_link": true
    }
  },
  "cells": [
    {
      "cell_type": "markdown",
      "metadata": {
        "id": "view-in-github",
        "colab_type": "text"
      },
      "source": [
        "<a href=\"https://colab.research.google.com/github/Rogerio-mack/BIG_DATA_Analytics_Mineracao_e_Analise_de_Dados/blob/main/BIG_T2_Regressao_e_Classificacao.ipynb\" target=\"_parent\"><img src=\"https://colab.research.google.com/assets/colab-badge.svg\" alt=\"Open In Colab\"/></a>"
      ]
    },
    {
      "cell_type": "markdown",
      "metadata": {
        "id": "J3LMBfpeHTwb"
      },
      "source": [
        "<head>\n",
        "  <meta name=\"author\" content=\"Rogério de Oliveira\">\n",
        "  <meta institution=\"author\" content=\"Universidade Presbiteriana Mackenzie\">\n",
        "</head>\n",
        "\n",
        "<img src=\"http://meusite.mackenzie.br/rogerio/mackenzie_logo/UPM.2_horizontal_vermelho.jpg\" width=300, align=\"right\">\n",
        "<!-- <h1 align=left><font size = 6, style=\"color:rgb(200,0,0)\"> optional title </font></h1> -->\n"
      ]
    },
    {
      "cell_type": "markdown",
      "metadata": {
        "id": "zQX8WQPeHTwc"
      },
      "source": [
        "# **2. Regressão e Classificação: Regressão Linear e Logística**\n",
        "---\n",
        "\n",
        "Nesta trilha você vai aprender:\n",
        "\n",
        "* Princípios básicos de Aprendizado Supervisionado com modelos de  Regressão e  Classificação\n",
        "* Criar e aplicar modelos de Regressão Linear Simples e Múltipla em Python para predição de valores\n",
        "* Criar e aplicar um modelo de Regressão Logística para predição de Classes de Dados "
      ]
    },
    {
      "cell_type": "markdown",
      "metadata": {
        "id": "zH-kFjI8TIUe"
      },
      "source": [
        "Aqui você aprender dois modelos simples de aprendizado de máquina supervisionado mas que trazem vários elementos que são comuns a vários outros modelos. Os modelos de regressão linear e logística fazem parte dos modelos de inferência estatística que dizem respeito a predição de valores e classes de conjuntos de dados, e surgiram muito antes de começarmos a empregar de modo mais geral termos como ciência de dados e aprendizado de máquina para eles. Mas você pode entendê-los como dois modelos típicos de aprendizado supervisionado e entender esses modelos permitirá você compreender os princípios básicos por traz da maior parte dos modelos supervisionados. "
      ]
    },
    {
      "cell_type": "markdown",
      "metadata": {
        "id": "uW3h47tEPfhu"
      },
      "source": [
        "# Regressão Linear\n",
        "\n",
        "Em estatística, para a predição de valores, os métodos os mais empregados são os chamados métodos de regressão e vamos nos deter aqui aos métodos de regressão linear, tanto simples como múltipla, aprendendo como fazer a estimativa de valores a partir de uma aproximação de linear e como avaliar a qualidade desses modelos.\n",
        "\n",
        "Modelos de regressão são modelos estatísticos para predição de uma variável dependente $y$ como uma função de uma ou mais variáveis independentes $X$. Esses modelos podem ser divididos em modelos de **regressão simples** e **múltipla**, conforme empreguem uma única variável preditora $X$ (simples) ou várias variáveis preditoras (múltipla). Ainda podemos encontrar modelos de **regressão linear** e **não linear**. Enquanto modelos lineares aproximam a função $y=f(X)$ por uma reta (regressão simples) ou um *hiperplano* (regressão múltipla)as regressões não lineares podem ser de vários tipos, como polinomial e exponencial. Aqui nos limitaremos a criar modelos de regressão linear simples e múltiplos, sendo modelos já bastante poderosos para predição.\n",
        "\n",
        "## Calculando os Coeficientes de uma Regressão Simples\n",
        "\n",
        "No caso mais simples, o da regressão linear simples, nosso problema consiste em: dados um conjunto de pontos $(X,y)$, como determinar os coeficientes da reta que melhor aproxima $y$."
      ]
    },
    {
      "cell_type": "code",
      "metadata": {
        "id": "v4QTBg3nTRSn"
      },
      "source": [
        "# you can skip this code!\n",
        "\n",
        "import numpy as np\n",
        "import pandas as pd\n",
        "import matplotlib.pyplot as plt\n",
        "%matplotlib inline\n",
        "import seaborn as sns\n",
        "from scipy.stats import norm\n",
        "\n",
        "x = np.arange(0, 100)\n",
        "y = 2*x + 3\n",
        "y1 = y + norm.rvs(loc=0, scale=50, size=100, random_state=1234)"
      ],
      "execution_count": null,
      "outputs": []
    },
    {
      "cell_type": "code",
      "metadata": {
        "colab": {
          "base_uri": "https://localhost:8080/",
          "height": 301
        },
        "id": "a5gKCyZvTfvG",
        "outputId": "36e4e077-31cf-40fd-9133-3ace85df6f00"
      },
      "source": [
        "plt.scatter(x,y1,alpha=0.6)\n",
        "plt.title('Pontos para uma Regressão Linear', fontsize=14, weight='bold')\n",
        "plt.xlabel('$x$', fontsize=16)\n",
        "plt.ylabel('$y$', fontsize=16)\n",
        "plt.show()"
      ],
      "execution_count": null,
      "outputs": [
        {
          "output_type": "display_data",
          "data": {
            "image/png": "[encoded data removed]",
            "text/plain": [
              "<Figure size 432x288 with 1 Axes>"
            ]
          },
          "metadata": {
            "needs_background": "light"
          }
        }
      ]
    },
    {
      "cell_type": "code",
      "metadata": {
        "colab": {
          "base_uri": "https://localhost:8080/"
        },
        "id": "BvP06plzVlEI",
        "outputId": "4e070038-e471-48c6-bbd0-987d93206767"
      },
      "source": [
        "# A diagonal da matriz contém a covariância entre cada variável e ela mesma\n",
        "b = np.cov(x,y1)[1,0] / np.var(x); print(b)\n",
        "a = np.mean(y1) - b*np.mean(x); print(a)"
      ],
      "execution_count": null,
      "outputs": [
        {
          "output_type": "stream",
          "name": "stdout",
          "text": [
            "1.9850551363966769\n",
            "5.495384904636339\n"
          ]
        }
      ]
    },
    {
      "cell_type": "code",
      "metadata": {
        "colab": {
          "base_uri": "https://localhost:8080/",
          "height": 302
        },
        "id": "XpKwQS8HXTqg",
        "outputId": "8a7365bc-5a4c-4fc8-b7fb-8af0e6a543dd"
      },
      "source": [
        "# you can skip this code!\n",
        "\n",
        "y2 = a + b*x\n",
        "y3 = (y2[51] - 50*(b-1))+(b-1)*x\n",
        "y4 = (y2[51] - 50*(b+1))+(b+1)*x\n",
        "y5 = (y2[51] - 50*(b+2))+(b+2)*x\n",
        "\n",
        "plt.scatter(x, y1, alpha=0.6)\n",
        "plt.plot(x, y2, 'r')\n",
        "plt.plot(x, y3, linestyle='dotted')\n",
        "plt.plot(x, y4, linestyle='dotted')\n",
        "plt.plot(x, y5, linestyle='dotted')\n",
        "\n",
        "plt.title('Várias retas que aproximam o conjunto de pontos', fontsize=14, weight='bold')\n",
        "plt.xlabel('$x$', fontsize=16)\n",
        "plt.ylabel('$y$', fontsize=16)\n",
        "plt.show()"
      ],
      "execution_count": null,
      "outputs": [
        {
          "output_type": "display_data",
          "data": {
            "image/png": "[encoded data removed]",
            "text/plain": [
              "<Figure size 432x288 with 1 Axes>"
            ]
          },
          "metadata": {
            "needs_background": "light"
          }
        }
      ]
    },
    {
      "cell_type": "markdown",
      "metadata": {
        "id": "Xvc5uTZpS19Q"
      },
      "source": [
        "Dado um conjunto de pontos podemos traçar várias retas que *aproximam* de diferentes modos o conjunto de pontos. A regressão linear simples é definida pela reta que minimiza o erro ou a distância dos pontos $y$ dos valores estimados $\\hat{y}$. \n",
        "\n",
        "De modo geral, dado um conjunto de pontos $(x_i,y_i), i=0,...,n$ queremos buscar a reta $\\hat(y) = a + b x$ que reduz o erro das estimativas de $y$. Esse erro pode ser medido pela distância dos pontos $y$ e $\\hat{y}$, ou mais simplesmente pela distância quadrática, e podemos escrever esse erro em função de $a$ e $b$, que ainda não conhecemos os valores:\n",
        "\n",
        "$$ E(a,b) = \\sum_{i=1}^{n}(y_i - a - b x_i)^2 $$\n",
        "\n",
        "O ponto de mínimo (valores $a$ e $b$ dos coeficientes da reta) da função de Erro $E(a,b)$ pode ser então obtido a partir das derivadas.\n",
        "\n",
        "$$ \\partial E / \\partial a =  -2 \\sum_{i=1}^{n}(y_i - a - b x_i) = 0$$\n",
        "\n",
        "$$ \\partial E / \\partial b =  -2 \\sum_{i=1}^{n}x_i(y_i - a - b x_i) = 0 $$\n",
        "\n",
        "Resolvendo-se esse sistema de equações você obtêm:\n",
        "\n",
        "$$ a = \\bar{y} - b \\bar{x} $$\n",
        "onde $\\bar{y}$ e $\\bar{x}$ são a média dos valores $y_i$ e $x_i$, e:\n",
        "\n",
        "$$ b = \\frac{ \\sum_{i=1}^{n} (x_i - \\bar{x}) (y_i - \\bar{y})}{\\sum_{i=1}^{n} (x_i - \\bar{x})^2 } $$\n",
        "\n",
        "Os valores dessa expressão não devem ser estranhos a você. De fato  eles são a $cov(x,y)$ e a $var(x)$ e, desse modo, podemos escrever simplesmente:\n",
        "\n",
        "\n",
        "$$ b = \\frac{cov(x,y)}{var(x)}  $$ \n",
        "\n",
        "<br>\n",
        "\n",
        "$$ a = \\bar{y} - b \\bar{x} $$\n",
        "\n",
        "Empregando o conjunto de pontos acima podemos verificar os coeficientes produzidos: \n"
      ]
    },
    {
      "cell_type": "code",
      "metadata": {
        "colab": {
          "base_uri": "https://localhost:8080/"
        },
        "id": "JZTXvRUoZXvR",
        "outputId": "1adee085-9a27-49cb-d668-35a41ea60850"
      },
      "source": [
        "# A diagonal da matriz contém a covariância entre cada variável e ela mesma\n",
        "b = np.cov(x,y1)[1,0] / np.var(x); print(b)\n",
        "a = np.mean(y1) - b*np.mean(x); print(a)"
      ],
      "execution_count": null,
      "outputs": [
        {
          "output_type": "stream",
          "name": "stdout",
          "text": [
            "1.9850551363966769\n",
            "5.495384904636339\n"
          ]
        }
      ]
    },
    {
      "cell_type": "markdown",
      "metadata": {
        "id": "6itdrf-nZlYw"
      },
      "source": [
        "E, assim, determinamos a reta que melhor estima os valores de $y$:\n",
        "\n",
        "$$ \\hat{y} = a + bx = 1.98 + 5.49 x $$"
      ]
    },
    {
      "cell_type": "code",
      "metadata": {
        "colab": {
          "base_uri": "https://localhost:8080/",
          "height": 301
        },
        "id": "98j27ZFaZ33f",
        "outputId": "51c94dc0-15a4-4445-ea83-3c3468ec95be"
      },
      "source": [
        "# you can skip this code!\n",
        "\n",
        "plt.scatter(x, y1, alpha=0.6)\n",
        "plt.plot(x, y2, 'r')\n",
        "\n",
        "plt.title('Modelo de Regressão Linear', fontsize=14, weight='bold')\n",
        "plt.xlabel('$x$', fontsize=16)\n",
        "plt.ylabel('$y$', fontsize=16)\n",
        "plt.text(55,-60,'$ \\hat{y} = 1.98 + 5.49 x $', fontsize=16)\n",
        "plt.show()"
      ],
      "execution_count": null,
      "outputs": [
        {
          "output_type": "display_data",
          "data": {
            "image/png": "[encoded data removed]",
            "text/plain": [
              "<Figure size 432x288 with 1 Axes>"
            ]
          },
          "metadata": {
            "needs_background": "light"
          }
        }
      ]
    },
    {
      "cell_type": "markdown",
      "metadata": {
        "id": "Li1FPlObIQAh"
      },
      "source": [
        "# Regressão Linear Múltipla\n",
        "\n",
        "Um modelo linear mais geral aproxima o valor de variável objetivo, ou dependente, $y$ por uma combinação linear de um conjunto de variáveis preditoras, ou dependentes, $X$. \n",
        "\n",
        "$$  \\widehat y = a_0 + a_{1} x_{1} + a_{2} x_{2} + ... + a_{n} x_{n} $$ \n",
        " \n",
        "A cada variável preditora corresponde um coeficiente $a_n$, havendo um coeficiente independente que corresponte ao valor de $\\widehat y$ para $x_i=0$ (*intercept*). \n",
        "\n",
        "Os coeficientes $a_n$ são obtidos do mesmo modo que na regressão simples, minimizando-se o erro  os valores reais de $y$ do conjunto de dados e os valores estimados $\\widehat y$, e podemos escrever:\n",
        "\n",
        "$$ \\min_{a_i}\\sum (y_i - \\widehat y_i )^2 = $$ \n",
        "\n",
        "$$ \\min_{a_i} \\sum (y_i - (a_0 + a_{1} x_{1} + ... + a_{n} x_{n}) )^2 $$ \n",
        "\n",
        "E podemos obter os valores de $a_i$ para o ponto de mínimo aplicando algum método de otimização, como método de mínimos quadrados, e sendo uma função convexa garante-se a existência de um único ponto de mínimo.\n",
        "\n",
        "\n",
        "\n",
        "\n",
        "\n",
        "\n"
      ]
    },
    {
      "cell_type": "markdown",
      "metadata": {
        "id": "JasBr9LEMGuY"
      },
      "source": [
        "# Avaliando o Modelo: Coeficiente de Determinação, $R^2$ \n",
        "\n",
        "No caso de uma única variável o cálculo dos pontos de mínimo pode ser obtido diretamente e não é necessário aplicarmos qualquer método de otimização. Como você viu, podemos calcular diretamente os coeficientes $a$ e $b$ apenas empregando os valores médios de $x$ e $y$, a $cov(x,y)$ e a $var(x)$. Assim, para quaisquer conjunto de dados podemos *sempre* calcular um modelo de regressão *mesmo que o modelo linear não represente exatamente os dados*.  Isso é ilustrado pelo exemplo a seguir.\n"
      ]
    },
    {
      "cell_type": "code",
      "metadata": {
        "id": "71Ah6tXZUy04"
      },
      "source": [
        "# you can skip this code!\n",
        "\n",
        "x = np.arange(-10,10,1)\n",
        "ruido = norm.rvs(loc=0, scale=1, size=len(x), random_state=1234)\n",
        "df = pd.DataFrame({'dataset':'I','x':x,'y': 2*x + 3 + ruido})\n",
        "df = pd.concat( [df, pd.DataFrame({'dataset':'II','x':x,'y': 2*x**2 + 3 + ruido}) ])\n",
        "df = pd.concat( [df, pd.DataFrame({'dataset':'III','x':x,'y': x**3 - 2*x + ruido}) ])\n",
        "df = pd.concat( [df, pd.DataFrame({'dataset':'IV','x':x,'y': np.exp(1)**x + ruido}) ])"
      ],
      "execution_count": null,
      "outputs": []
    },
    {
      "cell_type": "code",
      "metadata": {
        "colab": {
          "base_uri": "https://localhost:8080/",
          "height": 419
        },
        "id": "w6Ky9RjvWme6",
        "outputId": "4a19ed17-abba-4406-b252-2e37d3272e03"
      },
      "source": [
        "df"
      ],
      "execution_count": null,
      "outputs": [
        {
          "output_type": "execute_result",
          "data": {
            "text/html": [
              "<div>\n",
              "<style scoped>\n",
              "    .dataframe tbody tr th:only-of-type {\n",
              "        vertical-align: middle;\n",
              "    }\n",
              "\n",
              "    .dataframe tbody tr th {\n",
              "        vertical-align: top;\n",
              "    }\n",
              "\n",
              "    .dataframe thead th {\n",
              "        text-align: right;\n",
              "    }\n",
              "</style>\n",
              "<table border=\"1\" class=\"dataframe\">\n",
              "  <thead>\n",
              "    <tr style=\"text-align: right;\">\n",
              "      <th></th>\n",
              "      <th>dataset</th>\n",
              "      <th>x</th>\n",
              "      <th>y</th>\n",
              "    </tr>\n",
              "  </thead>\n",
              "  <tbody>\n",
              "    <tr>\n",
              "      <th>0</th>\n",
              "      <td>I</td>\n",
              "      <td>-10</td>\n",
              "      <td>-16.528565</td>\n",
              "    </tr>\n",
              "    <tr>\n",
              "      <th>1</th>\n",
              "      <td>I</td>\n",
              "      <td>-9</td>\n",
              "      <td>-16.190976</td>\n",
              "    </tr>\n",
              "    <tr>\n",
              "      <th>2</th>\n",
              "      <td>I</td>\n",
              "      <td>-8</td>\n",
              "      <td>-11.567293</td>\n",
              "    </tr>\n",
              "    <tr>\n",
              "      <th>3</th>\n",
              "      <td>I</td>\n",
              "      <td>-7</td>\n",
              "      <td>-11.312652</td>\n",
              "    </tr>\n",
              "    <tr>\n",
              "      <th>4</th>\n",
              "      <td>I</td>\n",
              "      <td>-6</td>\n",
              "      <td>-9.720589</td>\n",
              "    </tr>\n",
              "    <tr>\n",
              "      <th>...</th>\n",
              "      <td>...</td>\n",
              "      <td>...</td>\n",
              "      <td>...</td>\n",
              "    </tr>\n",
              "    <tr>\n",
              "      <th>15</th>\n",
              "      <td>IV</td>\n",
              "      <td>5</td>\n",
              "      <td>148.415277</td>\n",
              "    </tr>\n",
              "    <tr>\n",
              "      <th>16</th>\n",
              "      <td>IV</td>\n",
              "      <td>6</td>\n",
              "      <td>403.834247</td>\n",
              "    </tr>\n",
              "    <tr>\n",
              "      <th>17</th>\n",
              "      <td>IV</td>\n",
              "      <td>7</td>\n",
              "      <td>1096.922250</td>\n",
              "    </tr>\n",
              "    <tr>\n",
              "      <th>18</th>\n",
              "      <td>IV</td>\n",
              "      <td>8</td>\n",
              "      <td>2982.279145</td>\n",
              "    </tr>\n",
              "    <tr>\n",
              "      <th>19</th>\n",
              "      <td>IV</td>\n",
              "      <td>9</td>\n",
              "      <td>8101.537022</td>\n",
              "    </tr>\n",
              "  </tbody>\n",
              "</table>\n",
              "<p>80 rows × 3 columns</p>\n",
              "</div>"
            ],
            "text/plain": [
              "   dataset   x            y\n",
              "0        I -10   -16.528565\n",
              "1        I  -9   -16.190976\n",
              "2        I  -8   -11.567293\n",
              "3        I  -7   -11.312652\n",
              "4        I  -6    -9.720589\n",
              "..     ...  ..          ...\n",
              "15      IV   5   148.415277\n",
              "16      IV   6   403.834247\n",
              "17      IV   7  1096.922250\n",
              "18      IV   8  2982.279145\n",
              "19      IV   9  8101.537022\n",
              "\n",
              "[80 rows x 3 columns]"
            ]
          },
          "metadata": {},
          "execution_count": 8
        }
      ]
    },
    {
      "cell_type": "code",
      "metadata": {
        "colab": {
          "base_uri": "https://localhost:8080/",
          "height": 761
        },
        "id": "SOPxG8E2LMQh",
        "outputId": "4ebb53ca-3172-401b-f489-19f06ee11105"
      },
      "source": [
        "# you can skip this code!\n",
        "\n",
        "fig, ax = plt.subplots(2,2,figsize=(12,8))\n",
        "\n",
        "fig.suptitle('Regressões Lineares', fontsize=14, weight='bold', y=1.05)\n",
        "\n",
        "i = 0\n",
        "for ds_type in df.dataset.unique():\n",
        "  ds = df[df.dataset == ds_type]\n",
        "\n",
        "  z = np.polyfit(ds.x, ds.y, 1)\n",
        "  p = np.poly1d(z)\n",
        "  print('Modelo de Regressão, Dataset:', ds_type, p)\n",
        "\n",
        "  ax[i//2,i%2].scatter(ds.x,ds.y)\n",
        "\n",
        "  x = np.arange(ds.x.min(), ds.x.max(), 0.1)\n",
        "  ax[i//2,i%2].plot(x,p(x),color='darkorange', linestyle='dashed')\n",
        "\n",
        "  ax[i//2,i%2].set_title('Dataset ' + ds_type)\n",
        "\n",
        "  i += 1\n",
        "\n",
        "plt.tight_layout()\n",
        "plt.show()"
      ],
      "execution_count": null,
      "outputs": [
        {
          "output_type": "stream",
          "name": "stdout",
          "text": [
            "Modelo de Regressão, Dataset: I  \n",
            "1.991 x + 2.984\n",
            "Modelo de Regressão, Dataset: II  \n",
            "-2.009 x + 68.98\n",
            "Modelo de Regressão, Dataset: III  \n",
            "58.39 x - 19.82\n",
            "Modelo de Regressão, Dataset: IV  \n",
            "171.9 x + 726.9\n"
          ]
        },
        {
          "output_type": "display_data",
          "data": {
            "image/png": "[encoded data removed]",
            "text/plain": [
              "<Figure size 864x576 with 4 Axes>"
            ]
          },
          "metadata": {
            "needs_background": "light"
          }
        }
      ]
    },
    {
      "cell_type": "markdown",
      "metadata": {
        "id": "D2NezwEROyvR"
      },
      "source": [
        "Os quatro conjuntos de dados acima foram obtidos aplicando-se as funções: \n",
        "\n",
        "$$ (I) \\space \\space  \\space \\space \\hat{y} = 2x + 3 + \\epsilon $$ \n",
        "$$ (II) \\space \\space  \\space \\space \\hat{y} = 2x^2 + 3 + \\epsilon $$\n",
        "$$ (III) \\space \\space  \\space \\space \\hat{y}  =  x^3 - 2x + \\epsilon$$\n",
        "$$ (IV) \\space \\space  \\space \\space \\hat{y}  = x cos(x) + x +  \\epsilon $$\n",
        "\n",
        "acrescidas de uma parcela de erro $\\epsilon$. Embora apenas o conjunto de dados $I$ se ajuste de fato a um modelo linear você pôde calcular o modelo linear de todos os conjuntos, *mesmo ele não se ajustando aos dados*.\n",
        "\n",
        "Neste caso você pode observar o ajuste pela simples inspeção visual, mas o caso será pior nos casos de regressão múltipla em que você não pode observar graficamente o ajuste dos dados ao modelo. É neste ponto que é útil termos uma métrica para avaliarmos o quanto os dados se ajustam ao modelo proposto, uma vez que sempre poderemos obtê-lo. A métrica mais importante para isso é *coeficiente de determinação* ou $R^2$.\n",
        "\n",
        "O Coeficiente de Determinação, ou ainda $R-$Square, é uma medida de $[0,1]$ que indica o quanto um modelo linear explica a variância de um conjunto de dados. Quanto mais próximo de $1$ o valor do $R^2$, mais os dados se ajustam ao  modelo linear. \n",
        "\n",
        "$$ R^2 = 1 - \\frac{E_{res}}{E_{total}} $$\n",
        "\n",
        "\n",
        "onde \n",
        "\n",
        "$$E_{res} = \\sum (y_i - \\widehat y_i )^2 $$  é a *soma dos quadrados residuais* e,\n",
        "\n",
        "$$E_{total} = \\sum (y_i - \\bar y )^2 $$ \n",
        "\n",
        "\n",
        "é a *soma total dos quadrados*.\n",
        "\n",
        "\n"
      ]
    },
    {
      "cell_type": "markdown",
      "metadata": {
        "id": "InZzynQHcsId"
      },
      "source": [
        "De fato, como você pode observar, somente o primeiro conjunto de dados tem um coeficiente de determinação próximo de 1."
      ]
    },
    {
      "cell_type": "code",
      "metadata": {
        "colab": {
          "base_uri": "https://localhost:8080/"
        },
        "id": "ng78NB6ES7KB",
        "outputId": "80218d12-d6ae-4ee2-a35f-33ce40ea8be0"
      },
      "source": [
        "# you can skip this code!\n",
        "\n",
        "R2 = {}\n",
        "for ds_type in df.dataset.unique():\n",
        "  ds = df[df.dataset == ds_type]\n",
        "\n",
        "  z = np.polyfit(ds.x, ds.y, 1)\n",
        "  p = np.poly1d(z)\n",
        "\n",
        "  R2[ds_type] = 1 - sum((ds.y - p(ds.x))**2) / sum((ds.y - np.mean(y))**2)\n",
        " \n",
        "for dataset, r2 in R2.items():\n",
        "  print('Dataset ' + dataset + ', R-Square = ' + str(np.round(r2,4)))\n",
        "  "
      ],
      "execution_count": null,
      "outputs": [
        {
          "output_type": "stream",
          "name": "stdout",
          "text": [
            "Dataset I, R-Square = 0.9999\n",
            "Dataset II, R-Square = 0.2481\n",
            "Dataset III, R-Square = 0.85\n",
            "Dataset IV, R-Square = 0.3463\n"
          ]
        }
      ]
    },
    {
      "cell_type": "markdown",
      "metadata": {
        "id": "cp1JP41VSzOa"
      },
      "source": [
        "Basicamente o coeficiente de determinação é um medida de proporção que verifica o quanto variância dos dados está representada no modelo com relação ao modelo trivial $y = \\bar{x}$.\n",
        "\n",
        "\n",
        "<br>\n",
        "<br>\n",
        "<br>\n",
        "<img src=\"https://upload.wikimedia.org/wikipedia/commons/8/86/Coefficient_of_Determination.svg\"  width=500, align=\"center\">\n",
        "<br>\n",
        "<br>\n",
        "<br>\n",
        "\n",
        "<small>\n",
        "<b>\n",
        "Figura 1. À esquerda, em vermelho, as variâncias com relação ao modelo trivial e, à direita, as variâncias do modelo de regressão (em azul). <br></b>(Fonte: Wikipedia)"
      ]
    },
    {
      "cell_type": "markdown",
      "metadata": {
        "id": "SO9fBOTCdOZe"
      },
      "source": [
        "> O $R^2$ é útil não só avaliarmos a adequação de um modelo aos dados, mas pode ser também empregado para compararmos diferentes modelos entre si. Por exemplo, você pode ter dois modelos de regressão múltipla para obter o preço de imóveis. Um considera um atributo adicional *bairro  do imóvel*, outro não. O coeficiente então pode ser empregado para avaliar qual o melhor modelo. Você encontra esse uso de métricas de avaliação dos modelos para quaisquer modelos supervisionados e elas são empregadas para a seleção de diferentes modelos ou para ajustes de parâmetros de um mesmo modelo."
      ]
    },
    {
      "cell_type": "markdown",
      "metadata": {
        "id": "s1cnLdlQfal-"
      },
      "source": [
        "# $R^2$ Ajustado\n",
        "\n",
        "O $R^2$ Ajustado é uma medida alternativa para avaliação do modelo.\n",
        "A inclusão de inúmeras variáveis, mesmo com pouco poder explicativo sobre a variável dependente, podem sempre aumentar o valor de $R^2$. Isto incentiva a inclusão indiscriminada de variáveis, prejudicando o princípio da parcimônia (princípio da *navalha de Ockhan*) em que o aumento de complexidade não leva a um ganho correspondente do modelo. Para evitar isso você pode então empregar o coeficiente de determinação ajustado que penaliza a inclusão de preditores pouco explicativos:  \n",
        "\n",
        "$${\\displaystyle {\\bar {R^{2}}}=1-{\\frac {n-1}{n-(k+1)}}\\left(1-R^{2}\\right),}\n",
        " $$\n",
        "\n",
        "$k+1 $ representa o número de variáveis explicativas mais a constante, e a inclusão de variáveis pouco explicativas passa a penalizar o valor do $R^2$ com o valor ajustado para baixo."
      ]
    },
    {
      "cell_type": "markdown",
      "metadata": {
        "deletable": true,
        "editable": true,
        "id": "qK4Wi5vshpPc"
      },
      "source": [
        "# Modelos de Regressão em Python\n",
        "\n",
        "Você vai aprender agora como obter modelos de regressão simples e múltipla empregando o pacote `statsmodels` do Python. Vamos começar com uma regressão simples de valores aleatórios apenas para você se familiarizar com a construção do modelo. "
      ]
    },
    {
      "cell_type": "code",
      "metadata": {
        "id": "UPVeFK3a5i6d",
        "colab": {
          "base_uri": "https://localhost:8080/"
        },
        "outputId": "a7811e9c-7458-4b1d-8b6c-d184a69e8889"
      },
      "source": [
        "import pandas as pd\n",
        "import numpy as np\n",
        "import matplotlib.pyplot as plt\n",
        "%matplotlib inline\n",
        "import seaborn as sns\n",
        "import statsmodels.formula.api as sm\n"
      ],
      "execution_count": null,
      "outputs": [
        {
          "output_type": "stream",
          "name": "stderr",
          "text": [
            "/usr/local/lib/python3.7/dist-packages/statsmodels/tools/_testing.py:19: FutureWarning: pandas.util.testing is deprecated. Use the functions in the public API at pandas.testing instead.\n",
            "  import pandas.util.testing as tm\n"
          ]
        }
      ]
    },
    {
      "cell_type": "markdown",
      "metadata": {
        "id": "hsCr050-MUNR"
      },
      "source": [
        "Vamos gerar uma amostra de 50 valores \"aleatórios\" a partir de uma função linear.    "
      ]
    },
    {
      "cell_type": "code",
      "metadata": {
        "id": "-s5TcBJLs5Z0",
        "colab": {
          "base_uri": "https://localhost:8080/",
          "height": 452
        },
        "outputId": "79f85561-e243-454e-e460-1468e78e7acb"
      },
      "source": [
        "rng = np.random.RandomState(1)\n",
        "x = 10 * rng.rand(50)\n",
        "y = 2 * x - 5 + rng.randn(50)\n",
        "sns.scatterplot(x=x, y=y)\n",
        "plt.show()\n",
        "\n",
        "df = pd.DataFrame({'x':x,'y':y})\n",
        "df.head()"
      ],
      "execution_count": null,
      "outputs": [
        {
          "output_type": "display_data",
          "data": {
            "image/png": "[encoded data removed]",
            "text/plain": [
              "<Figure size 432x288 with 1 Axes>"
            ]
          },
          "metadata": {
            "needs_background": "light"
          }
        },
        {
          "output_type": "execute_result",
          "data": {
            "text/html": [
              "<div>\n",
              "<style scoped>\n",
              "    .dataframe tbody tr th:only-of-type {\n",
              "        vertical-align: middle;\n",
              "    }\n",
              "\n",
              "    .dataframe tbody tr th {\n",
              "        vertical-align: top;\n",
              "    }\n",
              "\n",
              "    .dataframe thead th {\n",
              "        text-align: right;\n",
              "    }\n",
              "</style>\n",
              "<table border=\"1\" class=\"dataframe\">\n",
              "  <thead>\n",
              "    <tr style=\"text-align: right;\">\n",
              "      <th></th>\n",
              "      <th>x</th>\n",
              "      <th>y</th>\n",
              "    </tr>\n",
              "  </thead>\n",
              "  <tbody>\n",
              "    <tr>\n",
              "      <th>0</th>\n",
              "      <td>4.170220</td>\n",
              "      <td>2.653267</td>\n",
              "    </tr>\n",
              "    <tr>\n",
              "      <th>1</th>\n",
              "      <td>7.203245</td>\n",
              "      <td>8.561284</td>\n",
              "    </tr>\n",
              "    <tr>\n",
              "      <th>2</th>\n",
              "      <td>0.001144</td>\n",
              "      <td>-5.668959</td>\n",
              "    </tr>\n",
              "    <tr>\n",
              "      <th>3</th>\n",
              "      <td>3.023326</td>\n",
              "      <td>1.033987</td>\n",
              "    </tr>\n",
              "    <tr>\n",
              "      <th>4</th>\n",
              "      <td>1.467559</td>\n",
              "      <td>-3.182193</td>\n",
              "    </tr>\n",
              "  </tbody>\n",
              "</table>\n",
              "</div>"
            ],
            "text/plain": [
              "          x         y\n",
              "0  4.170220  2.653267\n",
              "1  7.203245  8.561284\n",
              "2  0.001144 -5.668959\n",
              "3  3.023326  1.033987\n",
              "4  1.467559 -3.182193"
            ]
          },
          "metadata": {},
          "execution_count": 12
        }
      ]
    },
    {
      "cell_type": "markdown",
      "metadata": {
        "id": "Pxs0RHZfOQKQ"
      },
      "source": [
        "## Construindo o modelo linear, `sm.ols(formula = , data= )`\n",
        "\n",
        "A função `sm.ols()` requer um conjunto de dados e o parâmetro `formula` (*patsy* fórmula, um formato bastante empregado em modelos) indicará as variáveis objetivo e preditoras a serem empregadas.\n",
        "\n",
        "````\n",
        "                                                              formula = 'y ~ x' \n",
        "````\n",
        "significa\n",
        "\n",
        "$$ y \\leftarrow  x $$\n",
        "\n",
        "para um modelo\n",
        "\n",
        "$$ \\widehat y = a_0 + a_1 x $$\n",
        "\n"
      ]
    },
    {
      "cell_type": "code",
      "metadata": {
        "id": "nFLNCFPcNePO"
      },
      "source": [
        "model = sm.ols(formula='y ~ x', data=df)\n"
      ],
      "execution_count": null,
      "outputs": []
    },
    {
      "cell_type": "code",
      "metadata": {
        "id": "c-3iMXYENePT",
        "colab": {
          "base_uri": "https://localhost:8080/"
        },
        "outputId": "abf1c7dd-3e68-45d3-c8aa-86a6cd7fbc95"
      },
      "source": [
        "result = model.fit()\n",
        "print(result.summary())"
      ],
      "execution_count": null,
      "outputs": [
        {
          "output_type": "stream",
          "name": "stdout",
          "text": [
            "                            OLS Regression Results                            \n",
            "==============================================================================\n",
            "Dep. Variable:                      y   R-squared:                       0.979\n",
            "Model:                            OLS   Adj. R-squared:                  0.979\n",
            "Method:                 Least Squares   F-statistic:                     2246.\n",
            "Date:                Sat, 20 Nov 2021   Prob (F-statistic):           5.71e-42\n",
            "Time:                        17:22:55   Log-Likelihood:                -65.935\n",
            "No. Observations:                  50   AIC:                             135.9\n",
            "Df Residuals:                      48   BIC:                             139.7\n",
            "Df Model:                           1                                         \n",
            "Covariance Type:            nonrobust                                         \n",
            "==============================================================================\n",
            "                 coef    std err          t      P>|t|      [0.025      0.975]\n",
            "------------------------------------------------------------------------------\n",
            "Intercept     -4.9986      0.239    -20.948      0.000      -5.478      -4.519\n",
            "x              2.0272      0.043     47.397      0.000       1.941       2.113\n",
            "==============================================================================\n",
            "Omnibus:                        0.058   Durbin-Watson:                   1.590\n",
            "Prob(Omnibus):                  0.971   Jarque-Bera (JB):                0.057\n",
            "Skew:                           0.048   Prob(JB):                        0.972\n",
            "Kurtosis:                       2.865   Cond. No.                         10.4\n",
            "==============================================================================\n",
            "\n",
            "Warnings:\n",
            "[1] Standard Errors assume that the covariance matrix of the errors is correctly specified.\n"
          ]
        }
      ]
    },
    {
      "cell_type": "markdown",
      "metadata": {
        "id": "Xjaa4yXuQSkg"
      },
      "source": [
        "Observando os coeficientes no sumário do modelo acima vemos que o modelo de aproximação linear é dado por:\n",
        "\n",
        "$$ y = -4.9986 + 2.0272 x $$\n",
        "\n",
        "E podemos empregar o modelo para estimar   valores de $y$, isto é $\\bar y$ (`predicted`), e  comparar seus valores. \n"
      ]
    },
    {
      "cell_type": "code",
      "metadata": {
        "id": "U_A0fYshQqOb"
      },
      "source": [
        "df['predicted'] = result.predict(df.x)"
      ],
      "execution_count": null,
      "outputs": []
    },
    {
      "cell_type": "code",
      "metadata": {
        "id": "yMYyQouNRpXq",
        "colab": {
          "base_uri": "https://localhost:8080/",
          "height": 279
        },
        "outputId": "663c7f2b-0330-44d8-e8fe-fb02acc24e01"
      },
      "source": [
        "sns.scatterplot(x='x',y='y',data=df)\n",
        "sns.scatterplot(x='x',y='predicted',data=df)\n",
        "sns.lineplot(x='x',y='predicted',data=df,color='red', label='predicted')\n",
        "plt.legend()\n",
        "plt.show()"
      ],
      "execution_count": null,
      "outputs": [
        {
          "output_type": "display_data",
          "data": {
            "image/png": "[encoded data removed]",
            "text/plain": [
              "<Figure size 432x288 with 1 Axes>"
            ]
          },
          "metadata": {
            "needs_background": "light"
          }
        }
      ]
    },
    {
      "cell_type": "markdown",
      "metadata": {
        "id": "jpETdDCPnVPm"
      },
      "source": [
        "## Analisando o modelo obtido\n",
        "\n",
        "Observando o Coeficiente de Determinação e os *p-values* dos coeficientes, \n",
        "\n",
        "$$ R^2 = 0.979 $$\n",
        "$$ p-values < 0.05 $$\n",
        "\n",
        "Podemos ver que $ y = -4.9986 + 2.0272 x $ é um modelo que aproxima bastante bem os dados.\n",
        "\n"
      ]
    },
    {
      "cell_type": "markdown",
      "metadata": {
        "id": "RUkrHCJKSYn3"
      },
      "source": [
        "# CASO: Estimando o Preço de Veículos\n",
        "\n",
        "Vamos empregar agora um conjunto de dados mais interessante e estimar o Preço de veículos com base em suas características. Vamos empregar o seguinte conjunto de dados:"
      ]
    },
    {
      "cell_type": "code",
      "metadata": {
        "id": "V5gWRJ945fCy",
        "colab": {
          "base_uri": "https://localhost:8080/",
          "height": 309
        },
        "outputId": "d5567377-4be5-4776-b032-3b7b9cd1f883"
      },
      "source": [
        "df = pd.read_csv(\"https://vincentarelbundock.github.io/Rdatasets/csv/MASS/Cars93.csv\",index_col=0)\n",
        "df.head()"
      ],
      "execution_count": null,
      "outputs": [
        {
          "output_type": "execute_result",
          "data": {
            "text/html": [
              "<div>\n",
              "<style scoped>\n",
              "    .dataframe tbody tr th:only-of-type {\n",
              "        vertical-align: middle;\n",
              "    }\n",
              "\n",
              "    .dataframe tbody tr th {\n",
              "        vertical-align: top;\n",
              "    }\n",
              "\n",
              "    .dataframe thead th {\n",
              "        text-align: right;\n",
              "    }\n",
              "</style>\n",
              "<table border=\"1\" class=\"dataframe\">\n",
              "  <thead>\n",
              "    <tr style=\"text-align: right;\">\n",
              "      <th></th>\n",
              "      <th>Manufacturer</th>\n",
              "      <th>Model</th>\n",
              "      <th>Type</th>\n",
              "      <th>Min.Price</th>\n",
              "      <th>Price</th>\n",
              "      <th>Max.Price</th>\n",
              "      <th>MPG.city</th>\n",
              "      <th>MPG.highway</th>\n",
              "      <th>AirBags</th>\n",
              "      <th>DriveTrain</th>\n",
              "      <th>Cylinders</th>\n",
              "      <th>EngineSize</th>\n",
              "      <th>Horsepower</th>\n",
              "      <th>RPM</th>\n",
              "      <th>Rev.per.mile</th>\n",
              "      <th>Man.trans.avail</th>\n",
              "      <th>Fuel.tank.capacity</th>\n",
              "      <th>Passengers</th>\n",
              "      <th>Length</th>\n",
              "      <th>Wheelbase</th>\n",
              "      <th>Width</th>\n",
              "      <th>Turn.circle</th>\n",
              "      <th>Rear.seat.room</th>\n",
              "      <th>Luggage.room</th>\n",
              "      <th>Weight</th>\n",
              "      <th>Origin</th>\n",
              "      <th>Make</th>\n",
              "    </tr>\n",
              "  </thead>\n",
              "  <tbody>\n",
              "    <tr>\n",
              "      <th>1</th>\n",
              "      <td>Acura</td>\n",
              "      <td>Integra</td>\n",
              "      <td>Small</td>\n",
              "      <td>12.9</td>\n",
              "      <td>15.9</td>\n",
              "      <td>18.8</td>\n",
              "      <td>25</td>\n",
              "      <td>31</td>\n",
              "      <td>None</td>\n",
              "      <td>Front</td>\n",
              "      <td>4</td>\n",
              "      <td>1.8</td>\n",
              "      <td>140</td>\n",
              "      <td>6300</td>\n",
              "      <td>2890</td>\n",
              "      <td>Yes</td>\n",
              "      <td>13.2</td>\n",
              "      <td>5</td>\n",
              "      <td>177</td>\n",
              "      <td>102</td>\n",
              "      <td>68</td>\n",
              "      <td>37</td>\n",
              "      <td>26.5</td>\n",
              "      <td>11.0</td>\n",
              "      <td>2705</td>\n",
              "      <td>non-USA</td>\n",
              "      <td>Acura Integra</td>\n",
              "    </tr>\n",
              "    <tr>\n",
              "      <th>2</th>\n",
              "      <td>Acura</td>\n",
              "      <td>Legend</td>\n",
              "      <td>Midsize</td>\n",
              "      <td>29.2</td>\n",
              "      <td>33.9</td>\n",
              "      <td>38.7</td>\n",
              "      <td>18</td>\n",
              "      <td>25</td>\n",
              "      <td>Driver &amp; Passenger</td>\n",
              "      <td>Front</td>\n",
              "      <td>6</td>\n",
              "      <td>3.2</td>\n",
              "      <td>200</td>\n",
              "      <td>5500</td>\n",
              "      <td>2335</td>\n",
              "      <td>Yes</td>\n",
              "      <td>18.0</td>\n",
              "      <td>5</td>\n",
              "      <td>195</td>\n",
              "      <td>115</td>\n",
              "      <td>71</td>\n",
              "      <td>38</td>\n",
              "      <td>30.0</td>\n",
              "      <td>15.0</td>\n",
              "      <td>3560</td>\n",
              "      <td>non-USA</td>\n",
              "      <td>Acura Legend</td>\n",
              "    </tr>\n",
              "    <tr>\n",
              "      <th>3</th>\n",
              "      <td>Audi</td>\n",
              "      <td>90</td>\n",
              "      <td>Compact</td>\n",
              "      <td>25.9</td>\n",
              "      <td>29.1</td>\n",
              "      <td>32.3</td>\n",
              "      <td>20</td>\n",
              "      <td>26</td>\n",
              "      <td>Driver only</td>\n",
              "      <td>Front</td>\n",
              "      <td>6</td>\n",
              "      <td>2.8</td>\n",
              "      <td>172</td>\n",
              "      <td>5500</td>\n",
              "      <td>2280</td>\n",
              "      <td>Yes</td>\n",
              "      <td>16.9</td>\n",
              "      <td>5</td>\n",
              "      <td>180</td>\n",
              "      <td>102</td>\n",
              "      <td>67</td>\n",
              "      <td>37</td>\n",
              "      <td>28.0</td>\n",
              "      <td>14.0</td>\n",
              "      <td>3375</td>\n",
              "      <td>non-USA</td>\n",
              "      <td>Audi 90</td>\n",
              "    </tr>\n",
              "    <tr>\n",
              "      <th>4</th>\n",
              "      <td>Audi</td>\n",
              "      <td>100</td>\n",
              "      <td>Midsize</td>\n",
              "      <td>30.8</td>\n",
              "      <td>37.7</td>\n",
              "      <td>44.6</td>\n",
              "      <td>19</td>\n",
              "      <td>26</td>\n",
              "      <td>Driver &amp; Passenger</td>\n",
              "      <td>Front</td>\n",
              "      <td>6</td>\n",
              "      <td>2.8</td>\n",
              "      <td>172</td>\n",
              "      <td>5500</td>\n",
              "      <td>2535</td>\n",
              "      <td>Yes</td>\n",
              "      <td>21.1</td>\n",
              "      <td>6</td>\n",
              "      <td>193</td>\n",
              "      <td>106</td>\n",
              "      <td>70</td>\n",
              "      <td>37</td>\n",
              "      <td>31.0</td>\n",
              "      <td>17.0</td>\n",
              "      <td>3405</td>\n",
              "      <td>non-USA</td>\n",
              "      <td>Audi 100</td>\n",
              "    </tr>\n",
              "    <tr>\n",
              "      <th>5</th>\n",
              "      <td>BMW</td>\n",
              "      <td>535i</td>\n",
              "      <td>Midsize</td>\n",
              "      <td>23.7</td>\n",
              "      <td>30.0</td>\n",
              "      <td>36.2</td>\n",
              "      <td>22</td>\n",
              "      <td>30</td>\n",
              "      <td>Driver only</td>\n",
              "      <td>Rear</td>\n",
              "      <td>4</td>\n",
              "      <td>3.5</td>\n",
              "      <td>208</td>\n",
              "      <td>5700</td>\n",
              "      <td>2545</td>\n",
              "      <td>Yes</td>\n",
              "      <td>21.1</td>\n",
              "      <td>4</td>\n",
              "      <td>186</td>\n",
              "      <td>109</td>\n",
              "      <td>69</td>\n",
              "      <td>39</td>\n",
              "      <td>27.0</td>\n",
              "      <td>13.0</td>\n",
              "      <td>3640</td>\n",
              "      <td>non-USA</td>\n",
              "      <td>BMW 535i</td>\n",
              "    </tr>\n",
              "  </tbody>\n",
              "</table>\n",
              "</div>"
            ],
            "text/plain": [
              "  Manufacturer    Model     Type  ...  Weight   Origin           Make\n",
              "1        Acura  Integra    Small  ...    2705  non-USA  Acura Integra\n",
              "2        Acura   Legend  Midsize  ...    3560  non-USA   Acura Legend\n",
              "3         Audi       90  Compact  ...    3375  non-USA        Audi 90\n",
              "4         Audi      100  Midsize  ...    3405  non-USA       Audi 100\n",
              "5          BMW     535i  Midsize  ...    3640  non-USA       BMW 535i\n",
              "\n",
              "[5 rows x 27 columns]"
            ]
          },
          "metadata": {},
          "execution_count": 17
        }
      ]
    },
    {
      "cell_type": "markdown",
      "metadata": {
        "id": "EOoDmfOBnDJI"
      },
      "source": [
        "## Preparação dos Dados"
      ]
    },
    {
      "cell_type": "markdown",
      "metadata": {
        "id": "nsgvcBy7nkgP"
      },
      "source": [
        "A preparação de dados na maior parte dos casos difere caso a caso, mas um princípio geral é de que precisamos preparar o dado da melhor forma para sejam aplicados os modelos. \n",
        "\n",
        "Neste caso a api `statsmodels.formula.api` não suporta atributos nomeados com '.' e precisamos, então, adequar o nomde dos atributos antes de aplicar o modelo."
      ]
    },
    {
      "cell_type": "code",
      "metadata": {
        "id": "Bu5L-7Lkm_Tv"
      },
      "source": [
        "df.columns = [ x.replace('.','') for x in df.columns ]"
      ],
      "execution_count": null,
      "outputs": []
    },
    {
      "cell_type": "code",
      "metadata": {
        "colab": {
          "base_uri": "https://localhost:8080/",
          "height": 309
        },
        "id": "SaGIaq8loZV3",
        "outputId": "9899cb06-489d-4988-b978-bf5be4c7f066"
      },
      "source": [
        "df.head()"
      ],
      "execution_count": null,
      "outputs": [
        {
          "output_type": "execute_result",
          "data": {
            "text/html": [
              "<div>\n",
              "<style scoped>\n",
              "    .dataframe tbody tr th:only-of-type {\n",
              "        vertical-align: middle;\n",
              "    }\n",
              "\n",
              "    .dataframe tbody tr th {\n",
              "        vertical-align: top;\n",
              "    }\n",
              "\n",
              "    .dataframe thead th {\n",
              "        text-align: right;\n",
              "    }\n",
              "</style>\n",
              "<table border=\"1\" class=\"dataframe\">\n",
              "  <thead>\n",
              "    <tr style=\"text-align: right;\">\n",
              "      <th></th>\n",
              "      <th>Manufacturer</th>\n",
              "      <th>Model</th>\n",
              "      <th>Type</th>\n",
              "      <th>MinPrice</th>\n",
              "      <th>Price</th>\n",
              "      <th>MaxPrice</th>\n",
              "      <th>MPGcity</th>\n",
              "      <th>MPGhighway</th>\n",
              "      <th>AirBags</th>\n",
              "      <th>DriveTrain</th>\n",
              "      <th>Cylinders</th>\n",
              "      <th>EngineSize</th>\n",
              "      <th>Horsepower</th>\n",
              "      <th>RPM</th>\n",
              "      <th>Revpermile</th>\n",
              "      <th>Mantransavail</th>\n",
              "      <th>Fueltankcapacity</th>\n",
              "      <th>Passengers</th>\n",
              "      <th>Length</th>\n",
              "      <th>Wheelbase</th>\n",
              "      <th>Width</th>\n",
              "      <th>Turncircle</th>\n",
              "      <th>Rearseatroom</th>\n",
              "      <th>Luggageroom</th>\n",
              "      <th>Weight</th>\n",
              "      <th>Origin</th>\n",
              "      <th>Make</th>\n",
              "    </tr>\n",
              "  </thead>\n",
              "  <tbody>\n",
              "    <tr>\n",
              "      <th>1</th>\n",
              "      <td>Acura</td>\n",
              "      <td>Integra</td>\n",
              "      <td>Small</td>\n",
              "      <td>12.9</td>\n",
              "      <td>15.9</td>\n",
              "      <td>18.8</td>\n",
              "      <td>25</td>\n",
              "      <td>31</td>\n",
              "      <td>None</td>\n",
              "      <td>Front</td>\n",
              "      <td>4</td>\n",
              "      <td>1.8</td>\n",
              "      <td>140</td>\n",
              "      <td>6300</td>\n",
              "      <td>2890</td>\n",
              "      <td>Yes</td>\n",
              "      <td>13.2</td>\n",
              "      <td>5</td>\n",
              "      <td>177</td>\n",
              "      <td>102</td>\n",
              "      <td>68</td>\n",
              "      <td>37</td>\n",
              "      <td>26.5</td>\n",
              "      <td>11.0</td>\n",
              "      <td>2705</td>\n",
              "      <td>non-USA</td>\n",
              "      <td>Acura Integra</td>\n",
              "    </tr>\n",
              "    <tr>\n",
              "      <th>2</th>\n",
              "      <td>Acura</td>\n",
              "      <td>Legend</td>\n",
              "      <td>Midsize</td>\n",
              "      <td>29.2</td>\n",
              "      <td>33.9</td>\n",
              "      <td>38.7</td>\n",
              "      <td>18</td>\n",
              "      <td>25</td>\n",
              "      <td>Driver &amp; Passenger</td>\n",
              "      <td>Front</td>\n",
              "      <td>6</td>\n",
              "      <td>3.2</td>\n",
              "      <td>200</td>\n",
              "      <td>5500</td>\n",
              "      <td>2335</td>\n",
              "      <td>Yes</td>\n",
              "      <td>18.0</td>\n",
              "      <td>5</td>\n",
              "      <td>195</td>\n",
              "      <td>115</td>\n",
              "      <td>71</td>\n",
              "      <td>38</td>\n",
              "      <td>30.0</td>\n",
              "      <td>15.0</td>\n",
              "      <td>3560</td>\n",
              "      <td>non-USA</td>\n",
              "      <td>Acura Legend</td>\n",
              "    </tr>\n",
              "    <tr>\n",
              "      <th>3</th>\n",
              "      <td>Audi</td>\n",
              "      <td>90</td>\n",
              "      <td>Compact</td>\n",
              "      <td>25.9</td>\n",
              "      <td>29.1</td>\n",
              "      <td>32.3</td>\n",
              "      <td>20</td>\n",
              "      <td>26</td>\n",
              "      <td>Driver only</td>\n",
              "      <td>Front</td>\n",
              "      <td>6</td>\n",
              "      <td>2.8</td>\n",
              "      <td>172</td>\n",
              "      <td>5500</td>\n",
              "      <td>2280</td>\n",
              "      <td>Yes</td>\n",
              "      <td>16.9</td>\n",
              "      <td>5</td>\n",
              "      <td>180</td>\n",
              "      <td>102</td>\n",
              "      <td>67</td>\n",
              "      <td>37</td>\n",
              "      <td>28.0</td>\n",
              "      <td>14.0</td>\n",
              "      <td>3375</td>\n",
              "      <td>non-USA</td>\n",
              "      <td>Audi 90</td>\n",
              "    </tr>\n",
              "    <tr>\n",
              "      <th>4</th>\n",
              "      <td>Audi</td>\n",
              "      <td>100</td>\n",
              "      <td>Midsize</td>\n",
              "      <td>30.8</td>\n",
              "      <td>37.7</td>\n",
              "      <td>44.6</td>\n",
              "      <td>19</td>\n",
              "      <td>26</td>\n",
              "      <td>Driver &amp; Passenger</td>\n",
              "      <td>Front</td>\n",
              "      <td>6</td>\n",
              "      <td>2.8</td>\n",
              "      <td>172</td>\n",
              "      <td>5500</td>\n",
              "      <td>2535</td>\n",
              "      <td>Yes</td>\n",
              "      <td>21.1</td>\n",
              "      <td>6</td>\n",
              "      <td>193</td>\n",
              "      <td>106</td>\n",
              "      <td>70</td>\n",
              "      <td>37</td>\n",
              "      <td>31.0</td>\n",
              "      <td>17.0</td>\n",
              "      <td>3405</td>\n",
              "      <td>non-USA</td>\n",
              "      <td>Audi 100</td>\n",
              "    </tr>\n",
              "    <tr>\n",
              "      <th>5</th>\n",
              "      <td>BMW</td>\n",
              "      <td>535i</td>\n",
              "      <td>Midsize</td>\n",
              "      <td>23.7</td>\n",
              "      <td>30.0</td>\n",
              "      <td>36.2</td>\n",
              "      <td>22</td>\n",
              "      <td>30</td>\n",
              "      <td>Driver only</td>\n",
              "      <td>Rear</td>\n",
              "      <td>4</td>\n",
              "      <td>3.5</td>\n",
              "      <td>208</td>\n",
              "      <td>5700</td>\n",
              "      <td>2545</td>\n",
              "      <td>Yes</td>\n",
              "      <td>21.1</td>\n",
              "      <td>4</td>\n",
              "      <td>186</td>\n",
              "      <td>109</td>\n",
              "      <td>69</td>\n",
              "      <td>39</td>\n",
              "      <td>27.0</td>\n",
              "      <td>13.0</td>\n",
              "      <td>3640</td>\n",
              "      <td>non-USA</td>\n",
              "      <td>BMW 535i</td>\n",
              "    </tr>\n",
              "  </tbody>\n",
              "</table>\n",
              "</div>"
            ],
            "text/plain": [
              "  Manufacturer    Model     Type  ...  Weight   Origin           Make\n",
              "1        Acura  Integra    Small  ...    2705  non-USA  Acura Integra\n",
              "2        Acura   Legend  Midsize  ...    3560  non-USA   Acura Legend\n",
              "3         Audi       90  Compact  ...    3375  non-USA        Audi 90\n",
              "4         Audi      100  Midsize  ...    3405  non-USA       Audi 100\n",
              "5          BMW     535i  Midsize  ...    3640  non-USA       BMW 535i\n",
              "\n",
              "[5 rows x 27 columns]"
            ]
          },
          "metadata": {},
          "execution_count": 19
        }
      ]
    },
    {
      "cell_type": "code",
      "metadata": {
        "colab": {
          "base_uri": "https://localhost:8080/",
          "height": 427
        },
        "id": "zipvcxWqvuRF",
        "outputId": "8a697462-5a3c-4174-d036-eea4dc2fefa6"
      },
      "source": [
        "df.describe(include='all')"
      ],
      "execution_count": null,
      "outputs": [
        {
          "output_type": "execute_result",
          "data": {
            "text/html": [
              "<div>\n",
              "<style scoped>\n",
              "    .dataframe tbody tr th:only-of-type {\n",
              "        vertical-align: middle;\n",
              "    }\n",
              "\n",
              "    .dataframe tbody tr th {\n",
              "        vertical-align: top;\n",
              "    }\n",
              "\n",
              "    .dataframe thead th {\n",
              "        text-align: right;\n",
              "    }\n",
              "</style>\n",
              "<table border=\"1\" class=\"dataframe\">\n",
              "  <thead>\n",
              "    <tr style=\"text-align: right;\">\n",
              "      <th></th>\n",
              "      <th>Manufacturer</th>\n",
              "      <th>Model</th>\n",
              "      <th>Type</th>\n",
              "      <th>MinPrice</th>\n",
              "      <th>Price</th>\n",
              "      <th>MaxPrice</th>\n",
              "      <th>MPGcity</th>\n",
              "      <th>MPGhighway</th>\n",
              "      <th>AirBags</th>\n",
              "      <th>DriveTrain</th>\n",
              "      <th>Cylinders</th>\n",
              "      <th>EngineSize</th>\n",
              "      <th>Horsepower</th>\n",
              "      <th>RPM</th>\n",
              "      <th>Revpermile</th>\n",
              "      <th>Mantransavail</th>\n",
              "      <th>Fueltankcapacity</th>\n",
              "      <th>Passengers</th>\n",
              "      <th>Length</th>\n",
              "      <th>Wheelbase</th>\n",
              "      <th>Width</th>\n",
              "      <th>Turncircle</th>\n",
              "      <th>Rearseatroom</th>\n",
              "      <th>Luggageroom</th>\n",
              "      <th>Weight</th>\n",
              "      <th>Origin</th>\n",
              "      <th>Make</th>\n",
              "    </tr>\n",
              "  </thead>\n",
              "  <tbody>\n",
              "    <tr>\n",
              "      <th>count</th>\n",
              "      <td>93</td>\n",
              "      <td>93</td>\n",
              "      <td>93</td>\n",
              "      <td>93.000000</td>\n",
              "      <td>93.000000</td>\n",
              "      <td>93.000000</td>\n",
              "      <td>93.000000</td>\n",
              "      <td>93.000000</td>\n",
              "      <td>93</td>\n",
              "      <td>93</td>\n",
              "      <td>93</td>\n",
              "      <td>93.000000</td>\n",
              "      <td>93.000000</td>\n",
              "      <td>93.000000</td>\n",
              "      <td>93.000000</td>\n",
              "      <td>93</td>\n",
              "      <td>93.000000</td>\n",
              "      <td>93.000000</td>\n",
              "      <td>93.000000</td>\n",
              "      <td>93.000000</td>\n",
              "      <td>93.000000</td>\n",
              "      <td>93.000000</td>\n",
              "      <td>91.000000</td>\n",
              "      <td>82.000000</td>\n",
              "      <td>93.000000</td>\n",
              "      <td>93</td>\n",
              "      <td>93</td>\n",
              "    </tr>\n",
              "    <tr>\n",
              "      <th>unique</th>\n",
              "      <td>32</td>\n",
              "      <td>93</td>\n",
              "      <td>6</td>\n",
              "      <td>NaN</td>\n",
              "      <td>NaN</td>\n",
              "      <td>NaN</td>\n",
              "      <td>NaN</td>\n",
              "      <td>NaN</td>\n",
              "      <td>3</td>\n",
              "      <td>3</td>\n",
              "      <td>6</td>\n",
              "      <td>NaN</td>\n",
              "      <td>NaN</td>\n",
              "      <td>NaN</td>\n",
              "      <td>NaN</td>\n",
              "      <td>2</td>\n",
              "      <td>NaN</td>\n",
              "      <td>NaN</td>\n",
              "      <td>NaN</td>\n",
              "      <td>NaN</td>\n",
              "      <td>NaN</td>\n",
              "      <td>NaN</td>\n",
              "      <td>NaN</td>\n",
              "      <td>NaN</td>\n",
              "      <td>NaN</td>\n",
              "      <td>2</td>\n",
              "      <td>93</td>\n",
              "    </tr>\n",
              "    <tr>\n",
              "      <th>top</th>\n",
              "      <td>Ford</td>\n",
              "      <td>Spirit</td>\n",
              "      <td>Midsize</td>\n",
              "      <td>NaN</td>\n",
              "      <td>NaN</td>\n",
              "      <td>NaN</td>\n",
              "      <td>NaN</td>\n",
              "      <td>NaN</td>\n",
              "      <td>Driver only</td>\n",
              "      <td>Front</td>\n",
              "      <td>4</td>\n",
              "      <td>NaN</td>\n",
              "      <td>NaN</td>\n",
              "      <td>NaN</td>\n",
              "      <td>NaN</td>\n",
              "      <td>Yes</td>\n",
              "      <td>NaN</td>\n",
              "      <td>NaN</td>\n",
              "      <td>NaN</td>\n",
              "      <td>NaN</td>\n",
              "      <td>NaN</td>\n",
              "      <td>NaN</td>\n",
              "      <td>NaN</td>\n",
              "      <td>NaN</td>\n",
              "      <td>NaN</td>\n",
              "      <td>USA</td>\n",
              "      <td>Chevrolet Corvette</td>\n",
              "    </tr>\n",
              "    <tr>\n",
              "      <th>freq</th>\n",
              "      <td>8</td>\n",
              "      <td>1</td>\n",
              "      <td>22</td>\n",
              "      <td>NaN</td>\n",
              "      <td>NaN</td>\n",
              "      <td>NaN</td>\n",
              "      <td>NaN</td>\n",
              "      <td>NaN</td>\n",
              "      <td>43</td>\n",
              "      <td>67</td>\n",
              "      <td>49</td>\n",
              "      <td>NaN</td>\n",
              "      <td>NaN</td>\n",
              "      <td>NaN</td>\n",
              "      <td>NaN</td>\n",
              "      <td>61</td>\n",
              "      <td>NaN</td>\n",
              "      <td>NaN</td>\n",
              "      <td>NaN</td>\n",
              "      <td>NaN</td>\n",
              "      <td>NaN</td>\n",
              "      <td>NaN</td>\n",
              "      <td>NaN</td>\n",
              "      <td>NaN</td>\n",
              "      <td>NaN</td>\n",
              "      <td>48</td>\n",
              "      <td>1</td>\n",
              "    </tr>\n",
              "    <tr>\n",
              "      <th>mean</th>\n",
              "      <td>NaN</td>\n",
              "      <td>NaN</td>\n",
              "      <td>NaN</td>\n",
              "      <td>17.125806</td>\n",
              "      <td>19.509677</td>\n",
              "      <td>21.898925</td>\n",
              "      <td>22.365591</td>\n",
              "      <td>29.086022</td>\n",
              "      <td>NaN</td>\n",
              "      <td>NaN</td>\n",
              "      <td>NaN</td>\n",
              "      <td>2.667742</td>\n",
              "      <td>143.827957</td>\n",
              "      <td>5280.645161</td>\n",
              "      <td>2332.204301</td>\n",
              "      <td>NaN</td>\n",
              "      <td>16.664516</td>\n",
              "      <td>5.086022</td>\n",
              "      <td>183.204301</td>\n",
              "      <td>103.946237</td>\n",
              "      <td>69.376344</td>\n",
              "      <td>38.956989</td>\n",
              "      <td>27.829670</td>\n",
              "      <td>13.890244</td>\n",
              "      <td>3072.903226</td>\n",
              "      <td>NaN</td>\n",
              "      <td>NaN</td>\n",
              "    </tr>\n",
              "    <tr>\n",
              "      <th>std</th>\n",
              "      <td>NaN</td>\n",
              "      <td>NaN</td>\n",
              "      <td>NaN</td>\n",
              "      <td>8.746029</td>\n",
              "      <td>9.659430</td>\n",
              "      <td>11.030457</td>\n",
              "      <td>5.619812</td>\n",
              "      <td>5.331726</td>\n",
              "      <td>NaN</td>\n",
              "      <td>NaN</td>\n",
              "      <td>NaN</td>\n",
              "      <td>1.037363</td>\n",
              "      <td>52.374410</td>\n",
              "      <td>596.731690</td>\n",
              "      <td>496.506525</td>\n",
              "      <td>NaN</td>\n",
              "      <td>3.279370</td>\n",
              "      <td>1.038979</td>\n",
              "      <td>14.602382</td>\n",
              "      <td>6.819674</td>\n",
              "      <td>3.778986</td>\n",
              "      <td>3.223265</td>\n",
              "      <td>2.989072</td>\n",
              "      <td>2.997967</td>\n",
              "      <td>589.896510</td>\n",
              "      <td>NaN</td>\n",
              "      <td>NaN</td>\n",
              "    </tr>\n",
              "    <tr>\n",
              "      <th>min</th>\n",
              "      <td>NaN</td>\n",
              "      <td>NaN</td>\n",
              "      <td>NaN</td>\n",
              "      <td>6.700000</td>\n",
              "      <td>7.400000</td>\n",
              "      <td>7.900000</td>\n",
              "      <td>15.000000</td>\n",
              "      <td>20.000000</td>\n",
              "      <td>NaN</td>\n",
              "      <td>NaN</td>\n",
              "      <td>NaN</td>\n",
              "      <td>1.000000</td>\n",
              "      <td>55.000000</td>\n",
              "      <td>3800.000000</td>\n",
              "      <td>1320.000000</td>\n",
              "      <td>NaN</td>\n",
              "      <td>9.200000</td>\n",
              "      <td>2.000000</td>\n",
              "      <td>141.000000</td>\n",
              "      <td>90.000000</td>\n",
              "      <td>60.000000</td>\n",
              "      <td>32.000000</td>\n",
              "      <td>19.000000</td>\n",
              "      <td>6.000000</td>\n",
              "      <td>1695.000000</td>\n",
              "      <td>NaN</td>\n",
              "      <td>NaN</td>\n",
              "    </tr>\n",
              "    <tr>\n",
              "      <th>25%</th>\n",
              "      <td>NaN</td>\n",
              "      <td>NaN</td>\n",
              "      <td>NaN</td>\n",
              "      <td>10.800000</td>\n",
              "      <td>12.200000</td>\n",
              "      <td>14.700000</td>\n",
              "      <td>18.000000</td>\n",
              "      <td>26.000000</td>\n",
              "      <td>NaN</td>\n",
              "      <td>NaN</td>\n",
              "      <td>NaN</td>\n",
              "      <td>1.800000</td>\n",
              "      <td>103.000000</td>\n",
              "      <td>4800.000000</td>\n",
              "      <td>1985.000000</td>\n",
              "      <td>NaN</td>\n",
              "      <td>14.500000</td>\n",
              "      <td>4.000000</td>\n",
              "      <td>174.000000</td>\n",
              "      <td>98.000000</td>\n",
              "      <td>67.000000</td>\n",
              "      <td>37.000000</td>\n",
              "      <td>26.000000</td>\n",
              "      <td>12.000000</td>\n",
              "      <td>2620.000000</td>\n",
              "      <td>NaN</td>\n",
              "      <td>NaN</td>\n",
              "    </tr>\n",
              "    <tr>\n",
              "      <th>50%</th>\n",
              "      <td>NaN</td>\n",
              "      <td>NaN</td>\n",
              "      <td>NaN</td>\n",
              "      <td>14.700000</td>\n",
              "      <td>17.700000</td>\n",
              "      <td>19.600000</td>\n",
              "      <td>21.000000</td>\n",
              "      <td>28.000000</td>\n",
              "      <td>NaN</td>\n",
              "      <td>NaN</td>\n",
              "      <td>NaN</td>\n",
              "      <td>2.400000</td>\n",
              "      <td>140.000000</td>\n",
              "      <td>5200.000000</td>\n",
              "      <td>2340.000000</td>\n",
              "      <td>NaN</td>\n",
              "      <td>16.400000</td>\n",
              "      <td>5.000000</td>\n",
              "      <td>183.000000</td>\n",
              "      <td>103.000000</td>\n",
              "      <td>69.000000</td>\n",
              "      <td>39.000000</td>\n",
              "      <td>27.500000</td>\n",
              "      <td>14.000000</td>\n",
              "      <td>3040.000000</td>\n",
              "      <td>NaN</td>\n",
              "      <td>NaN</td>\n",
              "    </tr>\n",
              "    <tr>\n",
              "      <th>75%</th>\n",
              "      <td>NaN</td>\n",
              "      <td>NaN</td>\n",
              "      <td>NaN</td>\n",
              "      <td>20.300000</td>\n",
              "      <td>23.300000</td>\n",
              "      <td>25.300000</td>\n",
              "      <td>25.000000</td>\n",
              "      <td>31.000000</td>\n",
              "      <td>NaN</td>\n",
              "      <td>NaN</td>\n",
              "      <td>NaN</td>\n",
              "      <td>3.300000</td>\n",
              "      <td>170.000000</td>\n",
              "      <td>5750.000000</td>\n",
              "      <td>2565.000000</td>\n",
              "      <td>NaN</td>\n",
              "      <td>18.800000</td>\n",
              "      <td>6.000000</td>\n",
              "      <td>192.000000</td>\n",
              "      <td>110.000000</td>\n",
              "      <td>72.000000</td>\n",
              "      <td>41.000000</td>\n",
              "      <td>30.000000</td>\n",
              "      <td>15.000000</td>\n",
              "      <td>3525.000000</td>\n",
              "      <td>NaN</td>\n",
              "      <td>NaN</td>\n",
              "    </tr>\n",
              "    <tr>\n",
              "      <th>max</th>\n",
              "      <td>NaN</td>\n",
              "      <td>NaN</td>\n",
              "      <td>NaN</td>\n",
              "      <td>45.400000</td>\n",
              "      <td>61.900000</td>\n",
              "      <td>80.000000</td>\n",
              "      <td>46.000000</td>\n",
              "      <td>50.000000</td>\n",
              "      <td>NaN</td>\n",
              "      <td>NaN</td>\n",
              "      <td>NaN</td>\n",
              "      <td>5.700000</td>\n",
              "      <td>300.000000</td>\n",
              "      <td>6500.000000</td>\n",
              "      <td>3755.000000</td>\n",
              "      <td>NaN</td>\n",
              "      <td>27.000000</td>\n",
              "      <td>8.000000</td>\n",
              "      <td>219.000000</td>\n",
              "      <td>119.000000</td>\n",
              "      <td>78.000000</td>\n",
              "      <td>45.000000</td>\n",
              "      <td>36.000000</td>\n",
              "      <td>22.000000</td>\n",
              "      <td>4105.000000</td>\n",
              "      <td>NaN</td>\n",
              "      <td>NaN</td>\n",
              "    </tr>\n",
              "  </tbody>\n",
              "</table>\n",
              "</div>"
            ],
            "text/plain": [
              "       Manufacturer   Model     Type  ...       Weight  Origin                Make\n",
              "count            93      93       93  ...    93.000000      93                  93\n",
              "unique           32      93        6  ...          NaN       2                  93\n",
              "top            Ford  Spirit  Midsize  ...          NaN     USA  Chevrolet Corvette\n",
              "freq              8       1       22  ...          NaN      48                   1\n",
              "mean            NaN     NaN      NaN  ...  3072.903226     NaN                 NaN\n",
              "std             NaN     NaN      NaN  ...   589.896510     NaN                 NaN\n",
              "min             NaN     NaN      NaN  ...  1695.000000     NaN                 NaN\n",
              "25%             NaN     NaN      NaN  ...  2620.000000     NaN                 NaN\n",
              "50%             NaN     NaN      NaN  ...  3040.000000     NaN                 NaN\n",
              "75%             NaN     NaN      NaN  ...  3525.000000     NaN                 NaN\n",
              "max             NaN     NaN      NaN  ...  4105.000000     NaN                 NaN\n",
              "\n",
              "[11 rows x 27 columns]"
            ]
          },
          "metadata": {},
          "execution_count": 20
        }
      ]
    },
    {
      "cell_type": "markdown",
      "metadata": {
        "id": "jDzqv-PuodNH"
      },
      "source": [
        "## Regressão Linear Simples"
      ]
    },
    {
      "cell_type": "markdown",
      "metadata": {
        "id": "FdCovytDWnRM"
      },
      "source": [
        "Inicialmente vamos empregar somente variáveis numéricas para estimar o Preço, `Price`, dos veículos começando por um modelo de regressão linear simples empregando apenas a potência do motor, `Horsepower`, como variável preditora."
      ]
    },
    {
      "cell_type": "code",
      "metadata": {
        "id": "_AgJXt_DWS3a",
        "colab": {
          "base_uri": "https://localhost:8080/",
          "height": 369
        },
        "outputId": "cd59c2ce-1187-45b9-e770-87c719dddf4b"
      },
      "source": [
        "sns.lmplot(x='Horsepower',y='Price',data=df)\n",
        "plt.show()"
      ],
      "execution_count": null,
      "outputs": [
        {
          "output_type": "display_data",
          "data": {
            "image/png": "[encoded data removed]",
            "text/plain": [
              "<Figure size 360x360 with 1 Axes>"
            ]
          },
          "metadata": {
            "needs_background": "light"
          }
        }
      ]
    },
    {
      "cell_type": "markdown",
      "metadata": {
        "id": "llKd1p1FVRop"
      },
      "source": [
        "Vamos, portanto, tentar inicialmente determinar o preço a partir somente da potência dos veículos, isto é:\n",
        "\n",
        "$$ \\hat{Price} =  a_0 + a_1 \\text{Horsepower} $$\n",
        "\n"
      ]
    },
    {
      "cell_type": "code",
      "metadata": {
        "id": "eISSxlPk6Xkq"
      },
      "source": [
        "model = sm.ols(formula=\"Price ~ Horsepower\", data=df)\n"
      ],
      "execution_count": null,
      "outputs": []
    },
    {
      "cell_type": "code",
      "metadata": {
        "id": "oIwL-5zA6mWi",
        "colab": {
          "base_uri": "https://localhost:8080/"
        },
        "outputId": "61d3e0e1-b114-4d00-a084-2cc31efaaf10"
      },
      "source": [
        "result = model.fit()\n",
        "print(result.summary())"
      ],
      "execution_count": null,
      "outputs": [
        {
          "output_type": "stream",
          "name": "stdout",
          "text": [
            "                            OLS Regression Results                            \n",
            "==============================================================================\n",
            "Dep. Variable:                  Price   R-squared:                       0.621\n",
            "Model:                            OLS   Adj. R-squared:                  0.617\n",
            "Method:                 Least Squares   F-statistic:                     149.3\n",
            "Date:                Sat, 20 Nov 2021   Prob (F-statistic):           6.84e-21\n",
            "Time:                        17:22:57   Log-Likelihood:                -297.23\n",
            "No. Observations:                  93   AIC:                             598.5\n",
            "Df Residuals:                      91   BIC:                             603.5\n",
            "Df Model:                           1                                         \n",
            "Covariance Type:            nonrobust                                         \n",
            "==============================================================================\n",
            "                 coef    std err          t      P>|t|      [0.025      0.975]\n",
            "------------------------------------------------------------------------------\n",
            "Intercept     -1.3988      1.820     -0.769      0.444      -5.014       2.216\n",
            "Horsepower     0.1454      0.012     12.218      0.000       0.122       0.169\n",
            "==============================================================================\n",
            "Omnibus:                       55.766   Durbin-Watson:                   1.466\n",
            "Prob(Omnibus):                  0.000   Jarque-Bera (JB):              308.782\n",
            "Skew:                           1.805   Prob(JB):                     8.89e-68\n",
            "Kurtosis:                      11.164   Cond. No.                         449.\n",
            "==============================================================================\n",
            "\n",
            "Warnings:\n",
            "[1] Standard Errors assume that the covariance matrix of the errors is correctly specified.\n"
          ]
        }
      ]
    },
    {
      "cell_type": "markdown",
      "metadata": {
        "id": "123_FRbZ6v0Y"
      },
      "source": [
        "Obtemos assim o modelo:\n",
        "\n",
        "$$ \\hat{Price} =  -1.3988 + 0.1454 \\times \\text{Horsepower} $$   \n",
        " \n",
        "\n"
      ]
    },
    {
      "cell_type": "markdown",
      "metadata": {
        "id": "UArNPQQOYppn"
      },
      "source": [
        "## Predição de novos valores, `predict(x)`\n",
        "\n",
        "Podemos agora empregar nosso modelo para estimar o consumo desconhecido de um novo veículo na cidade mas que sabemos o seu peso:  "
      ]
    },
    {
      "cell_type": "code",
      "metadata": {
        "id": "Rc7ckqg98J8V",
        "colab": {
          "base_uri": "https://localhost:8080/"
        },
        "outputId": "99f3a89e-0ab1-49d6-be67-ba9d390344ca"
      },
      "source": [
        "x = pd.DataFrame({'Horsepower': [150,180]})\n",
        "result.predict(x)"
      ],
      "execution_count": null,
      "outputs": [
        {
          "output_type": "execute_result",
          "data": {
            "text/plain": [
              "0    20.406915\n",
              "1    24.768052\n",
              "dtype: float64"
            ]
          },
          "metadata": {},
          "execution_count": 24
        }
      ]
    },
    {
      "cell_type": "markdown",
      "metadata": {
        "id": "XyRl09f4Zne7"
      },
      "source": [
        "## Avaliando o Modelo\n",
        "\n",
        "### Inspeção Visual"
      ]
    },
    {
      "cell_type": "markdown",
      "metadata": {
        "id": "RPZI1rIGYKyE"
      },
      "source": [
        "Sendo uma regressão simples podemos fazer uma inspeção visual do modelo e ver se de fato os dados se ajustam ao modelo."
      ]
    },
    {
      "cell_type": "code",
      "metadata": {
        "id": "_wgtCaq_7IuB"
      },
      "source": [
        "df['predicted'] = result.predict()"
      ],
      "execution_count": null,
      "outputs": []
    },
    {
      "cell_type": "code",
      "metadata": {
        "id": "Zo48GSLV7bEQ",
        "colab": {
          "base_uri": "https://localhost:8080/",
          "height": 279
        },
        "outputId": "2af1222c-12bb-444d-d59b-752ce058cb53"
      },
      "source": [
        "sns.scatterplot(x='Horsepower', y='Price', data=df)\n",
        "sns.lineplot(x='Horsepower', y='predicted', data=df, color='red')\n",
        "plt.show()\n"
      ],
      "execution_count": null,
      "outputs": [
        {
          "output_type": "display_data",
          "data": {
            "image/png": "[encoded data removed]",
            "text/plain": [
              "<Figure size 432x288 with 1 Axes>"
            ]
          },
          "metadata": {
            "needs_background": "light"
          }
        }
      ]
    },
    {
      "cell_type": "markdown",
      "metadata": {
        "id": "wcN3EJtSaHBz"
      },
      "source": [
        "Os dados parecem se ajustar muito parcialmente aos dados. Mas a inspeção visual é bastante limitada e, no máximo, pode permitir a avaliação de modelos de regressão simples, em duas dimensões."
      ]
    },
    {
      "cell_type": "markdown",
      "metadata": {
        "id": "zCBxb243aavi"
      },
      "source": [
        "### Analisando o $R^2$ e *p-values*\n",
        "\n",
        "$$ R^2 = 0.621$$\n",
        "$$ p-values = 0.444 > 0.05 \\text{, para o intercept}$$\n",
        "\n",
        "A análise do coeficiente de determinação e do *p-value* dos coeficientes é uma forma mais efetiva de avaliação e pode ser aplicada também a modelos de regressão múltipla (com mais de uma variável preditora). O valores também mostram que os dados se ajustam de modo bastante parcial ao modelo, que explica somente 62.1% da variação dos dados havendo ainda um coeficiente (*intercept*) não significativo para o modelo. O intervalo de confiança seria ainda uma verificação adicional e fornece o intervalo de valores de cada coeficiente, e que podemos empregar para identificar possíveis desvios nos coeficientes. "
      ]
    },
    {
      "cell_type": "code",
      "metadata": {
        "id": "CeUTmXybaj5C",
        "colab": {
          "base_uri": "https://localhost:8080/"
        },
        "outputId": "4e97bf37-5d71-438b-c950-8bcb58e04851"
      },
      "source": [
        "print(result.summary())"
      ],
      "execution_count": null,
      "outputs": [
        {
          "output_type": "stream",
          "name": "stdout",
          "text": [
            "                            OLS Regression Results                            \n",
            "==============================================================================\n",
            "Dep. Variable:                  Price   R-squared:                       0.621\n",
            "Model:                            OLS   Adj. R-squared:                  0.617\n",
            "Method:                 Least Squares   F-statistic:                     149.3\n",
            "Date:                Sat, 20 Nov 2021   Prob (F-statistic):           6.84e-21\n",
            "Time:                        17:22:57   Log-Likelihood:                -297.23\n",
            "No. Observations:                  93   AIC:                             598.5\n",
            "Df Residuals:                      91   BIC:                             603.5\n",
            "Df Model:                           1                                         \n",
            "Covariance Type:            nonrobust                                         \n",
            "==============================================================================\n",
            "                 coef    std err          t      P>|t|      [0.025      0.975]\n",
            "------------------------------------------------------------------------------\n",
            "Intercept     -1.3988      1.820     -0.769      0.444      -5.014       2.216\n",
            "Horsepower     0.1454      0.012     12.218      0.000       0.122       0.169\n",
            "==============================================================================\n",
            "Omnibus:                       55.766   Durbin-Watson:                   1.466\n",
            "Prob(Omnibus):                  0.000   Jarque-Bera (JB):              308.782\n",
            "Skew:                           1.805   Prob(JB):                     8.89e-68\n",
            "Kurtosis:                      11.164   Cond. No.                         449.\n",
            "==============================================================================\n",
            "\n",
            "Warnings:\n",
            "[1] Standard Errors assume that the covariance matrix of the errors is correctly specified.\n"
          ]
        }
      ]
    },
    {
      "cell_type": "markdown",
      "metadata": {
        "id": "Y6suW5Jtb3fv"
      },
      "source": [
        "## Regressão Múltipla: Adicionando Mais Variáveis ao Modelo\n",
        "\n",
        "Sendo o ajuste do modelo anterior parcial vamos buscar aprimorar o mdeolo adicionando mais variáveis preditoras. Vamos, entretanto, ainda nos atermos a entradas numéricas no modelo."
      ]
    },
    {
      "cell_type": "code",
      "metadata": {
        "id": "Q1YXxDVo70fN",
        "colab": {
          "base_uri": "https://localhost:8080/"
        },
        "outputId": "b81999cf-f377-43e0-e5c3-62fb70d800c3"
      },
      "source": [
        "model = sm.ols(formula=\"Price ~ Passengers +\tLength +\tWheelbase\t+ \\\n",
        "              Width\t+ Turncircle + Luggageroom + \\\n",
        "              Weight + Horsepower + EngineSize + \\\n",
        "              RPM + Wheelbase \", data=df)\n",
        "result = model.fit()\n",
        "print(result.summary())"
      ],
      "execution_count": null,
      "outputs": [
        {
          "output_type": "stream",
          "name": "stdout",
          "text": [
            "                            OLS Regression Results                            \n",
            "==============================================================================\n",
            "Dep. Variable:                  Price   R-squared:                       0.727\n",
            "Model:                            OLS   Adj. R-squared:                  0.689\n",
            "Method:                 Least Squares   F-statistic:                     18.94\n",
            "Date:                Sat, 20 Nov 2021   Prob (F-statistic):           2.32e-16\n",
            "Time:                        17:22:57   Log-Likelihood:                -251.04\n",
            "No. Observations:                  82   AIC:                             524.1\n",
            "Df Residuals:                      71   BIC:                             550.6\n",
            "Df Model:                          10                                         \n",
            "Covariance Type:            nonrobust                                         \n",
            "===============================================================================\n",
            "                  coef    std err          t      P>|t|      [0.025      0.975]\n",
            "-------------------------------------------------------------------------------\n",
            "Intercept      53.1792     28.749      1.850      0.069      -4.146     110.504\n",
            "Passengers     -0.3768      1.317     -0.286      0.776      -3.004       2.250\n",
            "Length          0.0090      0.130      0.069      0.945      -0.251       0.269\n",
            "Wheelbase       0.6436      0.280      2.301      0.024       0.086       1.201\n",
            "Width          -1.5020      0.457     -3.289      0.002      -2.413      -0.591\n",
            "Turncircle     -0.5811      0.374     -1.555      0.124      -1.326       0.164\n",
            "Luggageroom     0.0801      0.349      0.230      0.819      -0.615       0.776\n",
            "Weight          0.0066      0.005      1.366      0.176      -0.003       0.016\n",
            "Horsepower      0.1430      0.046      3.123      0.003       0.052       0.234\n",
            "EngineSize     -0.7457      2.409     -0.310      0.758      -5.549       4.057\n",
            "RPM            -0.0025      0.002     -1.081      0.283      -0.007       0.002\n",
            "==============================================================================\n",
            "Omnibus:                       28.002   Durbin-Watson:                   1.869\n",
            "Prob(Omnibus):                  0.000   Jarque-Bera (JB):               81.343\n",
            "Skew:                           1.048   Prob(JB):                     2.17e-18\n",
            "Kurtosis:                       7.406   Cond. No.                     2.88e+05\n",
            "==============================================================================\n",
            "\n",
            "Warnings:\n",
            "[1] Standard Errors assume that the covariance matrix of the errors is correctly specified.\n",
            "[2] The condition number is large, 2.88e+05. This might indicate that there are\n",
            "strong multicollinearity or other numerical problems.\n"
          ]
        }
      ]
    },
    {
      "cell_type": "markdown",
      "metadata": {
        "id": "Vdl5fnNjdbYj"
      },
      "source": [
        "A inspeção visal agora não é mais possível mas podemos analisar as métricas do modelo. O modelo agora apresenta um resultado melhor, mas ainda assim parcial. \n",
        "\n",
        "$$ \\bar{R}^2 = 0.689 $$\n",
        "$$ p-values > 0.05 $$\n",
        "\n",
        "O $\\bar{R}^2$, ajustado, ainda é bastante inferior a $0.8$ (um valor a partir do qual as predições começam a ficar interessantes) e ainda existem estimadores não sigficantes, incluindo o `intercept`. Um modelo melhor pode ser obtido, então, empregando-se somente os estimadores relevante, e empregamos o $-1$ na fórmula para excluir o `intercept` do modelo. "
      ]
    },
    {
      "cell_type": "code",
      "metadata": {
        "colab": {
          "base_uri": "https://localhost:8080/"
        },
        "id": "i4kX6uAUwDSy",
        "outputId": "7293fbd1-1866-4ad0-98bf-bbfaa5ea5ca3"
      },
      "source": [
        "model = sm.ols(formula=\"Price ~ Wheelbase\t+ Width\t+ Horsepower - 1\", data=df)\n",
        "result = model.fit()\n",
        "print(result.summary())"
      ],
      "execution_count": null,
      "outputs": [
        {
          "output_type": "stream",
          "name": "stdout",
          "text": [
            "                                 OLS Regression Results                                \n",
            "=======================================================================================\n",
            "Dep. Variable:                  Price   R-squared (uncentered):                   0.941\n",
            "Model:                            OLS   Adj. R-squared (uncentered):              0.939\n",
            "Method:                 Least Squares   F-statistic:                              476.8\n",
            "Date:                Sat, 20 Nov 2021   Prob (F-statistic):                    4.19e-55\n",
            "Time:                        17:22:57   Log-Likelihood:                         -286.90\n",
            "No. Observations:                  93   AIC:                                      579.8\n",
            "Df Residuals:                      90   BIC:                                      587.4\n",
            "Df Model:                           3                                                  \n",
            "Covariance Type:            nonrobust                                                  \n",
            "==============================================================================\n",
            "                 coef    std err          t      P>|t|      [0.025      0.975]\n",
            "------------------------------------------------------------------------------\n",
            "Wheelbase      0.6567      0.140      4.702      0.000       0.379       0.934\n",
            "Width         -1.0195      0.213     -4.789      0.000      -1.442      -0.597\n",
            "Horsepower     0.1526      0.012     12.931      0.000       0.129       0.176\n",
            "==============================================================================\n",
            "Omnibus:                       44.686   Durbin-Watson:                   1.663\n",
            "Prob(Omnibus):                  0.000   Jarque-Bera (JB):              187.154\n",
            "Skew:                           1.475   Prob(JB):                     2.29e-41\n",
            "Kurtosis:                       9.292   Cond. No.                         89.0\n",
            "==============================================================================\n",
            "\n",
            "Warnings:\n",
            "[1] Standard Errors assume that the covariance matrix of the errors is correctly specified.\n"
          ]
        }
      ]
    },
    {
      "cell_type": "markdown",
      "metadata": {
        "id": "oHcGxXdjyDQa"
      },
      "source": [
        "Conseguimos agora um modelo que parece suficientemente bom e que explica mais de 93% da variação dos preços dos veículos. \n",
        "\n",
        "$$ \\bar{R}^2 = 0.939 $$\n",
        "$$ p-values < 0.05 $$\n",
        "\n",
        "Este é assim o modelo que deveríamos empregar e podemos fazer agora uma predição mais segura do preço dos veículos com base nessas características. Por exemplo, podemos estimar o preço de um veículo hipotético com as medidas médias de `Wheelbase`,`Width` e `Horsepower`. "
      ]
    },
    {
      "cell_type": "code",
      "metadata": {
        "colab": {
          "base_uri": "https://localhost:8080/"
        },
        "id": "705BTPh7ypDi",
        "outputId": "a3e5b17b-067b-446d-f61a-272b50d277ab"
      },
      "source": [
        "x = pd.DataFrame({'Wheelbase': [ df.Wheelbase.mean() ],\n",
        "                  'Width': [ df.Width.mean() ],\n",
        "                  'Horsepower': [ df.Horsepower.mean() ]})\n",
        "result.predict(x)"
      ],
      "execution_count": null,
      "outputs": [
        {
          "output_type": "execute_result",
          "data": {
            "text/plain": [
              "0    19.48232\n",
              "dtype: float64"
            ]
          },
          "metadata": {},
          "execution_count": 30
        }
      ]
    },
    {
      "cell_type": "markdown",
      "metadata": {
        "id": "pZvQpFO20oST"
      },
      "source": [
        "# Adicionando Variáveis Categóricas\n",
        "\n",
        "O pacote `statsmodel` permite empregar variáveis categóricas diretamente. Como o cálculo dos coeficientes requer atributos numéricos o pacote transforma esses atributos internamente fazendo o *hot encode* dos dados. "
      ]
    },
    {
      "cell_type": "code",
      "metadata": {
        "colab": {
          "base_uri": "https://localhost:8080/"
        },
        "id": "NZmN2ZEozoBi",
        "outputId": "a38977e4-61e9-4ec0-835f-13bda6b3f388"
      },
      "source": [
        "model = sm.ols(formula=\"Price ~ Origin + Wheelbase + Width\t+ Horsepower - 1\", data=df)\n",
        "result = model.fit()\n",
        "print(result.summary())"
      ],
      "execution_count": null,
      "outputs": [
        {
          "output_type": "stream",
          "name": "stdout",
          "text": [
            "                            OLS Regression Results                            \n",
            "==============================================================================\n",
            "Dep. Variable:                  Price   R-squared:                       0.710\n",
            "Model:                            OLS   Adj. R-squared:                  0.697\n",
            "Method:                 Least Squares   F-statistic:                     53.85\n",
            "Date:                Sat, 20 Nov 2021   Prob (F-statistic):           7.17e-23\n",
            "Time:                        17:22:57   Log-Likelihood:                -284.82\n",
            "No. Observations:                  93   AIC:                             579.6\n",
            "Df Residuals:                      88   BIC:                             592.3\n",
            "Df Model:                           4                                         \n",
            "Covariance Type:            nonrobust                                         \n",
            "===================================================================================\n",
            "                      coef    std err          t      P>|t|      [0.025      0.975]\n",
            "-----------------------------------------------------------------------------------\n",
            "Origin[USA]        -0.2091     14.536     -0.014      0.989     -29.096      28.678\n",
            "Origin[non-USA]     1.9900     13.860      0.144      0.886     -25.555      29.534\n",
            "Wheelbase           0.6152      0.140      4.380      0.000       0.336       0.894\n",
            "Width              -0.9700      0.324     -2.998      0.004      -1.613      -0.327\n",
            "Horsepower          0.1530      0.015     10.457      0.000       0.124       0.182\n",
            "==============================================================================\n",
            "Omnibus:                       44.115   Durbin-Watson:                   1.660\n",
            "Prob(Omnibus):                  0.000   Jarque-Bera (JB):              167.993\n",
            "Skew:                           1.498   Prob(JB):                     3.32e-37\n",
            "Kurtosis:                       8.863   Cond. No.                     7.11e+03\n",
            "==============================================================================\n",
            "\n",
            "Warnings:\n",
            "[1] Standard Errors assume that the covariance matrix of the errors is correctly specified.\n",
            "[2] The condition number is large, 7.11e+03. This might indicate that there are\n",
            "strong multicollinearity or other numerical problems.\n"
          ]
        }
      ]
    },
    {
      "cell_type": "markdown",
      "metadata": {
        "id": "_hVwrve-1QKL"
      },
      "source": [
        "Por exemplo, ao incluir o atributo categórico `Origin`, que possui valores `USA` e `non-USA`, o pacote cria as variáveis binárias (*hot encode*) `Origin[USA]` e `Origin[non-USA]` para serem empregadas no modelo. Aqui o modelo apresentou um resultado pior que o modelo anterior, mas seu  objetivo aqui é apenas de mostrar o uso de atributos categóricos em um modelo de regressão.\n",
        "\n",
        "O uso de variáveis categóricas é muito importante em várias aplicações de modelos de regressão e você pode, por exemplo, pensar na importância de um atributo categórico como *bairro* ou *marca* para a estimativa de preços de imóveis ou veículos."
      ]
    },
    {
      "cell_type": "markdown",
      "metadata": {
        "id": "TWxCQvtxhF10"
      },
      "source": [
        "# Modelo de Regressão o Aprendizado Supervisionado\n",
        "\n",
        "O modelo de Regressão Linear que você aprendeu aqio já carrega os elementos essenciais de qualquer Aprendizado de Máquina Supervisionado e, por isso, vale a pena revisarmos o que aprendeu até aqui.\n",
        "\n",
        "1. **Conjunto de Treinamento**. O conjunto de dados $(X,y)$ corresponde ao conjunto de treinamento em que os dados são  rotulados com valores $y_i$ para cada conjunto de dados $X_i$.\n",
        "\n",
        "1. **Aprendizado**. O aprendizado consiste e obter os coeficientes do modelo linear que minimizam o erro entre os valores do conjunto de treinamento e os valores obtidos pelo modelo. A otimização de uma função de custo é um conceito chave no aprendizado de máquina e você poderá encontrar essa mesma ideia até em modelos sofisticados de redes neurais profundas para o ajuste dos *pesos* e o aprendizado da rede.\n",
        "\n",
        "1. **Busca de um Padrão**. A regressão linear produz um padrão que aproxima o conjunto de dados e a partir do qual podemos fazer inferências úteis (reveja aqui a definição de Ciência de Dados da trilha anterior!)\n",
        "\n",
        "1. **Avaliação do Modelo**. Outro conceito chave está em definirmos uma métrica para avaliação do modelo (aqui, o coeficiente de determinação $R^2$). Outros modelos empregarão outras métricas, mas a ideia é a mesma, uma métrica que avalia o quanto o modelo de fato representa o padrão dos dados. Isso é útil para compararmos modelos concorrentes, como por exemplo, no caso da regressão, dois modelos de regressão que empregam diferentes variáveis preditoras.  \n",
        "\n"
      ]
    },
    {
      "cell_type": "markdown",
      "metadata": {
        "id": "hHlv9BbsnJXj"
      },
      "source": [
        "# Regressão Logística \n",
        "\n",
        "Antes de começarmos a falar de Regressão Logística um ponto de atenção: você não deve confundir modelos de regressão em geral, lineares ou não, que preveem valores com a Regressão Logística que é um modelo de Classificação. A Regressão Logística  modela as probabilidades para problemas de classificação binários, com dois resultados possíveis, como *yes/no*, *true/false*, *fraude/não fraude*, *spam/não spam* ou *0/1*, e pode ser entendido como uma extensão dos modelos de regressão linear para problemas de classificação.\n",
        "\n",
        "O modelo de regressão linear pode funcionar bem para regressão, mas falha na maior parte dos casos quando é aplicado para classificação. Imagine, você poderia rotular uma das classes com 0 e a outra com 1 e usar a regressão linear. Tecnicamente isso funciona e certamente você obterá os coeficientes da regressão linear, afinal para quaisquer conjuntos de pontos $(X, y)$ podemos calcular os coeficientes de um modelo linear. Mas para classificação essa abordagem apresenta muitos problemas. Como seu resultado não é uma probabilidade, mas a interpolação linear dos pontos, não há um limite significativo no qual você possa distinguir uma classe da outra. \n",
        "\n",
        "Um modelo simples pode mostrar a ineficiência da regressão linear para a classificação. Veja a abaixo o uso de regressão linear para a classificação dos pontos verdes e vermelhos abaixo."
      ]
    },
    {
      "cell_type": "code",
      "metadata": {
        "id": "uqnSZCzrngdh"
      },
      "source": [
        "%load_ext rpy2.ipython"
      ],
      "execution_count": null,
      "outputs": []
    },
    {
      "cell_type": "code",
      "metadata": {
        "colab": {
          "base_uri": "https://localhost:8080/",
          "height": 1000
        },
        "id": "c4zrI-ExnkO6",
        "outputId": "acdbfc6c-2013-4e1a-ed77-a3aa9ee14a0c"
      },
      "source": [
        "# you can skip this code!\n",
        "\n",
        "%%R\n",
        "# adaptado de https://christophm.github.io/interpretable-ml-book/logistic.html\n",
        "# e https://stats.stackexchange.com/questions/22381/why-not-approach-classification-through-regression\n",
        "\n",
        "df = data.frame(x = c(1,2,3,8,9,10,11,9),\n",
        "  y = c(0,0,0,1,1,1,1, 0))\n",
        "\n",
        "df_extra  = data.frame(x=c(df$x, 7, 7, 7, 20, 19, 5, 5, 4, 4.5),\n",
        "  y=c(df$y, 1,1,1,1, 1, 1, 1, 1, 1))\n",
        "\n",
        "# par(mfrow = c(1, 3))\n",
        "layout.matrix <- matrix(c(1, 1, 1, 0), nrow = 2, ncol = 2)\n",
        "\n",
        "layout(mat = layout.matrix,\n",
        "       heights = c(2, 2), # Heights of the two rows\n",
        "       widths = c(2, 2)) # Widths of the two columns\n",
        "\n",
        "plot(df$x, df$y, col=df$y+2, pch=17)\n",
        "fit = lm(y ~ x,data=df)\n",
        "abline(coefficients(fit),col='red',lty=2)\n",
        "points(df$x, df$y, col=df$y+2, pch=17, cex=1.5)\n",
        "\n",
        "plot(df_extra$x, df_extra$y, col=df_extra$y+2)\n",
        "fit = lm(y ~ x,data=df)\n",
        "abline(coefficients(fit),col='red',lty=2)\n",
        "points(df_extra$x, df_extra$y, col=df_extra$y+2, pch=17, cex=1.5)\n",
        "\n",
        "plot(df$x, df$y, col=df$y+2, pch=17)\n",
        "fit = lm(y ~ x,data=df)\n",
        "abline(coefficients(fit),col='red',lty=2)\n",
        "polygon(c(0,12,12),c(predict(fit,data.frame(x = c(0,12))),-0.1), col='#FF9966')\n",
        "polygon(c(0,12,0), c(predict(fit,data.frame(x = c(0,12))),1.1), col='#CCFF00')\n",
        "points(df$x, df$y, col=df$y+2, pch=17, cex=1.5)\n",
        "\n",
        "plot(df_extra$x, df_extra$y, col=df_extra$y+2)\n",
        "fit = lm(y ~ x,data=df)\n",
        "abline(coefficients(fit),col='red',lty=2)\n",
        "polygon(c(0,21,21),c(predict(fit,data.frame(x = c(0,21))),-0.1), col='#FF9966')\n",
        "polygon(c(0,21,0), c(predict(fit,data.frame(x = c(0,21))),1.1), col='#CCFF00')\n",
        "points(df_extra$x, df_extra$y, col=df_extra$y+2, pch=17, cex=1.5)\n"
      ],
      "execution_count": null,
      "outputs": [
        {
          "output_type": "display_data",
          "data": {
            "image/png": "[encoded data removed]"
          },
          "metadata": {}
        },
        {
          "output_type": "display_data",
          "data": {
            "image/png": "[encoded data removed]"
          },
          "metadata": {}
        },
        {
          "output_type": "display_data",
          "data": {
            "image/png": "[encoded data removed]"
          },
          "metadata": {}
        },
        {
          "output_type": "display_data",
          "data": {
            "image/png": "[encoded data removed]"
          },
          "metadata": {}
        }
      ]
    },
    {
      "cell_type": "markdown",
      "metadata": {
        "id": "vZTd3mFjnyR7"
      },
      "source": [
        "O primeiro conjunto de pontos é linearmente separável e a regressão linear permite classificar os dados com apenas um erro de classificação (o ponto vermelho de menor valor $x$). Mas à medida que inserirmos novos dados, o modelo passa a apresentar  falhas cada vez maiores. \n",
        "\n",
        "\n",
        "## Modelo logístico\n",
        "\n",
        "Para resolver esse problema, a regressão logística modela o que é conhecido como log de probabilidades:\n",
        "\n",
        "$$ log( \\frac{p}{1-p}) = a_0 + a_1 x_1 + ... + a_n x_n $$\n",
        "\n",
        "Os resultados da regressão logística vão então informar sobre as chances ('Odds') e razão das chances ('Odds Ratio') e não exatamente probabilidades (por exemplo, em alguns casos os valores podem não ter soma 1), mas podemos entender de qualquer modo que uma *chance* reflete em uma probabilidade maior daquele evento ocorrer. Se um evento tem probabilidade $p$, suas chances são $p / (1-p)$, e é por isso que a esquerda lado é chamado de \"odds logarítmicas\" ou \"logit\", e podemos obter a \n",
        "probabilidade de chances invertendo a função acima:\n",
        "\n",
        "$$ p = 1 / (1 + e^{- ( a_0 + a_1 x_1 + ... + a_n x_n ) })$$\n",
        "\n",
        "Essa função é conhecida como  função logística ou sigmóide, $\\sigma$, é definida como:\n",
        "\n",
        "\n",
        "$$\\sigma(x)=\\frac{1}{1+e^{-x}}$$\n",
        "\n",
        "\n",
        "Ela tem o seguinte gráfico:\n",
        "\n"
      ]
    },
    {
      "cell_type": "code",
      "metadata": {
        "colab": {
          "base_uri": "https://localhost:8080/",
          "height": 296
        },
        "id": "0gPmQH0poRkr",
        "outputId": "48cd3342-31bb-40d7-9fdc-7f74c742ebd4"
      },
      "source": [
        "x = np.arange(-5, 5, 0.01)\n",
        "y = 1 / (1 + np.exp(-x))\n",
        "\n",
        "plt.plot(x,y)\n",
        "plt.title('Logistic', fontsize=14, weight='bold')\n",
        "plt.xlabel('Input')\n",
        "plt.ylabel('Output')\n",
        "\n",
        "plt.show()"
      ],
      "execution_count": null,
      "outputs": [
        {
          "output_type": "display_data",
          "data": {
            "image/png": "[encoded data removed]",
            "text/plain": [
              "<Figure size 432x288 with 1 Axes>"
            ]
          },
          "metadata": {
            "needs_background": "light"
          }
        }
      ]
    },
    {
      "cell_type": "markdown",
      "metadata": {
        "id": "48oBzolaoc9i"
      },
      "source": [
        "e desempenha um papel importante em outros modelos, como os modelos neurais. Note que os valores dessa função variam de 0 a 1 e é portanto, possível empregar essa função como uma medida de probabilidade, ou das chances. \n",
        "\n",
        "Esse procedimento funciona muito melhor para classificação que a regressão linear e podemos usar 0.5 como o valor limite de probabilidades entre as classes, isto é, valores $p < 0.5$ para uma classe e valores $p \\ge 0.5$ para outra. \n",
        "\n",
        "## Estimando os parâmetros\n",
        "\n",
        "Estimar os valores dos coeficientes $a_0, a_1, ...$. pode seguir a mesma estratégia empregada para calcular os coeficientes de uma regressão múltipla e empregamos um otimizador, como o método de mínimos quadrados.\n",
        "\n",
        "Do mesmo modo que na regressão linear você deseja minimizar o erro ou maximizar os *acertos* do modelo. Para cada amostra que  pertence à classe '1', você irá querer que $p$ fique mais próximo de $1$ enquanto, para cada amostra que não  pertence à classe '1', você quer que $p$ seja o mais próximo de $0$ possível. As diferenças consistem no erro que queremos minimizar e podemos então, a partir de valores iniciais de dos coeficientes $a_0, a_1, ...$ empregar um método de otimização como o de mínimos quadrados, ou um método gradiente, para obter  os coeficientes que fornecem o menor erro. \n",
        "\n",
        "\n"
      ]
    },
    {
      "cell_type": "markdown",
      "metadata": {
        "id": "dw0HwaFQvMf5"
      },
      "source": [
        "## Exemplo\n",
        "\n",
        "Você pode pensar em um sistema de detecção de fraude de transações de cartão de crédito com base no histórico de ocorrências. Valores da operação e uso do cartão nas últimas 24h são duas variáveis conhecidas como preditoras de fraude de cartões. Para isso, depois de estimados os coeficientes $a_0, a_1, a_2$ com base nas amostras conhecidas, tanto de operações de fraude como de operações normais de crédito, você pode aplicar dados de uma nova operação `(Valor,Trans24h)` no modelo logístico para estimar a chance da operação ser ou não uma fraude: \n",
        "\n",
        "$$ P(\\text{Fraude} | \\text{Valor, Trans24h}) = \\frac{1}{ (1 + e^{- ( a_0 + a_1 \\text{Valor} + a_2 \\text{Trans24h} ) })}$$\n",
        "\n",
        "\n",
        "\n",
        " "
      ]
    },
    {
      "cell_type": "markdown",
      "metadata": {
        "id": "jKorkgtJvPPm"
      },
      "source": [
        "## Probabilidades e Classificação Binária\n",
        "\n",
        "O modelo de regressão logística não é apenas um modelo de classificação, mas também fornece as *chances* de cada valor. Esta é uma grande vantagem em relação a modelos que fornecem apenas a classificação final, pois faz uma grande diferença saber se a *chance*  daquela classe é 99% ou 51%. Para usar o nosso exemplo, pense  em uma transação de cartão classificada como fraude, ser uma fraude com 99% de chance parece algo bem mais crítico que uma fraude com 51% de chance! \n",
        "\n",
        "A regressão logística ainda é um modelo de **classificação binária**. Mas ele pode ser estendido para classificação multiclasse. O procedimento é simples e consiste em criarmos vários classificadores. Se você tem 3 classes, 'Y', 'N', 'O', pode então ter um classificador logístico 'Y' e 'não Y', outro 'N' e 'não Y', ainda 'O' e 'não O' e, do mesmo modo, buscar o maior valor de p entre esses classificadores. Em geral os pacotes de Software fazem uma implementação multiclasse da classificação logística e, portanto, fica transparente para você a regressão logística ser um procedimento de classificação binária. \n",
        "\n",
        "> Um cuidado a ser tomado no uso da regressão logística é que ela pode *sofrer de separação completa*. Isso ocorre quando uma variável preditora separa perfeitamente as duas classes e, neste caso, o modelo de regressão logística não pode ser treinado pois o coeficiente desse atributo seria infinito e convergiria. Observar isso é importante, mas em termos práticos você não precisaria de um modelo se tivesse uma regra simples, como uma única variável para separar as duas classes, e existem técnicas de penalização dos pesos ou definição de uma distribuição de probabilidade dos pesos para minimizar esse problema."
      ]
    },
    {
      "cell_type": "markdown",
      "metadata": {
        "id": "815HX_Iiw7X3"
      },
      "source": [
        "# CASO: Estimando o tipo de Transmissão dos Veículos\n",
        "\n",
        "Você vai empregar agora o mesmo conjunto de dados anterior para prever a classe de transmissão dos veículos, isto é, se os veículos tem ou não transmissão manual. Para isso vamos empregar aqui o pacote `scikit-learn`, um pacote que será empregado para muitos outros modelos de aprendizado de máquina."
      ]
    },
    {
      "cell_type": "code",
      "metadata": {
        "colab": {
          "base_uri": "https://localhost:8080/",
          "height": 309
        },
        "id": "sT2TFEEAw7X-",
        "outputId": "321a2c9b-846f-4680-854b-ece74d1a8a4a"
      },
      "source": [
        "df.head()"
      ],
      "execution_count": null,
      "outputs": [
        {
          "output_type": "execute_result",
          "data": {
            "text/html": [
              "<div>\n",
              "<style scoped>\n",
              "    .dataframe tbody tr th:only-of-type {\n",
              "        vertical-align: middle;\n",
              "    }\n",
              "\n",
              "    .dataframe tbody tr th {\n",
              "        vertical-align: top;\n",
              "    }\n",
              "\n",
              "    .dataframe thead th {\n",
              "        text-align: right;\n",
              "    }\n",
              "</style>\n",
              "<table border=\"1\" class=\"dataframe\">\n",
              "  <thead>\n",
              "    <tr style=\"text-align: right;\">\n",
              "      <th></th>\n",
              "      <th>Manufacturer</th>\n",
              "      <th>Model</th>\n",
              "      <th>Type</th>\n",
              "      <th>MinPrice</th>\n",
              "      <th>Price</th>\n",
              "      <th>MaxPrice</th>\n",
              "      <th>MPGcity</th>\n",
              "      <th>MPGhighway</th>\n",
              "      <th>AirBags</th>\n",
              "      <th>DriveTrain</th>\n",
              "      <th>Cylinders</th>\n",
              "      <th>EngineSize</th>\n",
              "      <th>Horsepower</th>\n",
              "      <th>RPM</th>\n",
              "      <th>Revpermile</th>\n",
              "      <th>Mantransavail</th>\n",
              "      <th>Fueltankcapacity</th>\n",
              "      <th>Passengers</th>\n",
              "      <th>Length</th>\n",
              "      <th>Wheelbase</th>\n",
              "      <th>Width</th>\n",
              "      <th>Turncircle</th>\n",
              "      <th>Rearseatroom</th>\n",
              "      <th>Luggageroom</th>\n",
              "      <th>Weight</th>\n",
              "      <th>Origin</th>\n",
              "      <th>Make</th>\n",
              "      <th>predicted</th>\n",
              "    </tr>\n",
              "  </thead>\n",
              "  <tbody>\n",
              "    <tr>\n",
              "      <th>1</th>\n",
              "      <td>Acura</td>\n",
              "      <td>Integra</td>\n",
              "      <td>Small</td>\n",
              "      <td>12.9</td>\n",
              "      <td>15.9</td>\n",
              "      <td>18.8</td>\n",
              "      <td>25</td>\n",
              "      <td>31</td>\n",
              "      <td>None</td>\n",
              "      <td>Front</td>\n",
              "      <td>4</td>\n",
              "      <td>1.8</td>\n",
              "      <td>140</td>\n",
              "      <td>6300</td>\n",
              "      <td>2890</td>\n",
              "      <td>Yes</td>\n",
              "      <td>13.2</td>\n",
              "      <td>5</td>\n",
              "      <td>177</td>\n",
              "      <td>102</td>\n",
              "      <td>68</td>\n",
              "      <td>37</td>\n",
              "      <td>26.5</td>\n",
              "      <td>11.0</td>\n",
              "      <td>2705</td>\n",
              "      <td>non-USA</td>\n",
              "      <td>Acura Integra</td>\n",
              "      <td>18.953203</td>\n",
              "    </tr>\n",
              "    <tr>\n",
              "      <th>2</th>\n",
              "      <td>Acura</td>\n",
              "      <td>Legend</td>\n",
              "      <td>Midsize</td>\n",
              "      <td>29.2</td>\n",
              "      <td>33.9</td>\n",
              "      <td>38.7</td>\n",
              "      <td>18</td>\n",
              "      <td>25</td>\n",
              "      <td>Driver &amp; Passenger</td>\n",
              "      <td>Front</td>\n",
              "      <td>6</td>\n",
              "      <td>3.2</td>\n",
              "      <td>200</td>\n",
              "      <td>5500</td>\n",
              "      <td>2335</td>\n",
              "      <td>Yes</td>\n",
              "      <td>18.0</td>\n",
              "      <td>5</td>\n",
              "      <td>195</td>\n",
              "      <td>115</td>\n",
              "      <td>71</td>\n",
              "      <td>38</td>\n",
              "      <td>30.0</td>\n",
              "      <td>15.0</td>\n",
              "      <td>3560</td>\n",
              "      <td>non-USA</td>\n",
              "      <td>Acura Legend</td>\n",
              "      <td>27.675476</td>\n",
              "    </tr>\n",
              "    <tr>\n",
              "      <th>3</th>\n",
              "      <td>Audi</td>\n",
              "      <td>90</td>\n",
              "      <td>Compact</td>\n",
              "      <td>25.9</td>\n",
              "      <td>29.1</td>\n",
              "      <td>32.3</td>\n",
              "      <td>20</td>\n",
              "      <td>26</td>\n",
              "      <td>Driver only</td>\n",
              "      <td>Front</td>\n",
              "      <td>6</td>\n",
              "      <td>2.8</td>\n",
              "      <td>172</td>\n",
              "      <td>5500</td>\n",
              "      <td>2280</td>\n",
              "      <td>Yes</td>\n",
              "      <td>16.9</td>\n",
              "      <td>5</td>\n",
              "      <td>180</td>\n",
              "      <td>102</td>\n",
              "      <td>67</td>\n",
              "      <td>37</td>\n",
              "      <td>28.0</td>\n",
              "      <td>14.0</td>\n",
              "      <td>3375</td>\n",
              "      <td>non-USA</td>\n",
              "      <td>Audi 90</td>\n",
              "      <td>23.605082</td>\n",
              "    </tr>\n",
              "    <tr>\n",
              "      <th>4</th>\n",
              "      <td>Audi</td>\n",
              "      <td>100</td>\n",
              "      <td>Midsize</td>\n",
              "      <td>30.8</td>\n",
              "      <td>37.7</td>\n",
              "      <td>44.6</td>\n",
              "      <td>19</td>\n",
              "      <td>26</td>\n",
              "      <td>Driver &amp; Passenger</td>\n",
              "      <td>Front</td>\n",
              "      <td>6</td>\n",
              "      <td>2.8</td>\n",
              "      <td>172</td>\n",
              "      <td>5500</td>\n",
              "      <td>2535</td>\n",
              "      <td>Yes</td>\n",
              "      <td>21.1</td>\n",
              "      <td>6</td>\n",
              "      <td>193</td>\n",
              "      <td>106</td>\n",
              "      <td>70</td>\n",
              "      <td>37</td>\n",
              "      <td>31.0</td>\n",
              "      <td>17.0</td>\n",
              "      <td>3405</td>\n",
              "      <td>non-USA</td>\n",
              "      <td>Audi 100</td>\n",
              "      <td>23.605082</td>\n",
              "    </tr>\n",
              "    <tr>\n",
              "      <th>5</th>\n",
              "      <td>BMW</td>\n",
              "      <td>535i</td>\n",
              "      <td>Midsize</td>\n",
              "      <td>23.7</td>\n",
              "      <td>30.0</td>\n",
              "      <td>36.2</td>\n",
              "      <td>22</td>\n",
              "      <td>30</td>\n",
              "      <td>Driver only</td>\n",
              "      <td>Rear</td>\n",
              "      <td>4</td>\n",
              "      <td>3.5</td>\n",
              "      <td>208</td>\n",
              "      <td>5700</td>\n",
              "      <td>2545</td>\n",
              "      <td>Yes</td>\n",
              "      <td>21.1</td>\n",
              "      <td>4</td>\n",
              "      <td>186</td>\n",
              "      <td>109</td>\n",
              "      <td>69</td>\n",
              "      <td>39</td>\n",
              "      <td>27.0</td>\n",
              "      <td>13.0</td>\n",
              "      <td>3640</td>\n",
              "      <td>non-USA</td>\n",
              "      <td>BMW 535i</td>\n",
              "      <td>28.838446</td>\n",
              "    </tr>\n",
              "  </tbody>\n",
              "</table>\n",
              "</div>"
            ],
            "text/plain": [
              "  Manufacturer    Model     Type  ...   Origin           Make  predicted\n",
              "1        Acura  Integra    Small  ...  non-USA  Acura Integra  18.953203\n",
              "2        Acura   Legend  Midsize  ...  non-USA   Acura Legend  27.675476\n",
              "3         Audi       90  Compact  ...  non-USA        Audi 90  23.605082\n",
              "4         Audi      100  Midsize  ...  non-USA       Audi 100  23.605082\n",
              "5          BMW     535i  Midsize  ...  non-USA       BMW 535i  28.838446\n",
              "\n",
              "[5 rows x 28 columns]"
            ]
          },
          "metadata": {},
          "execution_count": 35
        }
      ]
    },
    {
      "cell_type": "code",
      "metadata": {
        "colab": {
          "base_uri": "https://localhost:8080/"
        },
        "id": "FKa4xlVTxfuO",
        "outputId": "031e1bb4-096d-4099-ba08-2d1b6e187905"
      },
      "source": [
        "df.Mantransavail.value_counts()"
      ],
      "execution_count": null,
      "outputs": [
        {
          "output_type": "execute_result",
          "data": {
            "text/plain": [
              "Yes    61\n",
              "No     32\n",
              "Name: Mantransavail, dtype: int64"
            ]
          },
          "metadata": {},
          "execution_count": 36
        }
      ]
    },
    {
      "cell_type": "markdown",
      "metadata": {
        "id": "efvpBDYrxJLi"
      },
      "source": [
        "## Preparação dos Dados\n",
        "\n",
        "`Mantransavail` é um atributo binário e portanto podemos aplicar a regressão logística para obter um modelo de classificação. Mas para a regressão logística com o `scikit-lean` precisamos ter os valores de classe como $0$ ou $1$, e vamos medir a probabilidade do valor se *verdadeiro*, isto é, $1$. Vamos, portanto, criar um novo atributo  em que o valor $1$ vai designar os veículos manuais e $0$ os veículos de transmissão exclusivamente automática."
      ]
    },
    {
      "cell_type": "code",
      "metadata": {
        "id": "K4qVpu-EyHFF"
      },
      "source": [
        "df['Manual'] = df['Mantransavail'].apply(lambda x: 1 if 'Yes' in x else 0)"
      ],
      "execution_count": null,
      "outputs": []
    },
    {
      "cell_type": "code",
      "metadata": {
        "colab": {
          "base_uri": "https://localhost:8080/",
          "height": 309
        },
        "id": "XUSUZqGlZSQ5",
        "outputId": "0e32fd1c-540a-4dfe-f9a3-a24a19dd451c"
      },
      "source": [
        "df.head()"
      ],
      "execution_count": null,
      "outputs": [
        {
          "output_type": "execute_result",
          "data": {
            "text/html": [
              "<div>\n",
              "<style scoped>\n",
              "    .dataframe tbody tr th:only-of-type {\n",
              "        vertical-align: middle;\n",
              "    }\n",
              "\n",
              "    .dataframe tbody tr th {\n",
              "        vertical-align: top;\n",
              "    }\n",
              "\n",
              "    .dataframe thead th {\n",
              "        text-align: right;\n",
              "    }\n",
              "</style>\n",
              "<table border=\"1\" class=\"dataframe\">\n",
              "  <thead>\n",
              "    <tr style=\"text-align: right;\">\n",
              "      <th></th>\n",
              "      <th>Manufacturer</th>\n",
              "      <th>Model</th>\n",
              "      <th>Type</th>\n",
              "      <th>MinPrice</th>\n",
              "      <th>Price</th>\n",
              "      <th>MaxPrice</th>\n",
              "      <th>MPGcity</th>\n",
              "      <th>MPGhighway</th>\n",
              "      <th>AirBags</th>\n",
              "      <th>DriveTrain</th>\n",
              "      <th>Cylinders</th>\n",
              "      <th>EngineSize</th>\n",
              "      <th>Horsepower</th>\n",
              "      <th>RPM</th>\n",
              "      <th>Revpermile</th>\n",
              "      <th>Mantransavail</th>\n",
              "      <th>Fueltankcapacity</th>\n",
              "      <th>Passengers</th>\n",
              "      <th>Length</th>\n",
              "      <th>Wheelbase</th>\n",
              "      <th>Width</th>\n",
              "      <th>Turncircle</th>\n",
              "      <th>Rearseatroom</th>\n",
              "      <th>Luggageroom</th>\n",
              "      <th>Weight</th>\n",
              "      <th>Origin</th>\n",
              "      <th>Make</th>\n",
              "      <th>predicted</th>\n",
              "      <th>Manual</th>\n",
              "    </tr>\n",
              "  </thead>\n",
              "  <tbody>\n",
              "    <tr>\n",
              "      <th>1</th>\n",
              "      <td>Acura</td>\n",
              "      <td>Integra</td>\n",
              "      <td>Small</td>\n",
              "      <td>12.9</td>\n",
              "      <td>15.9</td>\n",
              "      <td>18.8</td>\n",
              "      <td>25</td>\n",
              "      <td>31</td>\n",
              "      <td>None</td>\n",
              "      <td>Front</td>\n",
              "      <td>4</td>\n",
              "      <td>1.8</td>\n",
              "      <td>140</td>\n",
              "      <td>6300</td>\n",
              "      <td>2890</td>\n",
              "      <td>Yes</td>\n",
              "      <td>13.2</td>\n",
              "      <td>5</td>\n",
              "      <td>177</td>\n",
              "      <td>102</td>\n",
              "      <td>68</td>\n",
              "      <td>37</td>\n",
              "      <td>26.5</td>\n",
              "      <td>11.0</td>\n",
              "      <td>2705</td>\n",
              "      <td>non-USA</td>\n",
              "      <td>Acura Integra</td>\n",
              "      <td>18.953203</td>\n",
              "      <td>1</td>\n",
              "    </tr>\n",
              "    <tr>\n",
              "      <th>2</th>\n",
              "      <td>Acura</td>\n",
              "      <td>Legend</td>\n",
              "      <td>Midsize</td>\n",
              "      <td>29.2</td>\n",
              "      <td>33.9</td>\n",
              "      <td>38.7</td>\n",
              "      <td>18</td>\n",
              "      <td>25</td>\n",
              "      <td>Driver &amp; Passenger</td>\n",
              "      <td>Front</td>\n",
              "      <td>6</td>\n",
              "      <td>3.2</td>\n",
              "      <td>200</td>\n",
              "      <td>5500</td>\n",
              "      <td>2335</td>\n",
              "      <td>Yes</td>\n",
              "      <td>18.0</td>\n",
              "      <td>5</td>\n",
              "      <td>195</td>\n",
              "      <td>115</td>\n",
              "      <td>71</td>\n",
              "      <td>38</td>\n",
              "      <td>30.0</td>\n",
              "      <td>15.0</td>\n",
              "      <td>3560</td>\n",
              "      <td>non-USA</td>\n",
              "      <td>Acura Legend</td>\n",
              "      <td>27.675476</td>\n",
              "      <td>1</td>\n",
              "    </tr>\n",
              "    <tr>\n",
              "      <th>3</th>\n",
              "      <td>Audi</td>\n",
              "      <td>90</td>\n",
              "      <td>Compact</td>\n",
              "      <td>25.9</td>\n",
              "      <td>29.1</td>\n",
              "      <td>32.3</td>\n",
              "      <td>20</td>\n",
              "      <td>26</td>\n",
              "      <td>Driver only</td>\n",
              "      <td>Front</td>\n",
              "      <td>6</td>\n",
              "      <td>2.8</td>\n",
              "      <td>172</td>\n",
              "      <td>5500</td>\n",
              "      <td>2280</td>\n",
              "      <td>Yes</td>\n",
              "      <td>16.9</td>\n",
              "      <td>5</td>\n",
              "      <td>180</td>\n",
              "      <td>102</td>\n",
              "      <td>67</td>\n",
              "      <td>37</td>\n",
              "      <td>28.0</td>\n",
              "      <td>14.0</td>\n",
              "      <td>3375</td>\n",
              "      <td>non-USA</td>\n",
              "      <td>Audi 90</td>\n",
              "      <td>23.605082</td>\n",
              "      <td>1</td>\n",
              "    </tr>\n",
              "    <tr>\n",
              "      <th>4</th>\n",
              "      <td>Audi</td>\n",
              "      <td>100</td>\n",
              "      <td>Midsize</td>\n",
              "      <td>30.8</td>\n",
              "      <td>37.7</td>\n",
              "      <td>44.6</td>\n",
              "      <td>19</td>\n",
              "      <td>26</td>\n",
              "      <td>Driver &amp; Passenger</td>\n",
              "      <td>Front</td>\n",
              "      <td>6</td>\n",
              "      <td>2.8</td>\n",
              "      <td>172</td>\n",
              "      <td>5500</td>\n",
              "      <td>2535</td>\n",
              "      <td>Yes</td>\n",
              "      <td>21.1</td>\n",
              "      <td>6</td>\n",
              "      <td>193</td>\n",
              "      <td>106</td>\n",
              "      <td>70</td>\n",
              "      <td>37</td>\n",
              "      <td>31.0</td>\n",
              "      <td>17.0</td>\n",
              "      <td>3405</td>\n",
              "      <td>non-USA</td>\n",
              "      <td>Audi 100</td>\n",
              "      <td>23.605082</td>\n",
              "      <td>1</td>\n",
              "    </tr>\n",
              "    <tr>\n",
              "      <th>5</th>\n",
              "      <td>BMW</td>\n",
              "      <td>535i</td>\n",
              "      <td>Midsize</td>\n",
              "      <td>23.7</td>\n",
              "      <td>30.0</td>\n",
              "      <td>36.2</td>\n",
              "      <td>22</td>\n",
              "      <td>30</td>\n",
              "      <td>Driver only</td>\n",
              "      <td>Rear</td>\n",
              "      <td>4</td>\n",
              "      <td>3.5</td>\n",
              "      <td>208</td>\n",
              "      <td>5700</td>\n",
              "      <td>2545</td>\n",
              "      <td>Yes</td>\n",
              "      <td>21.1</td>\n",
              "      <td>4</td>\n",
              "      <td>186</td>\n",
              "      <td>109</td>\n",
              "      <td>69</td>\n",
              "      <td>39</td>\n",
              "      <td>27.0</td>\n",
              "      <td>13.0</td>\n",
              "      <td>3640</td>\n",
              "      <td>non-USA</td>\n",
              "      <td>BMW 535i</td>\n",
              "      <td>28.838446</td>\n",
              "      <td>1</td>\n",
              "    </tr>\n",
              "  </tbody>\n",
              "</table>\n",
              "</div>"
            ],
            "text/plain": [
              "  Manufacturer    Model     Type  ...           Make  predicted  Manual\n",
              "1        Acura  Integra    Small  ...  Acura Integra  18.953203       1\n",
              "2        Acura   Legend  Midsize  ...   Acura Legend  27.675476       1\n",
              "3         Audi       90  Compact  ...        Audi 90  23.605082       1\n",
              "4         Audi      100  Midsize  ...       Audi 100  23.605082       1\n",
              "5          BMW     535i  Midsize  ...       BMW 535i  28.838446       1\n",
              "\n",
              "[5 rows x 29 columns]"
            ]
          },
          "metadata": {},
          "execution_count": 38
        }
      ]
    },
    {
      "cell_type": "code",
      "metadata": {
        "colab": {
          "base_uri": "https://localhost:8080/"
        },
        "id": "SSsG2Keih2rs",
        "outputId": "eb2f5ea8-0e81-410f-c2a2-ff6ae98ca754"
      },
      "source": [
        "df.Manual.value_counts()"
      ],
      "execution_count": null,
      "outputs": [
        {
          "output_type": "execute_result",
          "data": {
            "text/plain": [
              "1    61\n",
              "0    32\n",
              "Name: Manual, dtype: int64"
            ]
          },
          "metadata": {},
          "execution_count": 39
        }
      ]
    },
    {
      "cell_type": "markdown",
      "metadata": {
        "id": "59hIgbL_yUdW"
      },
      "source": [
        "Vamos então definir algumas variáveis independentes e a variável dependente do treinamento, lembrando que você deve empregar variáveis numéricas no modelo logístico."
      ]
    },
    {
      "cell_type": "code",
      "metadata": {
        "colab": {
          "base_uri": "https://localhost:8080/"
        },
        "id": "BfxDemKFykD2",
        "outputId": "6bca70ea-0cd3-4dda-acfe-39d207512b82"
      },
      "source": [
        "df.columns"
      ],
      "execution_count": null,
      "outputs": [
        {
          "output_type": "execute_result",
          "data": {
            "text/plain": [
              "Index(['Manufacturer', 'Model', 'Type', 'MinPrice', 'Price', 'MaxPrice',\n",
              "       'MPGcity', 'MPGhighway', 'AirBags', 'DriveTrain', 'Cylinders',\n",
              "       'EngineSize', 'Horsepower', 'RPM', 'Revpermile', 'Mantransavail',\n",
              "       'Fueltankcapacity', 'Passengers', 'Length', 'Wheelbase', 'Width',\n",
              "       'Turncircle', 'Rearseatroom', 'Luggageroom', 'Weight', 'Origin', 'Make',\n",
              "       'predicted', 'Manual'],\n",
              "      dtype='object')"
            ]
          },
          "metadata": {},
          "execution_count": 40
        }
      ]
    },
    {
      "cell_type": "code",
      "metadata": {
        "id": "kRs7qY682YL-"
      },
      "source": [
        "X_train = df[['EngineSize', 'Horsepower', 'RPM', 'Price', 'Weight']]\n",
        "y_train = df['Manual']\n"
      ],
      "execution_count": null,
      "outputs": []
    },
    {
      "cell_type": "code",
      "metadata": {
        "colab": {
          "base_uri": "https://localhost:8080/"
        },
        "id": "570uz7Mk26jy",
        "outputId": "131173e5-2444-4023-e46a-9e5f08d3959b"
      },
      "source": [
        "from sklearn.linear_model import LogisticRegression  # para configurar o modelo.. \n",
        "\n",
        "# criando o modelo\n",
        "logreg = LogisticRegression()\n",
        "\n",
        "# treinando o modelo\n",
        "logreg.fit(X_train,y_train)\n",
        "\n"
      ],
      "execution_count": null,
      "outputs": [
        {
          "output_type": "execute_result",
          "data": {
            "text/plain": [
              "LogisticRegression()"
            ]
          },
          "metadata": {},
          "execution_count": 42
        }
      ]
    },
    {
      "cell_type": "markdown",
      "metadata": {
        "id": "d7D416j30GAY"
      },
      "source": [
        "O treinamento do modelo fornece então os seguintes coeficientes:"
      ]
    },
    {
      "cell_type": "code",
      "metadata": {
        "colab": {
          "base_uri": "https://localhost:8080/"
        },
        "id": "eWSa9YYBzvD2",
        "outputId": "7c5d5697-5e61-4ae6-eab0-835951fb1817"
      },
      "source": [
        "logreg.coef_"
      ],
      "execution_count": null,
      "outputs": [
        {
          "output_type": "execute_result",
          "data": {
            "text/plain": [
              "array([[-0.84623734,  0.00713032,  0.00141883, -0.01854519, -0.00161397]])"
            ]
          },
          "metadata": {},
          "execution_count": 43
        }
      ]
    },
    {
      "cell_type": "markdown",
      "metadata": {
        "id": "CIm3sEFq0Q09"
      },
      "source": [
        "## Avaliando o Modelo\n",
        "\n",
        "Existem muitas métricas e formas de avaliação e você vai estudar mais sobre isso adiante. Por hora vamos no deter apenas em verificar o número de *acertos* do nosso preditor."
      ]
    },
    {
      "cell_type": "code",
      "metadata": {
        "colab": {
          "base_uri": "https://localhost:8080/",
          "height": 419
        },
        "id": "cdYEBaMj0mYu",
        "outputId": "a243b61d-c285-4d98-f474-f44233d7acf0"
      },
      "source": [
        "y_pred = logreg.predict(X_train)\n",
        "\n",
        "df['Manual_predict'] = y_pred\n",
        "\n",
        "df[['Manual','Manual_predict']]"
      ],
      "execution_count": null,
      "outputs": [
        {
          "output_type": "execute_result",
          "data": {
            "text/html": [
              "<div>\n",
              "<style scoped>\n",
              "    .dataframe tbody tr th:only-of-type {\n",
              "        vertical-align: middle;\n",
              "    }\n",
              "\n",
              "    .dataframe tbody tr th {\n",
              "        vertical-align: top;\n",
              "    }\n",
              "\n",
              "    .dataframe thead th {\n",
              "        text-align: right;\n",
              "    }\n",
              "</style>\n",
              "<table border=\"1\" class=\"dataframe\">\n",
              "  <thead>\n",
              "    <tr style=\"text-align: right;\">\n",
              "      <th></th>\n",
              "      <th>Manual</th>\n",
              "      <th>Manual_predict</th>\n",
              "    </tr>\n",
              "  </thead>\n",
              "  <tbody>\n",
              "    <tr>\n",
              "      <th>1</th>\n",
              "      <td>1</td>\n",
              "      <td>1</td>\n",
              "    </tr>\n",
              "    <tr>\n",
              "      <th>2</th>\n",
              "      <td>1</td>\n",
              "      <td>1</td>\n",
              "    </tr>\n",
              "    <tr>\n",
              "      <th>3</th>\n",
              "      <td>1</td>\n",
              "      <td>1</td>\n",
              "    </tr>\n",
              "    <tr>\n",
              "      <th>4</th>\n",
              "      <td>1</td>\n",
              "      <td>1</td>\n",
              "    </tr>\n",
              "    <tr>\n",
              "      <th>5</th>\n",
              "      <td>1</td>\n",
              "      <td>1</td>\n",
              "    </tr>\n",
              "    <tr>\n",
              "      <th>...</th>\n",
              "      <td>...</td>\n",
              "      <td>...</td>\n",
              "    </tr>\n",
              "    <tr>\n",
              "      <th>89</th>\n",
              "      <td>1</td>\n",
              "      <td>0</td>\n",
              "    </tr>\n",
              "    <tr>\n",
              "      <th>90</th>\n",
              "      <td>1</td>\n",
              "      <td>1</td>\n",
              "    </tr>\n",
              "    <tr>\n",
              "      <th>91</th>\n",
              "      <td>1</td>\n",
              "      <td>1</td>\n",
              "    </tr>\n",
              "    <tr>\n",
              "      <th>92</th>\n",
              "      <td>1</td>\n",
              "      <td>1</td>\n",
              "    </tr>\n",
              "    <tr>\n",
              "      <th>93</th>\n",
              "      <td>1</td>\n",
              "      <td>1</td>\n",
              "    </tr>\n",
              "  </tbody>\n",
              "</table>\n",
              "<p>93 rows × 2 columns</p>\n",
              "</div>"
            ],
            "text/plain": [
              "    Manual  Manual_predict\n",
              "1        1               1\n",
              "2        1               1\n",
              "3        1               1\n",
              "4        1               1\n",
              "5        1               1\n",
              "..     ...             ...\n",
              "89       1               0\n",
              "90       1               1\n",
              "91       1               1\n",
              "92       1               1\n",
              "93       1               1\n",
              "\n",
              "[93 rows x 2 columns]"
            ]
          },
          "metadata": {},
          "execution_count": 44
        }
      ]
    },
    {
      "cell_type": "markdown",
      "metadata": {
        "id": "rblvs2Ps04Yf"
      },
      "source": [
        "Podemos fazer isso como acima, fazendo a predição dos valores do nosso conjunto e comparando com os valores *reais*, e você pode ainda obter o percentual de acertos do modelo:"
      ]
    },
    {
      "cell_type": "code",
      "metadata": {
        "colab": {
          "base_uri": "https://localhost:8080/"
        },
        "id": "HWRlmN7x1EZm",
        "outputId": "fa8e3388-2e03-48b6-f168-17c0b2af9acf"
      },
      "source": [
        "sum( df['Manual'] == df['Manual_predict'] ) / len(df)"
      ],
      "execution_count": null,
      "outputs": [
        {
          "output_type": "execute_result",
          "data": {
            "text/plain": [
              "0.8279569892473119"
            ]
          },
          "metadata": {},
          "execution_count": 45
        }
      ]
    },
    {
      "cell_type": "markdown",
      "metadata": {
        "id": "yNdwoo1K1Zuv"
      },
      "source": [
        "Nada mal, não é mesmo? Esse é o *score* do modelo ou a acuracidade, o percentual de acertos do nosso modelo, e pode ser também obtido como: "
      ]
    },
    {
      "cell_type": "code",
      "metadata": {
        "colab": {
          "base_uri": "https://localhost:8080/"
        },
        "id": "VZ19QxDzzYDu",
        "outputId": "8d7ad002-948f-45c6-c5aa-d9d74fc70e6a"
      },
      "source": [
        "logreg.score(X_train, y_train)"
      ],
      "execution_count": null,
      "outputs": [
        {
          "output_type": "execute_result",
          "data": {
            "text/plain": [
              "0.8279569892473119"
            ]
          },
          "metadata": {},
          "execution_count": 46
        }
      ]
    },
    {
      "cell_type": "markdown",
      "metadata": {
        "id": "_LHpzwrv2ini"
      },
      "source": [
        "## Empregando Atributos Categóricos\n",
        "\n",
        "Do mesmo modo que na regressão linear pode haver preditores categóricos importantes que queremos incluir no nosso modelo. O `scikit-learn`, entretanto, não fornece um *hot encode* implícito dos atributos categóricos como no pacote *statsmodels*. Você precisará, portanto, fazer isso de modo explícito."
      ]
    },
    {
      "cell_type": "markdown",
      "metadata": {
        "id": "0_n9V4bweRbV"
      },
      "source": [
        "### Preparando os Dados\n",
        "\n",
        "Vamos incluir aqui o atributo `Type` que, esperamos, tenha alguma influência sobre o tipo de transmissão disponível nos veículos. Precisamos, desse modo, fazer o *hot encode* desse atributo."
      ]
    },
    {
      "cell_type": "code",
      "metadata": {
        "colab": {
          "base_uri": "https://localhost:8080/"
        },
        "id": "BXQPxyWJ2cVo",
        "outputId": "87ee577e-74b0-42ad-c380-369e7f735749"
      },
      "source": [
        "df.Type.value_counts()"
      ],
      "execution_count": null,
      "outputs": [
        {
          "output_type": "execute_result",
          "data": {
            "text/plain": [
              "Midsize    22\n",
              "Small      21\n",
              "Compact    16\n",
              "Sporty     14\n",
              "Large      11\n",
              "Van         9\n",
              "Name: Type, dtype: int64"
            ]
          },
          "metadata": {},
          "execution_count": 47
        }
      ]
    },
    {
      "cell_type": "code",
      "metadata": {
        "colab": {
          "base_uri": "https://localhost:8080/",
          "height": 309
        },
        "id": "ZgJUPOL4327n",
        "outputId": "2464d2be-d9be-4b81-8700-0036703e6e9b"
      },
      "source": [
        "df = pd.get_dummies(df, columns=['Type'])\n",
        "df.head()"
      ],
      "execution_count": null,
      "outputs": [
        {
          "output_type": "execute_result",
          "data": {
            "text/html": [
              "<div>\n",
              "<style scoped>\n",
              "    .dataframe tbody tr th:only-of-type {\n",
              "        vertical-align: middle;\n",
              "    }\n",
              "\n",
              "    .dataframe tbody tr th {\n",
              "        vertical-align: top;\n",
              "    }\n",
              "\n",
              "    .dataframe thead th {\n",
              "        text-align: right;\n",
              "    }\n",
              "</style>\n",
              "<table border=\"1\" class=\"dataframe\">\n",
              "  <thead>\n",
              "    <tr style=\"text-align: right;\">\n",
              "      <th></th>\n",
              "      <th>Manufacturer</th>\n",
              "      <th>Model</th>\n",
              "      <th>MinPrice</th>\n",
              "      <th>Price</th>\n",
              "      <th>MaxPrice</th>\n",
              "      <th>MPGcity</th>\n",
              "      <th>MPGhighway</th>\n",
              "      <th>AirBags</th>\n",
              "      <th>DriveTrain</th>\n",
              "      <th>Cylinders</th>\n",
              "      <th>EngineSize</th>\n",
              "      <th>Horsepower</th>\n",
              "      <th>RPM</th>\n",
              "      <th>Revpermile</th>\n",
              "      <th>Mantransavail</th>\n",
              "      <th>Fueltankcapacity</th>\n",
              "      <th>Passengers</th>\n",
              "      <th>Length</th>\n",
              "      <th>Wheelbase</th>\n",
              "      <th>Width</th>\n",
              "      <th>Turncircle</th>\n",
              "      <th>Rearseatroom</th>\n",
              "      <th>Luggageroom</th>\n",
              "      <th>Weight</th>\n",
              "      <th>Origin</th>\n",
              "      <th>Make</th>\n",
              "      <th>predicted</th>\n",
              "      <th>Manual</th>\n",
              "      <th>Manual_predict</th>\n",
              "      <th>Type_Compact</th>\n",
              "      <th>Type_Large</th>\n",
              "      <th>Type_Midsize</th>\n",
              "      <th>Type_Small</th>\n",
              "      <th>Type_Sporty</th>\n",
              "      <th>Type_Van</th>\n",
              "    </tr>\n",
              "  </thead>\n",
              "  <tbody>\n",
              "    <tr>\n",
              "      <th>1</th>\n",
              "      <td>Acura</td>\n",
              "      <td>Integra</td>\n",
              "      <td>12.9</td>\n",
              "      <td>15.9</td>\n",
              "      <td>18.8</td>\n",
              "      <td>25</td>\n",
              "      <td>31</td>\n",
              "      <td>None</td>\n",
              "      <td>Front</td>\n",
              "      <td>4</td>\n",
              "      <td>1.8</td>\n",
              "      <td>140</td>\n",
              "      <td>6300</td>\n",
              "      <td>2890</td>\n",
              "      <td>Yes</td>\n",
              "      <td>13.2</td>\n",
              "      <td>5</td>\n",
              "      <td>177</td>\n",
              "      <td>102</td>\n",
              "      <td>68</td>\n",
              "      <td>37</td>\n",
              "      <td>26.5</td>\n",
              "      <td>11.0</td>\n",
              "      <td>2705</td>\n",
              "      <td>non-USA</td>\n",
              "      <td>Acura Integra</td>\n",
              "      <td>18.953203</td>\n",
              "      <td>1</td>\n",
              "      <td>1</td>\n",
              "      <td>0</td>\n",
              "      <td>0</td>\n",
              "      <td>0</td>\n",
              "      <td>1</td>\n",
              "      <td>0</td>\n",
              "      <td>0</td>\n",
              "    </tr>\n",
              "    <tr>\n",
              "      <th>2</th>\n",
              "      <td>Acura</td>\n",
              "      <td>Legend</td>\n",
              "      <td>29.2</td>\n",
              "      <td>33.9</td>\n",
              "      <td>38.7</td>\n",
              "      <td>18</td>\n",
              "      <td>25</td>\n",
              "      <td>Driver &amp; Passenger</td>\n",
              "      <td>Front</td>\n",
              "      <td>6</td>\n",
              "      <td>3.2</td>\n",
              "      <td>200</td>\n",
              "      <td>5500</td>\n",
              "      <td>2335</td>\n",
              "      <td>Yes</td>\n",
              "      <td>18.0</td>\n",
              "      <td>5</td>\n",
              "      <td>195</td>\n",
              "      <td>115</td>\n",
              "      <td>71</td>\n",
              "      <td>38</td>\n",
              "      <td>30.0</td>\n",
              "      <td>15.0</td>\n",
              "      <td>3560</td>\n",
              "      <td>non-USA</td>\n",
              "      <td>Acura Legend</td>\n",
              "      <td>27.675476</td>\n",
              "      <td>1</td>\n",
              "      <td>1</td>\n",
              "      <td>0</td>\n",
              "      <td>0</td>\n",
              "      <td>1</td>\n",
              "      <td>0</td>\n",
              "      <td>0</td>\n",
              "      <td>0</td>\n",
              "    </tr>\n",
              "    <tr>\n",
              "      <th>3</th>\n",
              "      <td>Audi</td>\n",
              "      <td>90</td>\n",
              "      <td>25.9</td>\n",
              "      <td>29.1</td>\n",
              "      <td>32.3</td>\n",
              "      <td>20</td>\n",
              "      <td>26</td>\n",
              "      <td>Driver only</td>\n",
              "      <td>Front</td>\n",
              "      <td>6</td>\n",
              "      <td>2.8</td>\n",
              "      <td>172</td>\n",
              "      <td>5500</td>\n",
              "      <td>2280</td>\n",
              "      <td>Yes</td>\n",
              "      <td>16.9</td>\n",
              "      <td>5</td>\n",
              "      <td>180</td>\n",
              "      <td>102</td>\n",
              "      <td>67</td>\n",
              "      <td>37</td>\n",
              "      <td>28.0</td>\n",
              "      <td>14.0</td>\n",
              "      <td>3375</td>\n",
              "      <td>non-USA</td>\n",
              "      <td>Audi 90</td>\n",
              "      <td>23.605082</td>\n",
              "      <td>1</td>\n",
              "      <td>1</td>\n",
              "      <td>1</td>\n",
              "      <td>0</td>\n",
              "      <td>0</td>\n",
              "      <td>0</td>\n",
              "      <td>0</td>\n",
              "      <td>0</td>\n",
              "    </tr>\n",
              "    <tr>\n",
              "      <th>4</th>\n",
              "      <td>Audi</td>\n",
              "      <td>100</td>\n",
              "      <td>30.8</td>\n",
              "      <td>37.7</td>\n",
              "      <td>44.6</td>\n",
              "      <td>19</td>\n",
              "      <td>26</td>\n",
              "      <td>Driver &amp; Passenger</td>\n",
              "      <td>Front</td>\n",
              "      <td>6</td>\n",
              "      <td>2.8</td>\n",
              "      <td>172</td>\n",
              "      <td>5500</td>\n",
              "      <td>2535</td>\n",
              "      <td>Yes</td>\n",
              "      <td>21.1</td>\n",
              "      <td>6</td>\n",
              "      <td>193</td>\n",
              "      <td>106</td>\n",
              "      <td>70</td>\n",
              "      <td>37</td>\n",
              "      <td>31.0</td>\n",
              "      <td>17.0</td>\n",
              "      <td>3405</td>\n",
              "      <td>non-USA</td>\n",
              "      <td>Audi 100</td>\n",
              "      <td>23.605082</td>\n",
              "      <td>1</td>\n",
              "      <td>1</td>\n",
              "      <td>0</td>\n",
              "      <td>0</td>\n",
              "      <td>1</td>\n",
              "      <td>0</td>\n",
              "      <td>0</td>\n",
              "      <td>0</td>\n",
              "    </tr>\n",
              "    <tr>\n",
              "      <th>5</th>\n",
              "      <td>BMW</td>\n",
              "      <td>535i</td>\n",
              "      <td>23.7</td>\n",
              "      <td>30.0</td>\n",
              "      <td>36.2</td>\n",
              "      <td>22</td>\n",
              "      <td>30</td>\n",
              "      <td>Driver only</td>\n",
              "      <td>Rear</td>\n",
              "      <td>4</td>\n",
              "      <td>3.5</td>\n",
              "      <td>208</td>\n",
              "      <td>5700</td>\n",
              "      <td>2545</td>\n",
              "      <td>Yes</td>\n",
              "      <td>21.1</td>\n",
              "      <td>4</td>\n",
              "      <td>186</td>\n",
              "      <td>109</td>\n",
              "      <td>69</td>\n",
              "      <td>39</td>\n",
              "      <td>27.0</td>\n",
              "      <td>13.0</td>\n",
              "      <td>3640</td>\n",
              "      <td>non-USA</td>\n",
              "      <td>BMW 535i</td>\n",
              "      <td>28.838446</td>\n",
              "      <td>1</td>\n",
              "      <td>1</td>\n",
              "      <td>0</td>\n",
              "      <td>0</td>\n",
              "      <td>1</td>\n",
              "      <td>0</td>\n",
              "      <td>0</td>\n",
              "      <td>0</td>\n",
              "    </tr>\n",
              "  </tbody>\n",
              "</table>\n",
              "</div>"
            ],
            "text/plain": [
              "  Manufacturer    Model  MinPrice  ...  Type_Small  Type_Sporty  Type_Van\n",
              "1        Acura  Integra      12.9  ...           1            0         0\n",
              "2        Acura   Legend      29.2  ...           0            0         0\n",
              "3         Audi       90      25.9  ...           0            0         0\n",
              "4         Audi      100      30.8  ...           0            0         0\n",
              "5          BMW     535i      23.7  ...           0            0         0\n",
              "\n",
              "[5 rows x 35 columns]"
            ]
          },
          "metadata": {},
          "execution_count": 48
        }
      ]
    },
    {
      "cell_type": "code",
      "metadata": {
        "colab": {
          "base_uri": "https://localhost:8080/"
        },
        "id": "aFCEnc3F2Ots",
        "outputId": "f811db7a-2d44-4cb0-e559-6e82e3449d82"
      },
      "source": [
        "df.columns"
      ],
      "execution_count": null,
      "outputs": [
        {
          "output_type": "execute_result",
          "data": {
            "text/plain": [
              "Index(['Manufacturer', 'Model', 'MinPrice', 'Price', 'MaxPrice', 'MPGcity',\n",
              "       'MPGhighway', 'AirBags', 'DriveTrain', 'Cylinders', 'EngineSize',\n",
              "       'Horsepower', 'RPM', 'Revpermile', 'Mantransavail', 'Fueltankcapacity',\n",
              "       'Passengers', 'Length', 'Wheelbase', 'Width', 'Turncircle',\n",
              "       'Rearseatroom', 'Luggageroom', 'Weight', 'Origin', 'Make', 'predicted',\n",
              "       'Manual', 'Manual_predict', 'Type_Compact', 'Type_Large',\n",
              "       'Type_Midsize', 'Type_Small', 'Type_Sporty', 'Type_Van'],\n",
              "      dtype='object')"
            ]
          },
          "metadata": {},
          "execution_count": 49
        }
      ]
    },
    {
      "cell_type": "code",
      "metadata": {
        "id": "79u3IJWJ2Otz"
      },
      "source": [
        "X_train = df[['EngineSize', 'Horsepower', 'RPM', 'Price', 'Weight',\n",
        "              'Type_Compact', 'Type_Large', 'Type_Midsize', \n",
        "              'Type_Small', 'Type_Sporty', 'Type_Van']]\n",
        "y_train = df['Manual']\n"
      ],
      "execution_count": null,
      "outputs": []
    },
    {
      "cell_type": "code",
      "metadata": {
        "colab": {
          "base_uri": "https://localhost:8080/"
        },
        "id": "pFICpU852Otz",
        "outputId": "b5068514-9d64-4751-da82-02785f6e5858"
      },
      "source": [
        "from sklearn.linear_model import LogisticRegression  # para configurar o modelo.. \n",
        "\n",
        "# criando o modelo\n",
        "logreg = LogisticRegression(max_iter=1000) # aumentamos o número de iterações para obter a convergência do modelo\n",
        "\n",
        "# treinando o modelo\n",
        "logreg.fit(X_train,y_train)\n",
        "\n"
      ],
      "execution_count": null,
      "outputs": [
        {
          "output_type": "execute_result",
          "data": {
            "text/plain": [
              "LogisticRegression(max_iter=1000)"
            ]
          },
          "metadata": {},
          "execution_count": 51
        }
      ]
    },
    {
      "cell_type": "markdown",
      "metadata": {
        "id": "uLGCQGzP4ZCw"
      },
      "source": [
        "Agora você já sabe como obter a acuracidade (o *score*) do modelo diretamente, e podemos fazer:"
      ]
    },
    {
      "cell_type": "code",
      "metadata": {
        "colab": {
          "base_uri": "https://localhost:8080/"
        },
        "id": "a1LAidLT4YdP",
        "outputId": "cf4994d3-bafc-41b3-ef11-07c7f3df7fbd"
      },
      "source": [
        "logreg.score(X_train, y_train)"
      ],
      "execution_count": null,
      "outputs": [
        {
          "output_type": "execute_result",
          "data": {
            "text/plain": [
              "0.8602150537634409"
            ]
          },
          "metadata": {},
          "execution_count": 52
        }
      ]
    },
    {
      "cell_type": "markdown",
      "metadata": {
        "id": "FPAtbi3B4pkH"
      },
      "source": [
        "Um aumento considerável no percentual de acerto do nosso modelo! Essa é métrica de acuracidade é bom resultado e um bom começo para você entender as métricas de um modelo de classificação, mas é uma medida extremamente simples e mesmo modelos ruins podem ter um acuracidade alta em alguns casos. Outras métricas e formas de avaliação mais elaboradas em modelos de classificação serão vistas mais adiante."
      ]
    },
    {
      "cell_type": "markdown",
      "metadata": {
        "id": "oO3RnKjR44_T"
      },
      "source": [
        "# Síntese\n",
        "\n",
        "Nesta trilha aprendeu alguns princípios comuns e importantes dos modelos de Aprendizado Supervisionado como conjunto de treinamento, variáveis preditoras e objetivo e métricas de avaliação dos modelos. Você deve ter compreendido também a diferença de solução de problemas regressão, que estimam valores, e de classificação, que fazem predição de categorias dos dados. De qualquer modo, ambos são modelos supervisionados onde os casos de treinamento são previamente rotulados com as saídas (variável objetivo) através da qual construímos o modelo para a predição de novos casos. \n",
        "\n",
        "Você também aprendeu a criar modelos de Regressão Linear Simples e Múltipla e de Regressão Logística em Python, empregando os pacotes `statsmodels` e `scikit-learn`.O `scikit-learn` é um pacote que implementa a maior parte dos modelos que empregaremos à seguir e você mais aprender ainda muito mais sobre ele. \n",
        "\n",
        "\n"
      ]
    },
    {
      "cell_type": "markdown",
      "metadata": {
        "id": "k4noMRT_YUd7"
      },
      "source": [
        "# Para Saber Mais\n",
        "\n",
        "* Modelos de regressão linear podem ser associados a transformações, como por exemplo a aplicação de $log()$, e podemos aplicar um modelo para aproxima $ Log(y) = a_0 + a_1 x_1 + a_2 x_2 + ...$ no lugar $y$. Isso expande a capacidade do modelo linear e é útil em uma série de problemas práticos como cálculo de preços de imóveis e aluguéis por exemplo. Pesquise sobre isso ou tente reproduzir o modelo de preços de veículos criado aqui obtendo um modelo de $Log(Price)$. \n",
        "\n",
        "* Vamos relembrar o que é o *Hot Encode*? Acesse: https://www.educative.io/blog/one-hot-encoding e veja também como fazer o *hot encode* com o `Pandas` ou ainda com `scikit-learn`.\n",
        "\n",
        "* Entenda melhor por que modelo de regressão linear não são adequados para classificação, acesse Molnar Christoph, **Interpretable Machine Learning: \n",
        "A Guide for Making Black Box Models Explainable** em: https://christophm.github.io/interpretable-ml-book/ cap. 5.2 Logistic Regression.\n",
        "\n",
        "* Aprenda mais sobre a criação de modelos com o pacote `scikit-learn` em **An introduction to machine learning with scikit-learn** Disponível em: https://scikit-learn.org/stable/tutorial/basic/tutorial.html. Ou você ainda pode preferir acessar Jake VanderPlas. **Python Data Science Handbook**  Disponível em: https://jakevdp.github.io/PythonDataScienceHandbook/,  no capítulo *Introducing SciKit-Learn*, https://jakevdp.github.io/PythonDataScienceHandbook/05.02-introducing-scikit-learn.html."
      ]
    },
    {
      "cell_type": "markdown",
      "metadata": {
        "id": "fa24d435"
      },
      "source": [
        "# Referências"
      ]
    },
    {
      "cell_type": "markdown",
      "metadata": {
        "id": "zlJfWteFyhFy"
      },
      "source": [
        "\n",
        "Molnar Christoph, **Interpretable Machine Learning: \n",
        "A Guide for Making Black Box Models Explainable** Disponível em: https://christophm.github.io/interpretable-ml-book/ Acesso em: 06 de Novembro de 2021.\n",
        "\n",
        "Kotu, Vijay; Deshpande, Balachandre **Data Science: concepts and practice**. 2nd ed. Cambridge, [England]: Morgan Kaufmann, c2019. E-book (570 p.) ISBN 9780128147627 (electronic bk.). Disponível em: http://pergamum.mackenzie.br:8080/pergamumweb/vinculos/00003c/00003cef.jpg.\n",
        "\n",
        "Oliveira, Rogério de. **Probabilidade e Estatística Aplicada com R** Disponível em: https://github.com/Rogerio-mack/Probabilidade-Estatistica-Aplicada-R Acesso em: 06 de Novembro de 2021.\n",
        "\n",
        "Manapat, Michael. **Introduction to Machine Learning with Python**. Em An Introduction to Machine Learning. EMag Edição 50 (Abr 2017)\n",
        "\n",
        "Navarro, Danielle, **Learning Statistics with R** disponível em: https://learningstatisticswithr.com/book/ Acesso: 06 de Novembro de 2021.\n",
        "\n",
        "Jake VanderPlas. **Python Data Science Handbook**  O'Reilly Media, Inc. (2016). ISBN: 9781491912058. Disponível em: https://jakevdp.github.io/PythonDataScienceHandbook/. Acesso: 06 de Novembro de 2021.\n",
        "\n",
        "Larose, Chantal D.; Larose, Daniel T. **Data Science Using Python and R** Hoboken: Wiley, c2019. E-book (259 p.) (Wiley Series on Methods and Applications in Data Mining Ser.). ISBN 9781119526834 (electronic bk.). Disponível em: https://www3.mackenzie.br/biblioteca_virtual/index.php?tipoBiblio=ebookcentral&flashObg=n\n",
        "\n",
        "___. **An introduction to machine learning with scikit-learn** Disponível em: https://scikit-learn.org/stable/tutorial/basic/tutorial.html Acesso em: 06 de Novembro de 2021.\n",
        "\n",
        "___. **scikit-learn: machine learning in Python** Disponível em: http://scipy-lectures.org/packages/scikit-learn/index.html Acesso em: 06 de Novembro de 2021."
      ]
    }
  ]
}