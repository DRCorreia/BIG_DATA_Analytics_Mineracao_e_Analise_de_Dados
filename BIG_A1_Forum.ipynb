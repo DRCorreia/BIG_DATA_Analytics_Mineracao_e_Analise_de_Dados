{
  "nbformat": 4,
  "nbformat_minor": 0,
  "metadata": {
    "colab": {
      "name": "BIG_A1_Forum.ipynb",
      "provenance": [],
      "collapsed_sections": [],
      "include_colab_link": true
    },
    "kernelspec": {
      "name": "python3",
      "display_name": "Python 3"
    }
  },
  "cells": [
    {
      "cell_type": "markdown",
      "metadata": {
        "id": "view-in-github",
        "colab_type": "text"
      },
      "source": [
        "<a href=\"https://colab.research.google.com/github/Rogerio-mack/BIG_DATA_Analytics_Mineracao_e_Analise_de_Dados/blob/main/BIG_A1_Forum.ipynb\" target=\"_parent\"><img src=\"https://colab.research.google.com/assets/colab-badge.svg\" alt=\"Open In Colab\"/></a>"
      ]
    },
    {
      "cell_type": "markdown",
      "metadata": {
        "id": "J3LMBfpeHTwb"
      },
      "source": [
        "<head>\n",
        "  <meta name=\"author\" content=\"Rogério de Oliveira\">\n",
        "  <meta institution=\"author\" content=\"Universidade Presbiteriana Mackenzie\">\n",
        "</head>\n",
        "\n",
        "<img src=\"http://meusite.mackenzie.br/rogerio/mackenzie_logo/UPM.2_horizontal_vermelho.jpg\" width=300, align=\"right\">\n",
        "<!-- <h1 align=left><font size = 6, style=\"color:rgb(200,0,0)\"> optional title </font></h1> -->\n"
      ]
    },
    {
      "cell_type": "markdown",
      "metadata": {
        "id": "zQX8WQPeHTwc"
      },
      "source": [
        "# **Fórum de Discussão** \n",
        "<br>\n",
        "\n",
        "<img src=\"https://spectrum.ieee.org/media-library/andrew-ng-listens-during-the-power-of-data-sooner-than-you-think-global-technology-conference-in-brooklyn-new-york-on-wednesday-october-30-2019.jpg?id=29206806&width=2525&height=1894\" width=300 align=center>\n",
        "\n",
        "<br>\n",
        "<br>\n",
        "<br>\n",
        "\n",
        "## **Andrew Ng: Unbiggen AI** O pioneiro da IA ​​diz que é hora de soluções “centradas em dados” de tamanho inteligente para grandes problemas\n",
        "---\n",
        "<br>\n",
        "\n",
        "*Andrew Ng é foi um dos pioneiros no uso GPUs para modelos de aprendizado profundo  com seus alunos da Universidade de Stanford, foi fundador do Coursera, cofundador do Google Brain em 2011 e por três anos foi cientista-chefe do Baidu. Ele é assim uma referência quando falamos de IA e  Aprendizado de Máquina aplicadas à Ciência de Dados.*\n",
        "\n",
        "Acesse a entrevista **Andrew Ng: Unbiggen AI The AI pioneer says it’s time for smart-sized, “data-centric” solutions to big issues** escolha **UM ÚNICO PONTO DA ENTREVISTA** para comentar, explorar e compartilhar EM UM OU DOIS PARÁGRAFOS com seus colegas neste fórum. Se empregar informações de outras fontes, o que será bastante bem vindo, não deixe de indicar as referências. "
      ]
    }
  ]
}